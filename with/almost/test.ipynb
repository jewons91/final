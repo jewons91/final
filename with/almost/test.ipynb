{
 "cells": [
  {
   "cell_type": "code",
<<<<<<< HEAD
=======
   "execution_count": 1,
   "metadata": {},
   "outputs": [],
   "source": [
    "import pandas as pd\n",
    "import networkx as nx"
   ]
  },
  {
   "cell_type": "code",
>>>>>>> 257d464d1a7f4c3a6f1334ef70f0d9a5fb4f854f
   "execution_count": 2,
   "metadata": {},
   "outputs": [],
   "source": [
<<<<<<< HEAD
    "import torch\n",
    "import torch.nn as nn\n",
    "import math\n"
=======
    "# 예시 데이터프레임 생성 (18만 개의 샘플과 3개의 레이블)\n",
    "num_samples = 180000\n",
    "data = {\n",
    "    'feature1': [0] * num_samples,  # 실제 피처 값으로 대체\n",
    "    'feature2': [0] * num_samples,\n",
    "    # ... (18개 피처)\n",
    "    'label': ['A'] * (num_samples // 3) + ['B'] * (num_samples // 3) + ['C'] * (num_samples // 3)\n",
    "}\n",
    "df = pd.DataFrame(data)"
>>>>>>> 257d464d1a7f4c3a6f1334ef70f0d9a5fb4f854f
   ]
  },
  {
   "cell_type": "code",
<<<<<<< HEAD
   "execution_count": 13,
   "metadata": {},
   "outputs": [],
   "source": [
    "d_model = 128\n",
    "max_len = 5000\n",
    "pe = torch.zeros(max_len, d_model)\n",
    "position = torch.arange(0, max_len, dtype=torch.float).unsqueeze(1)\n",
    "div_term = torch.exp(torch.arange(0, d_model, 2).float() * -(math.log(10000.0) / d_model))\n"
=======
   "execution_count": 4,
   "metadata": {},
   "outputs": [],
   "source": [
    "# 그래프 생성\n",
    "G = nx.Graph()\n"
>>>>>>> 257d464d1a7f4c3a6f1334ef70f0d9a5fb4f854f
   ]
  },
  {
   "cell_type": "code",
<<<<<<< HEAD
   "execution_count": 19,
   "metadata": {},
   "outputs": [
    {
     "data": {
      "text/plain": [
       "torch.Size([5000, 128])"
      ]
     },
     "execution_count": 19,
     "metadata": {},
     "output_type": "execute_result"
    }
   ],
   "source": [
    "pe.shape"
   ]
  },
  {
   "cell_type": "code",
   "execution_count": 10,
=======
   "execution_count": 6,
>>>>>>> 257d464d1a7f4c3a6f1334ef70f0d9a5fb4f854f
   "metadata": {},
   "outputs": [],
   "source": [
    "\n",
<<<<<<< HEAD
    "pe[:, 0::2] = torch.sin(position * div_term)  # 짝수 인덱스\n",
    "pe[:, 1::2] = torch.cos(position * div_term)  # 홀수 인덱스\n",
    "pe = pe.unsqueeze(0)  # 배치 차원 추가"
=======
    "# 노드 추가 (인덱스와 레이블을 사용)\n",
    "for i in range(num_samples):\n",
    "    G.add_node(i, label=df['label'][i])\n"
>>>>>>> 257d464d1a7f4c3a6f1334ef70f0d9a5fb4f854f
   ]
  },
  {
   "cell_type": "code",
<<<<<<< HEAD
   "execution_count": 12,
   "metadata": {},
   "outputs": [
    {
     "data": {
      "text/plain": [
       "torch.Size([1, 5000, 128])"
      ]
     },
     "execution_count": 12,
     "metadata": {},
     "output_type": "execute_result"
    }
   ],
   "source": [
    "pe.shape"
=======
   "execution_count": 8,
   "metadata": {},
   "outputs": [
    {
     "ename": "MemoryError",
     "evalue": "",
     "output_type": "error",
     "traceback": [
      "\u001b[1;31m---------------------------------------------------------------------------\u001b[0m",
      "\u001b[1;31mMemoryError\u001b[0m                               Traceback (most recent call last)",
      "Cell \u001b[1;32mIn[8], line 6\u001b[0m\n\u001b[0;32m      4\u001b[0m \u001b[38;5;28;01mfor\u001b[39;00m i \u001b[38;5;129;01min\u001b[39;00m \u001b[38;5;28mrange\u001b[39m(\u001b[38;5;28mlen\u001b[39m(indices)):\n\u001b[0;32m      5\u001b[0m     \u001b[38;5;28;01mfor\u001b[39;00m j \u001b[38;5;129;01min\u001b[39;00m \u001b[38;5;28mrange\u001b[39m(i \u001b[38;5;241m+\u001b[39m \u001b[38;5;241m1\u001b[39m, \u001b[38;5;28mlen\u001b[39m(indices)):\n\u001b[1;32m----> 6\u001b[0m         \u001b[43mG\u001b[49m\u001b[38;5;241;43m.\u001b[39;49m\u001b[43madd_edge\u001b[49m\u001b[43m(\u001b[49m\u001b[43mindices\u001b[49m\u001b[43m[\u001b[49m\u001b[43mi\u001b[49m\u001b[43m]\u001b[49m\u001b[43m,\u001b[49m\u001b[43m \u001b[49m\u001b[43mindices\u001b[49m\u001b[43m[\u001b[49m\u001b[43mj\u001b[49m\u001b[43m]\u001b[49m\u001b[43m)\u001b[49m\n",
      "File \u001b[1;32mc:\\ProgramData\\anaconda3\\envs\\final\\lib\\site-packages\\networkx\\classes\\graph.py:965\u001b[0m, in \u001b[0;36mGraph.add_edge\u001b[1;34m(self, u_of_edge, v_of_edge, **attr)\u001b[0m\n\u001b[0;32m    963\u001b[0m datadict\u001b[38;5;241m.\u001b[39mupdate(attr)\n\u001b[0;32m    964\u001b[0m \u001b[38;5;28mself\u001b[39m\u001b[38;5;241m.\u001b[39m_adj[u][v] \u001b[38;5;241m=\u001b[39m datadict\n\u001b[1;32m--> 965\u001b[0m \u001b[38;5;28;43mself\u001b[39;49m\u001b[38;5;241;43m.\u001b[39;49m\u001b[43m_adj\u001b[49m\u001b[43m[\u001b[49m\u001b[43mv\u001b[49m\u001b[43m]\u001b[49m\u001b[43m[\u001b[49m\u001b[43mu\u001b[49m\u001b[43m]\u001b[49m \u001b[38;5;241m=\u001b[39m datadict\n\u001b[0;32m    966\u001b[0m nx\u001b[38;5;241m.\u001b[39m_clear_cache(\u001b[38;5;28mself\u001b[39m)\n",
      "\u001b[1;31mMemoryError\u001b[0m: "
     ]
    }
   ],
   "source": [
    "\n",
    "# 레이블 기반으로 엣지 연결\n",
    "for label in df['label'].unique():\n",
    "    indices = df.index[df['label'] == label].tolist()\n",
    "    for i in range(len(indices)):\n",
    "        for j in range(i + 1, len(indices)):\n",
    "            G.add_edge(indices[i], indices[j])\n"
   ]
  },
  {
   "cell_type": "code",
   "execution_count": null,
   "metadata": {},
   "outputs": [],
   "source": [
    "\n",
    "# 엣지 개수 확인\n",
    "print(f'총 엣지 수: {G.number_of_edges()}')\n"
>>>>>>> 257d464d1a7f4c3a6f1334ef70f0d9a5fb4f854f
   ]
  }
 ],
 "metadata": {
  "kernelspec": {
   "display_name": "final",
   "language": "python",
   "name": "python3"
  },
  "language_info": {
   "codemirror_mode": {
    "name": "ipython",
    "version": 3
   },
   "file_extension": ".py",
   "mimetype": "text/x-python",
   "name": "python",
   "nbconvert_exporter": "python",
   "pygments_lexer": "ipython3",
   "version": "3.10.14"
  }
 },
 "nbformat": 4,
 "nbformat_minor": 2
}
