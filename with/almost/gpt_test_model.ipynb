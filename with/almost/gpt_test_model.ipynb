{
 "cells": [
  {
   "cell_type": "code",
   "execution_count": 5,
   "metadata": {},
   "outputs": [],
   "source": [
    "import torch\n",
    "from torch_geometric.data import Data\n",
    "\n",
    "# 예시 데이터: 노드 특성 (feature)와 엣지 인덱스 설정\n",
    "node_features = torch.rand((180000, 10))  # 180,000개의 노드, 각 노드는 10개의 특성\n",
    "edge_index = torch.randint(0, 180000, (2, 500000))  # 예시 엣지 인덱스 (500,000개의 엣지)"
   ]
  },
  {
   "cell_type": "code",
   "execution_count": 7,
   "metadata": {},
   "outputs": [
    {
     "data": {
      "text/plain": [
       "tensor([[ 19309,  81334, 141500,  ..., 154973, 117791,  44683],\n",
       "        [ 16248,  34634, 115243,  ...,  47101, 163301, 102108]])"
      ]
     },
     "execution_count": 7,
     "metadata": {},
     "output_type": "execute_result"
    }
   ],
   "source": [
    "edge_index"
   ]
  },
  {
   "cell_type": "code",
   "execution_count": null,
   "metadata": {},
   "outputs": [],
   "source": [
    "# 그래프 데이터 생성\n",
    "data = Data(x=node_features, edge_index=edge_index)"
   ]
  },
  {
   "cell_type": "code",
   "execution_count": 2,
   "metadata": {},
   "outputs": [],
   "source": [
    "import torch.nn.functional as F\n",
    "from torch_geometric.nn import GCNConv\n",
    "\n",
    "class GCN(torch.nn.Module):\n",
    "    def __init__(self, input_dim, hidden_dim, output_dim):\n",
    "        super(GCN, self).__init__()\n",
    "        self.conv1 = GCNConv(input_dim, hidden_dim)\n",
    "        self.conv2 = GCNConv(hidden_dim, output_dim)\n",
    "\n",
    "    def forward(self, x, edge_index):\n",
    "        x = self.conv1(x, edge_index)\n",
    "        x = F.relu(x)\n",
    "        x = self.conv2(x, edge_index)\n",
    "        return x"
   ]
  },
  {
   "cell_type": "code",
   "execution_count": 8,
   "metadata": {},
   "outputs": [
    {
     "data": {
      "text/plain": [
       "tensor([1, 1, 1,  ..., 0, 0, 1])"
      ]
     },
     "execution_count": 8,
     "metadata": {},
     "output_type": "execute_result"
    }
   ],
   "source": [
    "from torch_geometric.loader import DataLoader\n",
    "\n",
    "# 가상의 레이블 생성 (예: 노드 분류)\n",
    "labels = torch.randint(0, 2, (180000,))  # 0 또는 1의 레이블"
   ]
  },
  {
   "cell_type": "code",
   "execution_count": null,
   "metadata": {},
   "outputs": [],
   "source": [
    "\n",
    "# 데이터 로더 설정\n",
    "train_loader = DataLoader([data], batch_size=1)\n",
    "\n",
    "# 모델, 손실 함수, 옵티마이저 설정\n",
    "model = GCN(input_dim=10, hidden_dim=16, output_dim=2)\n",
    "optimizer = torch.optim.Adam(model.parameters(), lr=0.01)\n",
    "loss_fn = torch.nn.CrossEntropyLoss()\n",
    "\n",
    "# 학습 루프\n",
    "for epoch in range(100):  # 100 에폭 학습\n",
    "    model.train()\n",
    "    for batch in train_loader:\n",
    "        optimizer.zero_grad()\n",
    "        out = model(batch.x, batch.edge_index)\n",
    "        loss = loss_fn(out, labels)\n",
    "        loss.backward()\n",
    "        optimizer.step()\n",
    "    print(f'Epoch {epoch+1}, Loss: {loss.item()}')"
   ]
  },
  {
   "cell_type": "code",
   "execution_count": 4,
   "metadata": {},
   "outputs": [
    {
     "name": "stdout",
     "output_type": "stream",
     "text": [
      "Predicted class for the new node: 1\n"
     ]
    }
   ],
   "source": [
    "# 새로운 단일 데이터 생성\n",
    "new_node_feature = torch.rand((1, 10))  # 새로운 노드의 특성\n",
    "\n",
    "# 기존 그래프에 새로운 노드 추가\n",
    "new_edge_index = torch.tensor([[0], [180000]])  # 새로운 노드와 기존 노드 연결 (예: 0번 노드와 연결)\n",
    "\n",
    "# 엣지 인덱스 업데이트\n",
    "updated_edge_index = torch.cat([data.edge_index, new_edge_index], dim=1)\n",
    "\n",
    "# 새로운 데이터 생성\n",
    "new_data = Data(x=torch.cat([data.x, new_node_feature], dim=0), edge_index=updated_edge_index)\n",
    "\n",
    "# 예측 수행\n",
    "model.eval()\n",
    "with torch.no_grad():\n",
    "    output = model(new_data.x, new_data.edge_index)\n",
    "    prediction = output[-1]  # 새로운 노드의 예측\n",
    "    predicted_class = prediction.argmax().item()  # 가장 높은 클래스 예측\n",
    "    print(f'Predicted class for the new node: {predicted_class}')"
   ]
  },
  {
   "cell_type": "code",
   "execution_count": null,
   "metadata": {},
   "outputs": [],
   "source": []
  }
 ],
 "metadata": {
  "kernelspec": {
   "display_name": "final",
   "language": "python",
   "name": "python3"
  },
  "language_info": {
   "codemirror_mode": {
    "name": "ipython",
    "version": 3
   },
   "file_extension": ".py",
   "mimetype": "text/x-python",
   "name": "python",
   "nbconvert_exporter": "python",
   "pygments_lexer": "ipython3",
   "version": "3.10.14"
  }
 },
 "nbformat": 4,
 "nbformat_minor": 2
}
