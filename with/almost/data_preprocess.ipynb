{
 "cells": [
  {
   "cell_type": "code",
   "execution_count": 7,
   "metadata": {},
   "outputs": [],
   "source": [
    "import pandas as pd\n",
    "from tqdm import tqdm\n",
    "from datetime import datetime, timedelta"
   ]
  },
  {
   "cell_type": "code",
   "execution_count": 8,
   "metadata": {},
   "outputs": [],
   "source": [
    "def get_stock_map_load():\n",
    "    data = pd.read_csv('C:/big18/final/with/almost/전종목시세.csv', encoding='cp949')\n",
    "    data =data[['종목코드','종목명','상장주식수']]\n",
    "    result_map = {row['종목코드']: {'종목명': row['종목명'], '상장주식수': row['상장주식수']} for index, row in data.iterrows()}\n",
    "    return result_map\n",
    "\n",
    "def get_stock_share(code):\n",
    "    map = get_stock_map_load()\n",
    "    stock_share = map[f'{code}']['상장주식수']\n",
    "    return stock_share\n",
    "\n",
    "def get_stock_name(code):\n",
    "    map = get_stock_map_load()\n",
    "    stock_name = map[f'{code}']['종목명']\n",
    "    return stock_name"
   ]
  },
  {
   "cell_type": "code",
   "execution_count": 9,
   "metadata": {},
   "outputs": [],
   "source": [
    "codes = ['000660'] # 전처리할 종목 코드"
   ]
  },
  {
   "cell_type": "code",
   "execution_count": 10,
   "metadata": {},
   "outputs": [],
   "source": [
    "# 상장주식수로 거래량 스케일링\n",
    "def divide_volumes(row,share):\n",
    "    try:\n",
    "        divisor = share\n",
    "        row['power'] = row['매수량'] - row['매도량']\n",
    "        row['power'] = row['power']*1000000 / divisor\n",
    "    except KeyError:\n",
    "        print(f\"코드 {row['code']}를 찾지 못했습니다.\")\n",
    "        input()\n",
    "    return row"
   ]
  },
  {
   "cell_type": "code",
   "execution_count": 11,
   "metadata": {},
   "outputs": [
    {
     "name": "stderr",
     "output_type": "stream",
     "text": [
      "100%|██████████| 1/1 [00:24<00:00, 24.77s/it]"
     ]
    },
    {
     "name": "stdout",
     "output_type": "stream",
     "text": [
      "000660 SK하이닉스 처리 완료\n"
     ]
    },
    {
     "name": "stderr",
     "output_type": "stream",
     "text": [
      "\n"
     ]
    }
   ],
   "source": [
    "import pandas as pd\n",
    "from tqdm import tqdm\n",
    "from datetime import datetime, timedelta\n",
    "\n",
    "# 결과를 저장할 리스트\n",
    "\n",
    "for code in codes:\n",
    "    stock_name = get_stock_name(code) # 해당 코드의 종목명저장\n",
    "    stock_share = get_stock_share(code) # 해당 코드의 상장주식 수\n",
    "    \n",
    "    df = pd.read_csv(f'C:\\\\big18\\\\final\\\\with\\\\almost\\\\real_data\\\\{code}.csv',encoding='cp949')\n",
    "    df = df[['code','종가','매수량','매도량']]\n",
    "\n",
    "    df = divide_volumes(df, stock_share)\n",
    "    \n",
    "    # 데이터 로드\n",
    "    df=df[['code','종가', 'power']]\n",
    "    df.rename(columns={'종가' : 'close'}, inplace=True)\n",
    "\n",
    "    # Unique 코드 및 카운트 계산\n",
    "    counts = df['code'].value_counts()\n",
    "    counts_dict = counts.to_dict()\n",
    "    \n",
    "    # 결과를 저장할 리스트\n",
    "    results = []\n",
    "    \n",
    "    for key in tqdm(counts_dict.keys()):\n",
    "        value = counts_dict[key]\n",
    "        for i in range(value - 12):   # 예측 분 -1\n",
    "            start_idx = counts_dict[key] - value + i\n",
    "            end_idx = start_idx + 9  # 묶을 분 -1\n",
    "\n",
    "            # 벡터화하여 연산\n",
    "            vectorList = []\n",
    "            # for col in ['close','power']:\n",
    "            #     diff = (df[col].values[start_idx:end_idx] - df[col].values[start_idx + 1:end_idx + 1]) \n",
    "            #     vectorList.extend(round(d, 2) for d in diff)\n",
    "            diff = (df['close'].values[start_idx:end_idx] - df['close'].values[start_idx + 1:end_idx + 1]) / df['close'].values[start_idx:end_idx] * 10000\n",
    "            vectorList.extend(round(d, 2) for d in diff)\n",
    "            diff = (df['power'].values[start_idx:end_idx] - df['power'].values[start_idx + 1:end_idx + 1])\n",
    "            vectorList.extend(round(d, 2) for d in diff)\n",
    "\n",
    "            openValue = df['close'][start_idx + 12] - df['close'][start_idx + 9]\n",
    "            if openValue > 0:\n",
    "                vectorList.append(2.0)\n",
    "            elif openValue == 0:\n",
    "                vectorList.append(1.0)\n",
    "            else:\n",
    "                vectorList.append(0.0)\n",
    "\n",
    "            results.append(vectorList)\n",
    "            \n",
    "        print(f'{code} {stock_name} 처리 완료')\n",
    "\n",
    "    # 결과를 DataFrame으로 변환\n",
    "    results_df = pd.DataFrame(results)\n",
    "\n",
    "    # CSV 파일에 저장\n",
    "    results_df.to_csv(f'C:\\\\big18\\\\final\\\\with\\\\almost\\\\data\\\\{code}전체데이터Vector.csv', index=False)"
   ]
  },
  {
   "cell_type": "code",
   "execution_count": null,
   "metadata": {},
   "outputs": [],
   "source": []
  },
  {
   "cell_type": "code",
   "execution_count": 12,
   "metadata": {},
   "outputs": [],
   "source": [
    "# import pandas as pd\n",
    "# import glob\n",
    "\n",
    "# # CSV 파일들이 있는 디렉토리 경로\n",
    "# path = './trainStockData/'  # 여기에 CSV 파일들이 있는 경로를 입력하세요\n",
    "# all_files = glob.glob(path + \"/*.csv\")  # 모든 CSV 파일 목록 가져오기\n",
    "# all_files\n",
    "# # 모든 CSV 파일을 읽고 하나의 데이터프레임으로 합치기\n",
    "# dataframes = []\n",
    "# for filename in all_files:\n",
    "#     df = pd.read_csv(filename)  # CSV 파일 읽기\n",
    "#     dataframes.append(df)  # 데이터프레임 리스트에 추가\n",
    "\n",
    "# # 모든 데이터프레임을 하나로 합치기\n",
    "# combined_df = pd.concat(dataframes, ignore_index=True)\n",
    "\n",
    "# # 결과를 새로운 CSV 파일로 저장\n",
    "# combined_df.to_csv('combined_data.csv', index=False)  # 원하는 파일명으로 저장\n",
    "# print('저장완료')\n"
   ]
  }
 ],
 "metadata": {
  "kernelspec": {
   "display_name": "dl-dev",
   "language": "python",
   "name": "python3"
  },
  "language_info": {
   "codemirror_mode": {
    "name": "ipython",
    "version": 3
   },
   "file_extension": ".py",
   "mimetype": "text/x-python",
   "name": "python",
   "nbconvert_exporter": "python",
   "pygments_lexer": "ipython3",
   "version": "3.10.14"
  }
 },
 "nbformat": 4,
 "nbformat_minor": 2
}
