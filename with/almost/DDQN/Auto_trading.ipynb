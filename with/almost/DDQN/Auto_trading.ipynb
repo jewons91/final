{
 "cells": [
  {
   "cell_type": "code",
   "execution_count": 403,
   "metadata": {},
   "outputs": [],
   "source": [
    "import hmac\n",
    "import hashlib\n",
    "import requests\n",
    "import time\n",
    "import urllib.parse\n",
    "import datetime\n",
    "import pyupbit\n",
    "import pandas as pd\n",
    "import datetime\n",
    "import numpy as np\n",
    "import pickle"
   ]
  },
  {
   "cell_type": "code",
   "execution_count": 404,
   "metadata": {},
   "outputs": [],
   "source": [
    "API_KEY = 'WNfy5TCeABGgzB2r5aplShWYPZ3YXUwQR35DmQHe4fE'\n",
    "SECRET_KEY = 'OAa2yT19b9ZaD8E2WycMfpcW8V4Wn5mse6zW_z3vdCI'\n",
    "base_url = \"https://api.korbit.co.kr\""
   ]
  },
  {
   "cell_type": "markdown",
   "metadata": {},
   "source": [
    "##   서명생성"
   ]
  },
  {
   "cell_type": "code",
   "execution_count": 405,
   "metadata": {},
   "outputs": [],
   "source": [
    "def create_hmac_sha256_signature(SECRET_KEY, query_string):\n",
    "    key_bytes = SECRET_KEY.encode()\n",
    "    message_bytes = query_string.encode()\n",
    "    hmac_hash = hmac.new(key_bytes, message_bytes, hashlib.sha256)\n",
    "    return hmac_hash.hexdigest()"
   ]
  },
  {
   "cell_type": "markdown",
   "metadata": {},
   "source": [
    "##    계좌 정보 가져오기"
   ]
  },
  {
   "cell_type": "code",
   "execution_count": 406,
   "metadata": {},
   "outputs": [
    {
     "name": "stdout",
     "output_type": "stream",
     "text": [
      "KRW Balance: 29\n"
     ]
    }
   ],
   "source": [
    "def get_krw_balance():\n",
    "    timestamp = int(time.time() * 1000)\n",
    "\n",
    "    params = {\n",
    "        \"timestamp\": str(timestamp)\n",
    "    }\n",
    "    query_string = urllib.parse.urlencode(params)\n",
    "\n",
    "    signature = create_hmac_sha256_signature(SECRET_KEY, query_string)\n",
    "    params[\"signature\"] = signature\n",
    "    query_string = urllib.parse.urlencode(params)\n",
    "\n",
    "    url = f\"{base_url}/v2/balance?{query_string}\"\n",
    "\n",
    "    headers = {\n",
    "        \"X-KAPI-KEY\": API_KEY\n",
    "    }\n",
    "\n",
    "    try:\n",
    "        response = requests.get(url, headers=headers)\n",
    "        response_data = response.json()\n",
    "        \n",
    "        if response_data and response_data.get('success'):\n",
    "            balances = response_data['data']\n",
    "            for asset in balances:\n",
    "                if asset['currency'] == 'krw':\n",
    "                    krw_balance = asset['balance']\n",
    "                    krw_balance_integer = int(float(krw_balance))  # 정수로 변환\n",
    "                    print(\"KRW Balance:\", krw_balance_integer)\n",
    "                    return krw_balance_integer  # 잔액 반환\n",
    "            print(\"KRW Balance not found.\")\n",
    "        else:\n",
    "            print(\"Failed to retrieve balance.\")\n",
    "\n",
    "    except Exception as e:\n",
    "        print(\"Error Get Balance:\", e)\n",
    "        return None\n",
    "\n",
    "bank_account = get_krw_balance()"
   ]
  },
  {
   "cell_type": "code",
   "execution_count": 407,
   "metadata": {},
   "outputs": [
    {
     "name": "stdout",
     "output_type": "stream",
     "text": [
      "1725009300325\n",
      "Balance Response: {'success': True, 'data': [{'timestamp': 1724997600000, 'open': '79856000', 'high': '80520000', 'low': '79770000', 'close': '80520000', 'volume': '2.55546182'}, {'timestamp': 1725001200000, 'open': '80529000', 'high': '80763000', 'low': '80381000', 'close': '80400000', 'volume': '1.79707552'}, {'timestamp': 1725004800000, 'open': '80400000', 'high': '80720000', 'low': '80400000', 'close': '80600000', 'volume': '2.51917549'}, {'timestamp': 1725008400000, 'open': '80600000', 'high': '80750000', 'low': '80590000', 'close': '80750000', 'volume': '0.11652652'}]}\n"
     ]
    }
   ],
   "source": [
    "# 자산 현황 조회\n",
    "def get_candle(symbol, interval, limit, end):\n",
    "    params = {\n",
    "      \"symbol\" : str(symbol),\n",
    "      \"interval\" : str(interval),\n",
    "      \"limit\" : limit,\n",
    "      \"end\" : end\n",
    "    }\n",
    "    query_string = urllib.parse.urlencode(params)\n",
    "\n",
    "    signature = create_hmac_sha256_signature(SECRET_KEY, query_string)\n",
    "\n",
    "    # 생성한 서명을 요청 변수에 추가\n",
    "    params[\"signature\"] = signature\n",
    "    query_string = urllib.parse.urlencode(params)\n",
    "\n",
    "    url = f\"{base_url}/v2/candles?{query_string}\"\n",
    "\n",
    "    # 요청 헤더에 API 키 입력\n",
    "    headers = {\n",
    "        \"X-KAPI-KEY\": API_KEY\n",
    "    }\n",
    "\n",
    "    # HTTP GET 요청\n",
    "    try:\n",
    "        response = requests.get(url, headers=headers)\n",
    "        return response.json()\n",
    "    except Exception as e:\n",
    "        print(\"Error Get Balance:\", e)\n",
    "        return None\n",
    "end = int(time.time() * 1000)\n",
    "print(end)\n",
    "response = get_candle(\"btc_krw\",\"60\", 4, end)\n",
    "print(\"Balance Response:\", response)"
   ]
  },
  {
   "cell_type": "markdown",
   "metadata": {},
   "source": [
    "##    분봉 가져오기"
   ]
  },
  {
   "cell_type": "code",
   "execution_count": 412,
   "metadata": {},
   "outputs": [
    {
     "name": "stdout",
     "output_type": "stream",
     "text": [
      "                           open        high         low       close    volume  \\\n",
      "2024-08-30 18:12:00  80763000.0  80840000.0  80755000.0  80803000.0  1.019568   \n",
      "2024-08-30 18:13:00  80840000.0  80865000.0  80803000.0  80865000.0  2.612569   \n",
      "2024-08-30 18:14:00  80865000.0  80885000.0  80838000.0  80885000.0  2.027340   \n",
      "2024-08-30 18:15:00  80845000.0  80885000.0  80845000.0  80880000.0  0.142112   \n",
      "\n",
      "                            value  \n",
      "2024-08-30 18:12:00  8.236832e+07  \n",
      "2024-08-30 18:13:00  2.112153e+08  \n",
      "2024-08-30 18:14:00  1.639560e+08  \n",
      "2024-08-30 18:15:00  1.149033e+07  \n",
      "(0.1, 0.03, -0.02, 3.0, 2.0)\n"
     ]
    }
   ],
   "source": [
    "now = datetime.datetime.now()\n",
    "to = now.strftime('%Y-%m-%d %H:%M')\n",
    "\n",
    "ticker = 'KRW-BTC'\n",
    "interval = 'minute1'\n",
    "count = 4\n",
    "bitcoin_data = pyupbit.get_ohlcv(ticker=ticker, interval=interval, to=to, count=count)\n",
    "\n",
    "open_change_list = ((bitcoin_data['open'] - bitcoin_data['open'].shift(1)) / bitcoin_data['open'].shift(1) * 100).round(2)\n",
    "volume_list = bitcoin_data['volume'].round()\n",
    "open_price = int(bitcoin_data['open'].iloc[-1])\n",
    "\n",
    "print(bitcoin_data)\n",
    "\n",
    "current_state = tuple(open_change_list[1:4]) + tuple(volume_list[1:3])\n",
    "print(current_state)"
   ]
  },
  {
   "cell_type": "markdown",
   "metadata": {},
   "source": [
    "##    예측"
   ]
  },
  {
   "cell_type": "code",
   "execution_count": 409,
   "metadata": {},
   "outputs": [
    {
     "name": "stdout",
     "output_type": "stream",
     "text": [
      "[1, 2]\n",
      "action : 1\n",
      "bank_account : 29\n",
      "open_price : 80865000\n"
     ]
    }
   ],
   "source": [
    "def sort_key(state_to_index):\n",
    "    return (state_to_index[4], state_to_index[2], state_to_index[3], state_to_index[1], state_to_index[0])\n",
    "\n",
    "def find_insert_index(sorted_states, new_state):\n",
    "    new_state_key = sort_key(new_state)\n",
    "    for index, state in enumerate(sorted_states):\n",
    "        if sort_key(state) < new_state_key:\n",
    "            return index\n",
    "    return len(sorted_states)\n",
    "\n",
    "def action_choose(bank_account):\n",
    "  if bank_account > 10000:\n",
    "    action_list = [0,1]\n",
    "  else :\n",
    "    action_list = [1,2]\n",
    "\n",
    "  return action_list\n",
    "\n",
    "Q_table = np.load('D:/StockQ-Learning/q_table_test.npy')\n",
    "\n",
    "with open('states_to_index_test.pkl', 'rb') as f:\n",
    "    states_to_index = pickle.load(f)\n",
    "\n",
    "try:\n",
    "    current_state_index = states_to_index[current_state]\n",
    "except KeyError:\n",
    "    current_state_index  = find_insert_index(states_to_index, current_state)\n",
    "    if current_state_index >= len(states_to_index):\n",
    "        current_state_index -= 1 \n",
    "\n",
    "q_value = Q_table[current_state_index]\n",
    "q_value_sorted = np.argsort(q_value)[::-1]\n",
    "action_list = action_choose(bank_account)\n",
    "print(action_list)\n",
    "if q_value_sorted[0] in action_list:\n",
    "    action = q_value_sorted[0]\n",
    "elif q_value_sorted[0] not in action_list:\n",
    "    if q_value_sorted[1] in action_list:\n",
    "        action = q_value_sorted[1]\n",
    "    elif q_value_sorted[1] not in action_list:\n",
    "        action = q_value_sorted[2]\n",
    "\n",
    "print(f'action : {action}')\n",
    "print(f'bank_account : {bank_account}')\n",
    "print(f'open_price : {open_price}')"
   ]
  },
  {
   "cell_type": "markdown",
   "metadata": {},
   "source": [
    "##    매수 함수"
   ]
  },
  {
   "cell_type": "code",
   "execution_count": 410,
   "metadata": {},
   "outputs": [
    {
     "name": "stdout",
     "output_type": "stream",
     "text": [
      "80824000\n"
     ]
    }
   ],
   "source": [
    "def place_order(symbol, side, price, qty, order_type, time_in_force):\n",
    "    timestamp = int(time.time() * 1000)\n",
    "\n",
    "    params = {\n",
    "        \"symbol\": symbol,\n",
    "        \"side\": side,\n",
    "        \"price\": price,\n",
    "        \"qty\": qty,\n",
    "        \"orderType\": order_type,\n",
    "        \"timeInForce\": time_in_force,\n",
    "        \"timestamp\": str(timestamp)\n",
    "    }\n",
    "    query_string = urllib.parse.urlencode(params)\n",
    "    \n",
    "    signature = create_hmac_sha256_signature(SECRET_KEY, query_string)\n",
    "\n",
    "    params[\"signature\"] = signature\n",
    "    \n",
    "    url = f\"{base_url}/v2/orders\"\n",
    "    headers = {\n",
    "        \"X-KAPI-KEY\": API_KEY,\n",
    "        \"Content-Type\": \"application/x-www-form-urlencoded\"\n",
    "    }\n",
    "\n",
    "    try:\n",
    "        response = requests.post(url, headers=headers, data=params)\n",
    "        return response.json()\n",
    "    except Exception as e:\n",
    "        print(\"Error placing order:\", e)\n",
    "        return None\n",
    "\n",
    "qty = int(bank_account) / open_price\n",
    "qty = round(qty,8)\n",
    "open_price = round((open_price*0.9995 // 1000)*1000)\n",
    "print(open_price)\n",
    "\n",
    "# response = place_order(\"btc_krw\", \"buy\", str(open_price), str(qty), \"limit\", \"gtc\")\n",
    "# print(\"Order response:\", response)"
   ]
  },
  {
   "cell_type": "markdown",
   "metadata": {},
   "source": [
    "##    거래하기"
   ]
  },
  {
   "cell_type": "code",
   "execution_count": 411,
   "metadata": {},
   "outputs": [
    {
     "name": "stdout",
     "output_type": "stream",
     "text": [
      "3.6e-07\n"
     ]
    }
   ],
   "source": [
    "qty = int(bank_account) / open_price\n",
    "qty = round(qty,8)\n",
    "print(qty)"
   ]
  },
  {
   "cell_type": "markdown",
   "metadata": {},
   "source": []
  }
 ],
 "metadata": {
  "kernelspec": {
   "display_name": "Python 3",
   "language": "python",
   "name": "python3"
  },
  "language_info": {
   "codemirror_mode": {
    "name": "ipython",
    "version": 3
   },
   "file_extension": ".py",
   "mimetype": "text/x-python",
   "name": "python",
   "nbconvert_exporter": "python",
   "pygments_lexer": "ipython3",
   "version": "3.11.4"
  }
 },
 "nbformat": 4,
 "nbformat_minor": 2
}
