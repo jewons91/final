{
 "cells": [
  {
   "cell_type": "code",
   "execution_count": 1,
   "metadata": {},
   "outputs": [],
   "source": [
    "import tensorflow as tf\n",
    "from tensorflow.keras import layers, models\n",
    "import pandas as pd\n",
    "import numpy as np\n",
    "from sklearn.metrics import mean_squared_error, r2_score, accuracy_score\n",
    "from sklearn.preprocessing import StandardScaler, RobustScaler"
   ]
  },
  {
   "cell_type": "code",
   "execution_count": 2,
   "metadata": {},
   "outputs": [],
   "source": [
    "data = pd.read_csv('C:\\\\big18\\\\final\\\\with\\\\000660.csv', encoding='cp949')\n",
    "data = data[['종가','거래량']]"
   ]
  },
  {
   "cell_type": "code",
   "execution_count": 3,
   "metadata": {},
   "outputs": [
    {
     "data": {
      "text/html": [
       "<div>\n",
       "<style scoped>\n",
       "    .dataframe tbody tr th:only-of-type {\n",
       "        vertical-align: middle;\n",
       "    }\n",
       "\n",
       "    .dataframe tbody tr th {\n",
       "        vertical-align: top;\n",
       "    }\n",
       "\n",
       "    .dataframe thead th {\n",
       "        text-align: right;\n",
       "    }\n",
       "</style>\n",
       "<table border=\"1\" class=\"dataframe\">\n",
       "  <thead>\n",
       "    <tr style=\"text-align: right;\">\n",
       "      <th></th>\n",
       "      <th>종가</th>\n",
       "      <th>거래량</th>\n",
       "    </tr>\n",
       "  </thead>\n",
       "  <tbody>\n",
       "    <tr>\n",
       "      <th>0</th>\n",
       "      <td>96800</td>\n",
       "      <td>99206</td>\n",
       "    </tr>\n",
       "    <tr>\n",
       "      <th>1</th>\n",
       "      <td>97000</td>\n",
       "      <td>55648</td>\n",
       "    </tr>\n",
       "    <tr>\n",
       "      <th>2</th>\n",
       "      <td>96200</td>\n",
       "      <td>37596</td>\n",
       "    </tr>\n",
       "    <tr>\n",
       "      <th>3</th>\n",
       "      <td>96300</td>\n",
       "      <td>28194</td>\n",
       "    </tr>\n",
       "    <tr>\n",
       "      <th>4</th>\n",
       "      <td>96400</td>\n",
       "      <td>19232</td>\n",
       "    </tr>\n",
       "    <tr>\n",
       "      <th>...</th>\n",
       "      <td>...</td>\n",
       "      <td>...</td>\n",
       "    </tr>\n",
       "    <tr>\n",
       "      <th>186835</th>\n",
       "      <td>193200</td>\n",
       "      <td>11360</td>\n",
       "    </tr>\n",
       "    <tr>\n",
       "      <th>186836</th>\n",
       "      <td>193000</td>\n",
       "      <td>32191</td>\n",
       "    </tr>\n",
       "    <tr>\n",
       "      <th>186837</th>\n",
       "      <td>192800</td>\n",
       "      <td>9585</td>\n",
       "    </tr>\n",
       "    <tr>\n",
       "      <th>186838</th>\n",
       "      <td>193000</td>\n",
       "      <td>16917</td>\n",
       "    </tr>\n",
       "    <tr>\n",
       "      <th>186839</th>\n",
       "      <td>193200</td>\n",
       "      <td>16560</td>\n",
       "    </tr>\n",
       "  </tbody>\n",
       "</table>\n",
       "<p>186840 rows × 2 columns</p>\n",
       "</div>"
      ],
      "text/plain": [
       "            종가    거래량\n",
       "0        96800  99206\n",
       "1        97000  55648\n",
       "2        96200  37596\n",
       "3        96300  28194\n",
       "4        96400  19232\n",
       "...        ...    ...\n",
       "186835  193200  11360\n",
       "186836  193000  32191\n",
       "186837  192800   9585\n",
       "186838  193000  16917\n",
       "186839  193200  16560\n",
       "\n",
       "[186840 rows x 2 columns]"
      ]
     },
     "execution_count": 3,
     "metadata": {},
     "output_type": "execute_result"
    }
   ],
   "source": [
    "data"
   ]
  },
  {
   "cell_type": "code",
   "execution_count": 4,
   "metadata": {},
   "outputs": [],
   "source": [
    "standardscaler = StandardScaler()\n",
    "robustscaler = RobustScaler()"
   ]
  },
  {
   "cell_type": "code",
   "execution_count": 5,
   "metadata": {},
   "outputs": [],
   "source": [
    "standard_scaled_data = standardscaler.fit_transform(data)\n",
    "robust_scaled_data = robustscaler.fit_transform(data)"
   ]
  },
  {
   "cell_type": "code",
   "execution_count": 6,
   "metadata": {},
   "outputs": [],
   "source": [
    "data_train = robust_scaled_data[:int(len(data) * 0.8)]\n",
    "data_test = robust_scaled_data[int(len(data) * 0.8):]"
   ]
  },
  {
   "cell_type": "code",
   "execution_count": 9,
   "metadata": {},
   "outputs": [],
   "source": [
    "# 데이터 전처리\n",
    "# 5시퀀스로 묶기\n",
    "sequence_length = 5\n",
    "X, y = [], []\n",
    "\n",
    "for i in range(len(data_train) - sequence_length):\n",
    "    X.append(data_train[i:i + sequence_length]) # 5개의 시퀀스 데이터\n",
    "    if data_train[i + sequence_length, 0] > data_train[i + sequence_length - 1, 0]:\n",
    "        target = 2\n",
    "    elif data_train[i + sequence_length, 0] < data_train[i + sequence_length - 1, 0]:\n",
    "        target = 1\n",
    "    else:\n",
    "        target = 0\n",
    "    y.append(target) # 6번째 행의 답"
   ]
  },
  {
   "cell_type": "code",
   "execution_count": 11,
   "metadata": {},
   "outputs": [],
   "source": [
    "X_train = np.array(X)\n",
    "y_train = np.array(y)"
   ]
  },
  {
   "cell_type": "code",
   "execution_count": 14,
   "metadata": {},
   "outputs": [
    {
     "data": {
      "text/plain": [
       "(149467, 5, 2)"
      ]
     },
     "execution_count": 14,
     "metadata": {},
     "output_type": "execute_result"
    }
   ],
   "source": []
  },
  {
   "cell_type": "code",
   "execution_count": null,
   "metadata": {},
   "outputs": [],
   "source": [
    "\n",
    "X, y = [], []\n",
    "# for i in range(len(data_test) - sequence_length):\n",
    "#     X.append(data_test.iloc[i:i + sequence_length].values) # 5개의 시퀀스 데이터\n",
    "#     y.append(data_test.iloc[i + sequence_length, 0]) # 6번째 행의 답\n",
    "for i in range(len(data_test) - sequence_length):\n",
    "    X.append(data_test[i:i + sequence_length]) # 5개의 시퀀스 데이터\n",
    "    if data_test[i + sequence_length, 0] - data_test[i + sequence_length - 1, 0] > 0:\n",
    "        target = 2\n",
    "    elif data_test[i + sequence_length, 0] - data_test[i + sequence_length - 1, 0] < 0:\n",
    "        target = 1\n",
    "    else:\n",
    "        target = 0\n",
    "    y.append(target) # 6번째 행의 답\n",
    "\n",
    "X_test = np.array(X)\n",
    "y_test = np.array(y)\n",
    "\n",
    "# 입력 정의\n",
    "inputs = layers.Input(shape=(sequence_length, X_train.shape[2]))\n",
    "\n",
    "# 1D Convolutional Layer\n",
    "x = layers.Conv1D(filters=64, kernel_size=2, activation='relu')(inputs)\n",
    "x = layers.MaxPooling1D(pool_size=2)(x)\n",
    "\n",
    "# # 추가적인 Conv Layer (선택 사항)\n",
    "# x = layers.Conv1D(filters=32, kernel_size=3, activation='relu')(x)\n",
    "# x = layers.MaxPooling1D(pool_size=2)(x)\n",
    "\n",
    "# LSTM Layer\n",
    "x = layers.LSTM(50)(x)\n",
    "\n",
    "# Dense Layer\n",
    "outputs = layers.Dense(3, activation='softmax')(x)  # 회귀 문제일 경우\n",
    "\n",
    "# 모델 생성\n",
    "model = models.Model(inputs=inputs, outputs=outputs)\n",
    "\n",
    "# 모델 컴파일\n",
    "model.compile(optimizer='adam', loss='sparse_categorical_crossentropy', metrics=['accuracy'])\n",
    "\n",
    "model.fit(X_train, y_train, epochs=100, batch_size=32, validation_split = 0.2)\n",
    "\n",
    "y_pred = model.predict(X_test)\n",
    "y_pred_classes = np.argmax(y_pred)\n",
    "print(y_pred_classes)\n",
    "accuracy = accuracy_score(y_test, y_pred_classes)\n",
    "\n",
    "print(f'Accuracy: {accuracy * 100:.2f}%')\n",
    "\n",
    "# 모델 요약\n",
    "model.summary()"
   ]
  }
 ],
 "metadata": {
  "kernelspec": {
   "display_name": "final",
   "language": "python",
   "name": "python3"
  },
  "language_info": {
   "codemirror_mode": {
    "name": "ipython",
    "version": 3
   },
   "file_extension": ".py",
   "mimetype": "text/x-python",
   "name": "python",
   "nbconvert_exporter": "python",
   "pygments_lexer": "ipython3",
   "version": "3.10.14"
  }
 },
 "nbformat": 4,
 "nbformat_minor": 2
}
