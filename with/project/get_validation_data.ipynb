{
 "cells": [
  {
   "cell_type": "code",
   "execution_count": 26,
   "metadata": {},
   "outputs": [],
   "source": [
    "import sys\n",
    "import os\n",
    "sys.path.append(os.path.abspath(os.path.join('..','..')))\n",
    "from DB import conn\n",
    "import pandas as pd"
   ]
  },
  {
   "cell_type": "code",
   "execution_count": 27,
   "metadata": {},
   "outputs": [],
   "source": [
    "def select_code(code):\n",
    "    query = f'''\n",
    "        select a.GSTC_CODE, a.STC_NAME\n",
    "          from TB_STOCKCLASSIFY a\n",
    "         where a.KSTC_CODE = '{code}'\n",
    "        '''\n",
    "    \n",
    "    try:\n",
    "        conn.global_cursor.execute(query)\n",
    "        columns = [column[0] for column in conn.global_cursor.description]\n",
    "        data = conn.global_cursor.fetchall()\n",
    "        df = pd.DataFrame(data, columns=columns)\n",
    "        return df\n",
    "    except Exception as e:\n",
    "        print(f'select 중 오류 발생: {e}')"
   ]
  },
  {
   "cell_type": "code",
   "execution_count": 28,
   "metadata": {},
   "outputs": [],
   "source": [
    "def select_stock_data(gstc_code):\n",
    "    query = f'''\n",
    "        select *\n",
    "          from TB_MINSSTOCK a\n",
    "         where a.GSTC_CODE = '{gstc_code}'\n",
    "         order by a.stck_bsop_date asc, a.stck_cntg_hour asc\n",
    "        '''\n",
    "    try:\n",
    "        conn.global_cursor.execute(query)\n",
    "        columns = [column[0] for column in conn.global_cursor.description]\n",
    "        data = conn.global_cursor.fetchall()\n",
    "        df = pd.DataFrame(data, columns=columns)\n",
    "        return df\n",
    "    except Exception as e:\n",
    "        print(f'error on selecting stock_data : {e}')"
   ]
  },
  {
   "cell_type": "code",
   "execution_count": 29,
   "metadata": {},
   "outputs": [],
   "source": [
    "name_list = ['005930']"
   ]
  },
  {
   "cell_type": "code",
   "execution_count": 30,
   "metadata": {},
   "outputs": [
    {
     "name": "stdout",
     "output_type": "stream",
     "text": [
      "MariaDB 서버에 성공적으로 연결되었습니다. 서버 버전: 10.4.34-MariaDB\n",
      "현재 사용 중인 데이터베이스: cryptoStockTrading\n",
      "MariaDB 연결이 종료되었습니다.\n"
     ]
    }
   ],
   "source": [
    "data = []\n",
    "conn.connect_to_database()\n",
    "for name in name_list:\n",
    "    select_code(name)\n",
    "conn.close_database_connection()"
   ]
  },
  {
   "cell_type": "code",
   "execution_count": 31,
   "metadata": {},
   "outputs": [
    {
     "name": "stdout",
     "output_type": "stream",
     "text": [
      "MariaDB 서버에 성공적으로 연결되었습니다. 서버 버전: 10.4.34-MariaDB\n",
      "현재 사용 중인 데이터베이스: cryptoStockTrading\n",
      "MariaDB 연결이 종료되었습니다.\n"
     ]
    }
   ],
   "source": [
    "data = []\n",
    "conn.connect_to_database()\n",
    "for name in name_list:\n",
    "    data.append(select_code(name))\n",
    "conn.close_database_connection()"
   ]
  },
  {
   "cell_type": "code",
   "execution_count": 32,
   "metadata": {},
   "outputs": [],
   "source": [
    "gstc_codes = data[0]['GSTC_CODE']\n",
    "stc_names = data[0]['STC_NAME']"
   ]
  },
  {
   "cell_type": "code",
   "execution_count": 33,
   "metadata": {},
   "outputs": [
    {
     "data": {
      "text/plain": [
       "(0    KR7005930003\n",
       " Name: GSTC_CODE, dtype: object,\n",
       " 0    삼성전자\n",
       " Name: STC_NAME, dtype: object)"
      ]
     },
     "execution_count": 33,
     "metadata": {},
     "output_type": "execute_result"
    }
   ],
   "source": [
    "gstc_codes, stc_names"
   ]
  },
  {
   "cell_type": "code",
   "execution_count": 34,
   "metadata": {},
   "outputs": [
    {
     "name": "stdout",
     "output_type": "stream",
     "text": [
      "0    KR7005930003\n",
      "Name: GSTC_CODE, dtype: object\n"
     ]
    }
   ],
   "source": [
    "print(gstc_codes)"
   ]
  },
  {
   "cell_type": "code",
   "execution_count": 35,
   "metadata": {},
   "outputs": [
    {
     "name": "stdout",
     "output_type": "stream",
     "text": [
      "MariaDB 서버에 성공적으로 연결되었습니다. 서버 버전: 10.4.34-MariaDB\n",
      "현재 사용 중인 데이터베이스: cryptoStockTrading\n",
      "MariaDB 연결이 종료되었습니다.\n"
     ]
    }
   ],
   "source": [
    "conn.connect_to_database()\n",
    "stock_datas = []\n",
    "for gstc_code in gstc_codes:\n",
    "    stock_datas.append(select_stock_data(gstc_code))\n",
    "conn.close_database_connection()"
   ]
  },
  {
   "cell_type": "code",
   "execution_count": 36,
   "metadata": {},
   "outputs": [
    {
     "data": {
      "text/plain": [
       "[           GSTC_CODE INVEST_CODE PRDY_VRSS PRDY_VRSS_SIGN PRDY_CTRT  \\\n",
       " 0       KR7005930003          01      None           None      None   \n",
       " 1       KR7005930003          01      None           None      None   \n",
       " 2       KR7005930003          01      None           None      None   \n",
       " 3       KR7005930003          01      None           None      None   \n",
       " 4       KR7005930003          01      None           None      None   \n",
       " ...              ...         ...       ...            ...       ...   \n",
       " 196219  KR7005930003          01     -1000              5     -1.43   \n",
       " 196220  KR7005930003          01     -1000              5     -1.43   \n",
       " 196221  KR7005930003          01     -1000              5     -1.43   \n",
       " 196222  KR7005930003          01     -1000              5     -1.43   \n",
       " 196223  KR7005930003          01     -1000              5     -1.43   \n",
       " \n",
       "        STCK_PRDY_CLPR  ACML_VOL   ACML_TR_PBMN STCK_PRPR STCK_BSOP_DATE  \\\n",
       " 0                None      None           None     61100       20220802   \n",
       " 1                None      None           None     61200       20220802   \n",
       " 2                None      None           None     61200       20220802   \n",
       " 3                None      None           None     61600       20220802   \n",
       " 4                None      None           None     61500       20220802   \n",
       " ...               ...       ...            ...       ...            ...   \n",
       " 196219          70000  23603401  1641039126600     69100       20240905   \n",
       " 196220          70000  23603401  1652002666900     69000       20240905   \n",
       " 196221          70000  25329974  1652002666900     69000       20240905   \n",
       " 196222          70000  25329974  1652002666900     69000       20240905   \n",
       " 196223          70000  25329974  1771136203900     69000       20240905   \n",
       " \n",
       "        STCK_CNTG_HOUR STCK_OPRC STCK_HGPR STCK_LWPR CNTG_VOL  \\\n",
       " 0              090100     61200     61200     61100   473341   \n",
       " 1              090200     61200     61200     61000   206838   \n",
       " 2              090300     61200     61300     61100   169028   \n",
       " 3              090400     61200     61700     61200   358663   \n",
       " 4              090500     61600     61600     61300   190364   \n",
       " ...               ...       ...       ...       ...      ...   \n",
       " 196219         152600     69100     69100     69100        0   \n",
       " 196220         152700     69000     69200     69000   158759   \n",
       " 196221         152800     69000     69000     69000        0   \n",
       " 196222         152900     69000     69000     69000        0   \n",
       " 196223         153000     69000     69000     69000  1726573   \n",
       " \n",
       "                 INSERTDATE  \n",
       " 0      2022-08-03 00:00:00  \n",
       " 1      2022-08-03 00:00:00  \n",
       " 2      2022-08-03 00:00:00  \n",
       " 3      2022-08-03 00:00:00  \n",
       " 4      2022-08-03 00:00:00  \n",
       " ...                    ...  \n",
       " 196219 2024-09-05 15:27:45  \n",
       " 196220 2024-09-05 15:27:45  \n",
       " 196221 2024-09-05 15:30:46  \n",
       " 196222 2024-09-05 15:30:46  \n",
       " 196223 2024-09-05 15:30:46  \n",
       " \n",
       " [196224 rows x 16 columns]]"
      ]
     },
     "execution_count": 36,
     "metadata": {},
     "output_type": "execute_result"
    }
   ],
   "source": [
    "stock_datas"
   ]
  },
  {
   "cell_type": "code",
   "execution_count": 37,
   "metadata": {},
   "outputs": [],
   "source": [
    "for i in range(len(stc_names)):\n",
    "    stock_datas[i].to_csv(f'./data/{stc_names[i]}.csv', index=False)"
   ]
  },
  {
   "cell_type": "code",
   "execution_count": 38,
   "metadata": {},
   "outputs": [
    {
     "data": {
      "text/html": [
       "<div>\n",
       "<style scoped>\n",
       "    .dataframe tbody tr th:only-of-type {\n",
       "        vertical-align: middle;\n",
       "    }\n",
       "\n",
       "    .dataframe tbody tr th {\n",
       "        vertical-align: top;\n",
       "    }\n",
       "\n",
       "    .dataframe thead th {\n",
       "        text-align: right;\n",
       "    }\n",
       "</style>\n",
       "<table border=\"1\" class=\"dataframe\">\n",
       "  <thead>\n",
       "    <tr style=\"text-align: right;\">\n",
       "      <th></th>\n",
       "      <th>GSTC_CODE</th>\n",
       "      <th>INVEST_CODE</th>\n",
       "      <th>PRDY_VRSS</th>\n",
       "      <th>PRDY_VRSS_SIGN</th>\n",
       "      <th>PRDY_CTRT</th>\n",
       "      <th>STCK_PRDY_CLPR</th>\n",
       "      <th>ACML_VOL</th>\n",
       "      <th>ACML_TR_PBMN</th>\n",
       "      <th>STCK_PRPR</th>\n",
       "      <th>STCK_BSOP_DATE</th>\n",
       "      <th>STCK_CNTG_HOUR</th>\n",
       "      <th>STCK_OPRC</th>\n",
       "      <th>STCK_HGPR</th>\n",
       "      <th>STCK_LWPR</th>\n",
       "      <th>CNTG_VOL</th>\n",
       "      <th>INSERTDATE</th>\n",
       "    </tr>\n",
       "  </thead>\n",
       "  <tbody>\n",
       "    <tr>\n",
       "      <th>0</th>\n",
       "      <td>KR7005930003</td>\n",
       "      <td>01</td>\n",
       "      <td>None</td>\n",
       "      <td>None</td>\n",
       "      <td>None</td>\n",
       "      <td>None</td>\n",
       "      <td>None</td>\n",
       "      <td>None</td>\n",
       "      <td>61100</td>\n",
       "      <td>20220802</td>\n",
       "      <td>090100</td>\n",
       "      <td>61200</td>\n",
       "      <td>61200</td>\n",
       "      <td>61100</td>\n",
       "      <td>473341</td>\n",
       "      <td>2022-08-03</td>\n",
       "    </tr>\n",
       "    <tr>\n",
       "      <th>1</th>\n",
       "      <td>KR7005930003</td>\n",
       "      <td>01</td>\n",
       "      <td>None</td>\n",
       "      <td>None</td>\n",
       "      <td>None</td>\n",
       "      <td>None</td>\n",
       "      <td>None</td>\n",
       "      <td>None</td>\n",
       "      <td>61200</td>\n",
       "      <td>20220802</td>\n",
       "      <td>090200</td>\n",
       "      <td>61200</td>\n",
       "      <td>61200</td>\n",
       "      <td>61000</td>\n",
       "      <td>206838</td>\n",
       "      <td>2022-08-03</td>\n",
       "    </tr>\n",
       "    <tr>\n",
       "      <th>2</th>\n",
       "      <td>KR7005930003</td>\n",
       "      <td>01</td>\n",
       "      <td>None</td>\n",
       "      <td>None</td>\n",
       "      <td>None</td>\n",
       "      <td>None</td>\n",
       "      <td>None</td>\n",
       "      <td>None</td>\n",
       "      <td>61200</td>\n",
       "      <td>20220802</td>\n",
       "      <td>090300</td>\n",
       "      <td>61200</td>\n",
       "      <td>61300</td>\n",
       "      <td>61100</td>\n",
       "      <td>169028</td>\n",
       "      <td>2022-08-03</td>\n",
       "    </tr>\n",
       "    <tr>\n",
       "      <th>3</th>\n",
       "      <td>KR7005930003</td>\n",
       "      <td>01</td>\n",
       "      <td>None</td>\n",
       "      <td>None</td>\n",
       "      <td>None</td>\n",
       "      <td>None</td>\n",
       "      <td>None</td>\n",
       "      <td>None</td>\n",
       "      <td>61600</td>\n",
       "      <td>20220802</td>\n",
       "      <td>090400</td>\n",
       "      <td>61200</td>\n",
       "      <td>61700</td>\n",
       "      <td>61200</td>\n",
       "      <td>358663</td>\n",
       "      <td>2022-08-03</td>\n",
       "    </tr>\n",
       "    <tr>\n",
       "      <th>4</th>\n",
       "      <td>KR7005930003</td>\n",
       "      <td>01</td>\n",
       "      <td>None</td>\n",
       "      <td>None</td>\n",
       "      <td>None</td>\n",
       "      <td>None</td>\n",
       "      <td>None</td>\n",
       "      <td>None</td>\n",
       "      <td>61500</td>\n",
       "      <td>20220802</td>\n",
       "      <td>090500</td>\n",
       "      <td>61600</td>\n",
       "      <td>61600</td>\n",
       "      <td>61300</td>\n",
       "      <td>190364</td>\n",
       "      <td>2022-08-03</td>\n",
       "    </tr>\n",
       "  </tbody>\n",
       "</table>\n",
       "</div>"
      ],
      "text/plain": [
       "      GSTC_CODE INVEST_CODE PRDY_VRSS PRDY_VRSS_SIGN PRDY_CTRT STCK_PRDY_CLPR  \\\n",
       "0  KR7005930003          01      None           None      None           None   \n",
       "1  KR7005930003          01      None           None      None           None   \n",
       "2  KR7005930003          01      None           None      None           None   \n",
       "3  KR7005930003          01      None           None      None           None   \n",
       "4  KR7005930003          01      None           None      None           None   \n",
       "\n",
       "  ACML_VOL ACML_TR_PBMN STCK_PRPR STCK_BSOP_DATE STCK_CNTG_HOUR STCK_OPRC  \\\n",
       "0     None         None     61100       20220802         090100     61200   \n",
       "1     None         None     61200       20220802         090200     61200   \n",
       "2     None         None     61200       20220802         090300     61200   \n",
       "3     None         None     61600       20220802         090400     61200   \n",
       "4     None         None     61500       20220802         090500     61600   \n",
       "\n",
       "  STCK_HGPR STCK_LWPR CNTG_VOL INSERTDATE  \n",
       "0     61200     61100   473341 2022-08-03  \n",
       "1     61200     61000   206838 2022-08-03  \n",
       "2     61300     61100   169028 2022-08-03  \n",
       "3     61700     61200   358663 2022-08-03  \n",
       "4     61600     61300   190364 2022-08-03  "
      ]
     },
     "execution_count": 38,
     "metadata": {},
     "output_type": "execute_result"
    }
   ],
   "source": [
    "stock_datas[0].head(5)"
   ]
  }
 ],
 "metadata": {
  "kernelspec": {
   "display_name": "final",
   "language": "python",
   "name": "python3"
  },
  "language_info": {
   "codemirror_mode": {
    "name": "ipython",
    "version": 3
   },
   "file_extension": ".py",
   "mimetype": "text/x-python",
   "name": "python",
   "nbconvert_exporter": "python",
   "pygments_lexer": "ipython3",
   "version": "3.10.14"
  }
 },
 "nbformat": 4,
 "nbformat_minor": 2
}
