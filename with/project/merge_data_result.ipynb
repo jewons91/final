{
 "cells": [
  {
   "cell_type": "code",
   "execution_count": 4,
   "metadata": {},
   "outputs": [],
   "source": [
    "import pandas as pd"
   ]
  },
  {
   "cell_type": "code",
   "execution_count": 9,
   "metadata": {},
   "outputs": [],
   "source": [
    "def merge(name, row=18):\n",
    "    real_df = pd.read_csv(f'./data/validation/{name}.csv')\n",
    "    result_df = pd.read_csv(f'./data/validation/result_{name}.csv')\n",
    "    real_data = []\n",
    "    for i in range(row):\n",
    "        real_data.append((real_df.iloc[i + 9, 1], real_df.iloc[i + 12, 1]))\n",
    "    columns = ['종가', '3분후종가']\n",
    "    new_df = pd.DataFrame(real_data, columns=columns)\n",
    "    final_df = pd.concat([new_df, result_df], axis=1)\n",
    "    return final_df"
   ]
  },
  {
   "cell_type": "code",
   "execution_count": 10,
   "metadata": {},
   "outputs": [],
   "source": [
    "# lists = ['CJ제일제당', 'KT', 'SK텔레콤', 'SK하이닉스', '농심', '삼성전자', '삼양식품', '한미반도체']\n",
    "lists = ['한미반도체']"
   ]
  },
  {
   "cell_type": "code",
   "execution_count": 11,
   "metadata": {},
   "outputs": [],
   "source": [
    "for list in lists:\n",
    "    merge(list).to_csv(f'./data/validation/merged_{list}.csv', index=False)"
   ]
  },
  {
   "cell_type": "code",
   "execution_count": null,
   "metadata": {},
   "outputs": [],
   "source": []
  }
 ],
 "metadata": {
  "kernelspec": {
   "display_name": "final",
   "language": "python",
   "name": "python3"
  },
  "language_info": {
   "codemirror_mode": {
    "name": "ipython",
    "version": 3
   },
   "file_extension": ".py",
   "mimetype": "text/x-python",
   "name": "python",
   "nbconvert_exporter": "python",
   "pygments_lexer": "ipython3",
   "version": "3.10.14"
  }
 },
 "nbformat": 4,
 "nbformat_minor": 2
}
