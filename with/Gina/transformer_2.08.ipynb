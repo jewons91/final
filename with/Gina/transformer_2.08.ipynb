{
 "cells": [
  {
   "cell_type": "markdown",
   "metadata": {},
   "source": [
    "#### price threshold 변경 (수수료 생각해서 손해보지 않을만큼 상승을 기준으로 파악)\n",
    "#### 이진 분류 전환"
   ]
  },
  {
   "cell_type": "code",
   "execution_count": 1,
   "metadata": {},
   "outputs": [],
   "source": [
    "import pandas as pd\n",
    "import numpy as np\n",
    "from sklearn.preprocessing import StandardScaler, RobustScaler\n",
    "from sklearn.model_selection import train_test_split\n",
    "import tensorflow as tf\n",
    "from tensorflow.keras import layers, regularizers\n",
    "from sklearn.metrics import confusion_matrix, ConfusionMatrixDisplay, classification_report"
   ]
  },
  {
   "cell_type": "code",
   "execution_count": 2,
   "metadata": {},
   "outputs": [],
   "source": [
    "# 데이터 로드\n",
    "data = pd.read_csv('./000660.csv')\n",
    "\n",
    "# 데이터 칼럼명 변경\n",
    "data = data.rename(\n",
    "    columns={\n",
    "        '시가': 'Open',\n",
    "        '고가': 'High',\n",
    "        '저가': 'Low',\n",
    "        '종가': 'Close',\n",
    "        '거래량': 'Total_Volume',\n",
    "        '매도량': 'Sell_Volume',\n",
    "        '매수량': 'Buy_Volume'\n",
    "    })"
   ]
  },
  {
   "cell_type": "code",
   "execution_count": 3,
   "metadata": {},
   "outputs": [],
   "source": [
    "# 결측치 제거\n",
    "data = data.dropna()"
   ]
  },
  {
   "cell_type": "code",
   "execution_count": 4,
   "metadata": {},
   "outputs": [],
   "source": [
    "# 특성 선택\n",
    "price_features = ['Open', 'High', 'Low', 'Close']\n",
    "volume_features = ['Buy_Volume', 'Sell_Volume', 'Total_Volume']\n",
    "features = price_features + volume_features"
   ]
  },
  {
   "cell_type": "code",
   "execution_count": 5,
   "metadata": {},
   "outputs": [],
   "source": [
    "# 거래량 강도 계산\n",
    "data['Volume_Intensity'] = data['Buy_Volume'] - data['Sell_Volume']\n",
    "data['Volume_Intensity_Ratio'] = data['Volume_Intensity'] / (data['Total_Volume'] + 1e-5)\n",
    "data['Buy_Sell_Ratio'] = data['Buy_Volume'] / (data['Sell_Volume'] + 1e-5)"
   ]
  },
  {
   "cell_type": "code",
   "execution_count": 6,
   "metadata": {},
   "outputs": [],
   "source": [
    "# 새로운 특성들을 특성 리스트에 추가\n",
    "features.extend(['Volume_Intensity', 'Volume_Intensity_Ratio', 'Buy_Sell_Ratio'])"
   ]
  },
  {
   "cell_type": "code",
   "execution_count": 7,
   "metadata": {},
   "outputs": [],
   "source": [
    "# 이동 평균선 추가\n",
    "data['MA_5'] = data['Close'].rolling(window=5).mean()\n",
    "data['MA_20'] = data['Close'].rolling(window=20).mean()\n",
    "data['MA_60'] = data['Close'].rolling(window=60).mean()\n",
    "data['MA_5_20_Diff'] = data['MA_5'] - data['MA_20']\n",
    "data['MA_20_60_Diff'] = data['MA_20'] - data['MA_60']"
   ]
  },
  {
   "cell_type": "code",
   "execution_count": 8,
   "metadata": {},
   "outputs": [],
   "source": [
    "# 추가된 특성을 특성 리스트에 포함\n",
    "features.extend(['MA_5', 'MA_20', 'MA_60', 'MA_5_20_Diff', 'MA_20_60_Diff'])"
   ]
  },
  {
   "cell_type": "code",
   "execution_count": 9,
   "metadata": {},
   "outputs": [],
   "source": [
    "# 이동 평균선 계산 후 결측치 제거\n",
    "data = data.dropna()"
   ]
  },
  {
   "cell_type": "code",
   "execution_count": 10,
   "metadata": {},
   "outputs": [],
   "source": [
    "# 가격 급변 레이블링\n",
    "price_threshold = 0.001  # 0.5% 이상 변동 시 급변으로 간주\n",
    "\n",
    "data['Price_Change'] = data['Close'].pct_change()\n",
    "data = data.dropna()\n",
    "\n",
    "def label_price_change(change):\n",
    "    if change <= -price_threshold:\n",
    "        return 1  # 하락\n",
    "    else:\n",
    "        return 0  # 하락 아님 (상승 또는 보합)\n",
    "\n",
    "\n",
    "data['Price_Label'] = data['Price_Change'].apply(label_price_change)"
   ]
  },
  {
   "cell_type": "code",
   "execution_count": 11,
   "metadata": {},
   "outputs": [],
   "source": [
    "# y = data['Price_Label'].values\n",
    "# sample_weight = np.where(y == 2, 0, 1)  # Assign zero weight to 'no change' class"
   ]
  },
  {
   "cell_type": "code",
   "execution_count": 12,
   "metadata": {},
   "outputs": [],
   "source": [
    "# 결측치 제거 (최종)\n",
    "data = data.dropna()"
   ]
  },
  {
   "cell_type": "code",
   "execution_count": 13,
   "metadata": {},
   "outputs": [],
   "source": [
    "# 스케일러 딕셔너리 생성\n",
    "scalers = {}"
   ]
  },
  {
   "cell_type": "code",
   "execution_count": 14,
   "metadata": {},
   "outputs": [],
   "source": [
    "# 가격 관련 특성 스케일링\n",
    "for feature in price_features + ['MA_5', 'MA_20', 'MA_60', 'MA_5_20_Diff', 'MA_20_60_Diff']:\n",
    "    scaler = StandardScaler()\n",
    "    data[feature] = scaler.fit_transform(data[[feature]])\n",
    "    scalers[feature] = scaler"
   ]
  },
  {
   "cell_type": "code",
   "execution_count": 15,
   "metadata": {},
   "outputs": [],
   "source": [
    "# 거래량 관련 특성 스케일링\n",
    "for feature in volume_features + ['Volume_Intensity', 'Volume_Intensity_Ratio', 'Buy_Sell_Ratio']:\n",
    "    scaler = RobustScaler()\n",
    "    data[feature] = scaler.fit_transform(data[[feature]])\n",
    "    scalers[feature] = scaler"
   ]
  },
  {
   "cell_type": "code",
   "execution_count": 16,
   "metadata": {},
   "outputs": [],
   "source": [
    "# 시퀀스 생성 함수 정의\n",
    "def create_sequences(data, sequence_length, target):\n",
    "    X = []\n",
    "    y = []\n",
    "    data_values = data[features].values\n",
    "    labels = data[target].values\n",
    "    for i in range(len(data_values) - sequence_length):\n",
    "        X.append(data_values[i:i+sequence_length])\n",
    "        y.append(labels[i+sequence_length])\n",
    "    return np.array(X), np.array(y)"
   ]
  },
  {
   "cell_type": "code",
   "execution_count": 17,
   "metadata": {},
   "outputs": [],
   "source": [
    "# 데이터 생성\n",
    "sequence_length = 60  # 시퀀스 길이\n",
    "X, y = create_sequences(data, sequence_length, target='Price_Label')"
   ]
  },
  {
   "cell_type": "code",
   "execution_count": 18,
   "metadata": {},
   "outputs": [],
   "source": [
    "# 시간 순서대로 데이터 분할\n",
    "train_size = int(len(X) * 0.7)\n",
    "val_size = int(len(X) * 0.15)\n",
    "\n",
    "X_train = X[:train_size]\n",
    "y_train = y[:train_size]\n",
    "\n",
    "X_val = X[train_size:train_size+val_size]\n",
    "y_val = y[train_size:train_size+val_size]\n",
    "\n",
    "X_test = X[train_size+val_size:]\n",
    "y_test = y[train_size+val_size:]"
   ]
  },
  {
   "cell_type": "code",
   "execution_count": 19,
   "metadata": {},
   "outputs": [
    {
     "name": "stdout",
     "output_type": "stream",
     "text": [
      "클래스 분포: {0: 106648, 1: 23972}\n"
     ]
    }
   ],
   "source": [
    "# 클래스 분포 확인\n",
    "unique, counts = np.unique(y_train, return_counts=True)\n",
    "print(\"클래스 분포:\", dict(zip(unique, counts)))"
   ]
  },
  {
   "cell_type": "code",
   "execution_count": 20,
   "metadata": {},
   "outputs": [],
   "source": [
    "# 하이퍼 파라미터 설정\n",
    "d_model = X_train.shape[2]\n",
    "num_heads = 4\n",
    "ff_dim = 64\n",
    "num_layers = 2\n",
    "dropout_rate = 0.1\n",
    "num_classes = 2  # 레이블 클래스 수"
   ]
  },
  {
   "cell_type": "code",
   "execution_count": 21,
   "metadata": {},
   "outputs": [],
   "source": [
    "# 포지셔널 인코딩 정의\n",
    "class PositionalEncoding(layers.Layer):\n",
    "    def __init__(self, sequence_length, d_model):\n",
    "        super(PositionalEncoding, self).__init__()\n",
    "        self.pos_encoding = self.positional_encoding(sequence_length, d_model)\n",
    "    \n",
    "    def get_config(self):\n",
    "        config = super().get_config().copy()\n",
    "        return config\n",
    "    \n",
    "    def positional_encoding(self, position, d_model):\n",
    "        angle_rads = self.get_angles(\n",
    "            np.arange(position)[:, np.newaxis],\n",
    "            np.arange(d_model)[np.newaxis, :],\n",
    "            d_model)\n",
    "        \n",
    "        angle_rads[:, 0::2] = np.sin(angle_rads[:, 0::2])\n",
    "        angle_rads[:, 1::2] = np.cos(angle_rads[:, 1::2])\n",
    "        \n",
    "        pos_encoding = angle_rads[np.newaxis, ...]\n",
    "        return tf.cast(pos_encoding, dtype=tf.float32)\n",
    "    \n",
    "    def get_angles(self, pos, i, d_model):\n",
    "        angle_rates = 1 / np.power(10000, (2 * (i//2)) / np.float32(d_model))\n",
    "        return pos * angle_rates\n",
    "    \n",
    "    def call(self, inputs):\n",
    "        return inputs + self.pos_encoding[:, :tf.shape(inputs)[1], :]"
   ]
  },
  {
   "cell_type": "code",
   "execution_count": 22,
   "metadata": {},
   "outputs": [],
   "source": [
    "# 트랜스포머 블록 정의\n",
    "def transformer_block(inputs, head_size, num_heads, ff_dim, dropout=0):\n",
    "    # Multi-Head Attention\n",
    "    attn_output = layers.MultiHeadAttention(num_heads=num_heads, key_dim=head_size)(inputs, inputs)\n",
    "    attn_output = layers.Dropout(dropout)(attn_output)\n",
    "    out1 = layers.LayerNormalization(epsilon=1e-6)(inputs + attn_output)\n",
    "    \n",
    "    # Feed Forward Network\n",
    "    ffn_output = layers.Dense(ff_dim, activation='gelu', kernel_regularizer=regularizers.l2(1e-4))(out1)\n",
    "    ffn_output = layers.Dense(head_size)(ffn_output)\n",
    "    ffn_output = layers.Dropout(dropout)(ffn_output)\n",
    "    return layers.LayerNormalization(epsilon=1e-6)(out1 + ffn_output)"
   ]
  },
  {
   "cell_type": "code",
   "execution_count": 23,
   "metadata": {},
   "outputs": [],
   "source": [
    "# 모델 정의\n",
    "def create_model():\n",
    "    inputs = layers.Input(shape=(sequence_length, d_model))\n",
    "    x = PositionalEncoding(sequence_length, d_model)(inputs)\n",
    "    \n",
    "    for _ in range(num_layers):\n",
    "        x = transformer_block(x, d_model, num_heads, ff_dim, dropout_rate)\n",
    "    \n",
    "    x = layers.GlobalAveragePooling1D()(x)\n",
    "    x = layers.Dropout(dropout_rate)(x)\n",
    "    outputs = layers.Dense(num_classes, activation='softmax')(x)\n",
    "    return tf.keras.Model(inputs=inputs, outputs=outputs)"
   ]
  },
  {
   "cell_type": "code",
   "execution_count": 24,
   "metadata": {},
   "outputs": [
    {
     "name": "stdout",
     "output_type": "stream",
     "text": [
      "Model: \"model\"\n",
      "__________________________________________________________________________________________________\n",
      " Layer (type)                   Output Shape         Param #     Connected to                     \n",
      "==================================================================================================\n",
      " input_1 (InputLayer)           [(None, 60, 15)]     0           []                               \n",
      "                                                                                                  \n",
      " positional_encoding (Positiona  (None, 60, 15)      0           ['input_1[0][0]']                \n",
      " lEncoding)                                                                                       \n",
      "                                                                                                  \n",
      " multi_head_attention (MultiHea  (None, 60, 15)      3795        ['positional_encoding[0][0]',    \n",
      " dAttention)                                                      'positional_encoding[0][0]']    \n",
      "                                                                                                  \n",
      " dropout (Dropout)              (None, 60, 15)       0           ['multi_head_attention[0][0]']   \n",
      "                                                                                                  \n",
      " tf.__operators__.add (TFOpLamb  (None, 60, 15)      0           ['positional_encoding[0][0]',    \n",
      " da)                                                              'dropout[0][0]']                \n",
      "                                                                                                  \n",
      " layer_normalization (LayerNorm  (None, 60, 15)      30          ['tf.__operators__.add[0][0]']   \n",
      " alization)                                                                                       \n",
      "                                                                                                  \n",
      " dense (Dense)                  (None, 60, 64)       1024        ['layer_normalization[0][0]']    \n",
      "                                                                                                  \n",
      " dense_1 (Dense)                (None, 60, 15)       975         ['dense[0][0]']                  \n",
      "                                                                                                  \n",
      " dropout_1 (Dropout)            (None, 60, 15)       0           ['dense_1[0][0]']                \n",
      "                                                                                                  \n",
      " tf.__operators__.add_1 (TFOpLa  (None, 60, 15)      0           ['layer_normalization[0][0]',    \n",
      " mbda)                                                            'dropout_1[0][0]']              \n",
      "                                                                                                  \n",
      " layer_normalization_1 (LayerNo  (None, 60, 15)      30          ['tf.__operators__.add_1[0][0]'] \n",
      " rmalization)                                                                                     \n",
      "                                                                                                  \n",
      " multi_head_attention_1 (MultiH  (None, 60, 15)      3795        ['layer_normalization_1[0][0]',  \n",
      " eadAttention)                                                    'layer_normalization_1[0][0]']  \n",
      "                                                                                                  \n",
      " dropout_2 (Dropout)            (None, 60, 15)       0           ['multi_head_attention_1[0][0]'] \n",
      "                                                                                                  \n",
      " tf.__operators__.add_2 (TFOpLa  (None, 60, 15)      0           ['layer_normalization_1[0][0]',  \n",
      " mbda)                                                            'dropout_2[0][0]']              \n",
      "                                                                                                  \n",
      " layer_normalization_2 (LayerNo  (None, 60, 15)      30          ['tf.__operators__.add_2[0][0]'] \n",
      " rmalization)                                                                                     \n",
      "                                                                                                  \n",
      " dense_2 (Dense)                (None, 60, 64)       1024        ['layer_normalization_2[0][0]']  \n",
      "                                                                                                  \n",
      " dense_3 (Dense)                (None, 60, 15)       975         ['dense_2[0][0]']                \n",
      "                                                                                                  \n",
      " dropout_3 (Dropout)            (None, 60, 15)       0           ['dense_3[0][0]']                \n",
      "                                                                                                  \n",
      " tf.__operators__.add_3 (TFOpLa  (None, 60, 15)      0           ['layer_normalization_2[0][0]',  \n",
      " mbda)                                                            'dropout_3[0][0]']              \n",
      "                                                                                                  \n",
      " layer_normalization_3 (LayerNo  (None, 60, 15)      30          ['tf.__operators__.add_3[0][0]'] \n",
      " rmalization)                                                                                     \n",
      "                                                                                                  \n",
      " global_average_pooling1d (Glob  (None, 15)          0           ['layer_normalization_3[0][0]']  \n",
      " alAveragePooling1D)                                                                              \n",
      "                                                                                                  \n",
      " dropout_4 (Dropout)            (None, 15)           0           ['global_average_pooling1d[0][0]'\n",
      "                                                                 ]                                \n",
      "                                                                                                  \n",
      " dense_4 (Dense)                (None, 2)            32          ['dropout_4[0][0]']              \n",
      "                                                                                                  \n",
      "==================================================================================================\n",
      "Total params: 11,740\n",
      "Trainable params: 11,740\n",
      "Non-trainable params: 0\n",
      "__________________________________________________________________________________________________\n"
     ]
    }
   ],
   "source": [
    "model = create_model()\n",
    "model.summary()"
   ]
  },
  {
   "cell_type": "code",
   "execution_count": 25,
   "metadata": {},
   "outputs": [],
   "source": [
    "# 클래스 가중치 계산\n",
    "from sklearn.utils import class_weight\n",
    "\n",
    "class_weights = class_weight.compute_class_weight(\n",
    "    class_weight='balanced',\n",
    "    classes=np.unique(y_train),\n",
    "    y=y_train\n",
    ")\n",
    "class_weights = dict(enumerate(class_weights))"
   ]
  },
  {
   "cell_type": "code",
   "execution_count": 26,
   "metadata": {},
   "outputs": [
    {
     "data": {
      "text/plain": [
       "{0: 0.6123884179731452, 1: 2.7244284999165695}"
      ]
     },
     "execution_count": 26,
     "metadata": {},
     "output_type": "execute_result"
    }
   ],
   "source": [
    "class_weights"
   ]
  },
  {
   "cell_type": "code",
   "execution_count": 27,
   "metadata": {},
   "outputs": [],
   "source": [
    "# 모델 컴파일\n",
    "model.compile(\n",
    "    loss='sparse_categorical_crossentropy',\n",
    "    optimizer=tf.keras.optimizers.Adam(learning_rate=1e-4),\n",
    "    metrics=['accuracy']\n",
    ")"
   ]
  },
  {
   "cell_type": "code",
   "execution_count": 28,
   "metadata": {},
   "outputs": [],
   "source": [
    "# 모델 체크포인트 콜백 설정\n",
    "checkpoint_callback = tf.keras.callbacks.ModelCheckpoint(\n",
    "    filepath='./model_transformer2/best_model_2_08.h5',\n",
    "    monitor='val_loss',\n",
    "    save_best_only=True,\n",
    "    mode='min',\n",
    "    verbose=1\n",
    ")"
   ]
  },
  {
   "cell_type": "code",
   "execution_count": 29,
   "metadata": {},
   "outputs": [],
   "source": [
    "# 콜백 리스트에 포함\n",
    "callbacks = [\n",
    "    tf.keras.callbacks.EarlyStopping(patience=10, restore_best_weights=True),\n",
    "    checkpoint_callback\n",
    "]"
   ]
  },
  {
   "cell_type": "code",
   "execution_count": 30,
   "metadata": {},
   "outputs": [
    {
     "name": "stdout",
     "output_type": "stream",
     "text": [
      "Epoch 1/100\n",
      "8164/8164 [==============================] - ETA: 0s - loss: 0.6477 - accuracy: 0.5632\n",
      "Epoch 1: val_loss improved from inf to 0.46546, saving model to ./model_transformer2\\best_model_2_08.h5\n",
      "8164/8164 [==============================] - 152s 18ms/step - loss: 0.6477 - accuracy: 0.5632 - val_loss: 0.4655 - val_accuracy: 0.8486\n",
      "Epoch 2/100\n",
      "8162/8164 [============================>.] - ETA: 0s - loss: 0.6379 - accuracy: 0.5504\n",
      "Epoch 2: val_loss did not improve from 0.46546\n",
      "8164/8164 [==============================] - 148s 18ms/step - loss: 0.6379 - accuracy: 0.5504 - val_loss: 0.4737 - val_accuracy: 0.8155\n",
      "Epoch 3/100\n",
      "8161/8164 [============================>.] - ETA: 0s - loss: 0.6349 - accuracy: 0.5473\n",
      "Epoch 3: val_loss did not improve from 0.46546\n",
      "8164/8164 [==============================] - 147s 18ms/step - loss: 0.6349 - accuracy: 0.5473 - val_loss: 0.4834 - val_accuracy: 0.8267\n",
      "Epoch 4/100\n",
      "8161/8164 [============================>.] - ETA: 0s - loss: 0.6328 - accuracy: 0.5497\n",
      "Epoch 4: val_loss did not improve from 0.46546\n",
      "8164/8164 [==============================] - 152s 19ms/step - loss: 0.6328 - accuracy: 0.5497 - val_loss: 0.4669 - val_accuracy: 0.8126\n",
      "Epoch 5/100\n",
      "8162/8164 [============================>.] - ETA: 0s - loss: 0.6317 - accuracy: 0.5492\n",
      "Epoch 5: val_loss did not improve from 0.46546\n",
      "8164/8164 [==============================] - 155s 19ms/step - loss: 0.6317 - accuracy: 0.5492 - val_loss: 0.5019 - val_accuracy: 0.7945\n",
      "Epoch 6/100\n",
      "8161/8164 [============================>.] - ETA: 0s - loss: 0.6302 - accuracy: 0.5495\n",
      "Epoch 6: val_loss improved from 0.46546 to 0.44862, saving model to ./model_transformer2\\best_model_2_08.h5\n",
      "8164/8164 [==============================] - 154s 19ms/step - loss: 0.6302 - accuracy: 0.5495 - val_loss: 0.4486 - val_accuracy: 0.7995\n",
      "Epoch 7/100\n",
      "8164/8164 [==============================] - ETA: 0s - loss: 0.6292 - accuracy: 0.5507\n",
      "Epoch 7: val_loss did not improve from 0.44862\n",
      "8164/8164 [==============================] - 153s 19ms/step - loss: 0.6292 - accuracy: 0.5507 - val_loss: 0.4591 - val_accuracy: 0.7985\n",
      "Epoch 8/100\n",
      "8164/8164 [==============================] - ETA: 0s - loss: 0.6286 - accuracy: 0.5498\n",
      "Epoch 8: val_loss improved from 0.44862 to 0.43504, saving model to ./model_transformer2\\best_model_2_08.h5\n",
      "8164/8164 [==============================] - 151s 18ms/step - loss: 0.6286 - accuracy: 0.5498 - val_loss: 0.4350 - val_accuracy: 0.8103\n",
      "Epoch 9/100\n",
      "8164/8164 [==============================] - ETA: 0s - loss: 0.6281 - accuracy: 0.5515\n",
      "Epoch 9: val_loss improved from 0.43504 to 0.43280, saving model to ./model_transformer2\\best_model_2_08.h5\n",
      "8164/8164 [==============================] - 153s 19ms/step - loss: 0.6281 - accuracy: 0.5515 - val_loss: 0.4328 - val_accuracy: 0.8034\n",
      "Epoch 10/100\n",
      "8162/8164 [============================>.] - ETA: 0s - loss: 0.6272 - accuracy: 0.5507\n",
      "Epoch 10: val_loss did not improve from 0.43280\n",
      "8164/8164 [==============================] - 146s 18ms/step - loss: 0.6272 - accuracy: 0.5507 - val_loss: 0.4782 - val_accuracy: 0.7751\n",
      "Epoch 11/100\n",
      "8163/8164 [============================>.] - ETA: 0s - loss: 0.6268 - accuracy: 0.5496\n",
      "Epoch 11: val_loss did not improve from 0.43280\n",
      "8164/8164 [==============================] - 150s 18ms/step - loss: 0.6269 - accuracy: 0.5496 - val_loss: 0.4800 - val_accuracy: 0.7766\n",
      "Epoch 12/100\n",
      "8164/8164 [==============================] - ETA: 0s - loss: 0.6266 - accuracy: 0.5506\n",
      "Epoch 12: val_loss did not improve from 0.43280\n",
      "8164/8164 [==============================] - 147s 18ms/step - loss: 0.6266 - accuracy: 0.5506 - val_loss: 0.4434 - val_accuracy: 0.7967\n",
      "Epoch 13/100\n",
      "8163/8164 [============================>.] - ETA: 0s - loss: 0.6260 - accuracy: 0.5501\n",
      "Epoch 13: val_loss did not improve from 0.43280\n",
      "8164/8164 [==============================] - 149s 18ms/step - loss: 0.6260 - accuracy: 0.5501 - val_loss: 0.4637 - val_accuracy: 0.7819\n",
      "Epoch 14/100\n",
      "8162/8164 [============================>.] - ETA: 0s - loss: 0.6259 - accuracy: 0.5497\n",
      "Epoch 14: val_loss did not improve from 0.43280\n",
      "8164/8164 [==============================] - 149s 18ms/step - loss: 0.6259 - accuracy: 0.5497 - val_loss: 0.4421 - val_accuracy: 0.7952\n",
      "Epoch 15/100\n",
      "8162/8164 [============================>.] - ETA: 0s - loss: 0.6256 - accuracy: 0.5504\n",
      "Epoch 15: val_loss did not improve from 0.43280\n",
      "8164/8164 [==============================] - 148s 18ms/step - loss: 0.6256 - accuracy: 0.5504 - val_loss: 0.4426 - val_accuracy: 0.7890\n",
      "Epoch 16/100\n",
      "8163/8164 [============================>.] - ETA: 0s - loss: 0.6256 - accuracy: 0.5497\n",
      "Epoch 16: val_loss did not improve from 0.43280\n",
      "8164/8164 [==============================] - 153s 19ms/step - loss: 0.6256 - accuracy: 0.5496 - val_loss: 0.4526 - val_accuracy: 0.7914\n",
      "Epoch 17/100\n",
      "8161/8164 [============================>.] - ETA: 0s - loss: 0.6252 - accuracy: 0.5504\n",
      "Epoch 17: val_loss did not improve from 0.43280\n",
      "8164/8164 [==============================] - 151s 18ms/step - loss: 0.6252 - accuracy: 0.5504 - val_loss: 0.4487 - val_accuracy: 0.7812\n",
      "Epoch 18/100\n",
      "8163/8164 [============================>.] - ETA: 0s - loss: 0.6247 - accuracy: 0.5491\n",
      "Epoch 18: val_loss improved from 0.43280 to 0.42396, saving model to ./model_transformer2\\best_model_2_08.h5\n",
      "8164/8164 [==============================] - 149s 18ms/step - loss: 0.6247 - accuracy: 0.5491 - val_loss: 0.4240 - val_accuracy: 0.8066\n",
      "Epoch 19/100\n",
      "8161/8164 [============================>.] - ETA: 0s - loss: 0.6242 - accuracy: 0.5496\n",
      "Epoch 19: val_loss did not improve from 0.42396\n",
      "8164/8164 [==============================] - 150s 18ms/step - loss: 0.6241 - accuracy: 0.5496 - val_loss: 0.4922 - val_accuracy: 0.7444\n",
      "Epoch 20/100\n",
      "8164/8164 [==============================] - ETA: 0s - loss: 0.6243 - accuracy: 0.5499\n",
      "Epoch 20: val_loss did not improve from 0.42396\n",
      "8164/8164 [==============================] - 151s 19ms/step - loss: 0.6243 - accuracy: 0.5499 - val_loss: 0.4461 - val_accuracy: 0.7899\n",
      "Epoch 21/100\n",
      "8162/8164 [============================>.] - ETA: 0s - loss: 0.6241 - accuracy: 0.5497\n",
      "Epoch 21: val_loss did not improve from 0.42396\n",
      "8164/8164 [==============================] - 150s 18ms/step - loss: 0.6240 - accuracy: 0.5497 - val_loss: 0.4668 - val_accuracy: 0.7577\n",
      "Epoch 22/100\n",
      "8162/8164 [============================>.] - ETA: 0s - loss: 0.6240 - accuracy: 0.5495\n",
      "Epoch 22: val_loss did not improve from 0.42396\n",
      "8164/8164 [==============================] - 151s 19ms/step - loss: 0.6240 - accuracy: 0.5495 - val_loss: 0.4698 - val_accuracy: 0.7659\n",
      "Epoch 23/100\n",
      "8162/8164 [============================>.] - ETA: 0s - loss: 0.6238 - accuracy: 0.5481\n",
      "Epoch 23: val_loss did not improve from 0.42396\n",
      "8164/8164 [==============================] - 149s 18ms/step - loss: 0.6239 - accuracy: 0.5481 - val_loss: 0.4784 - val_accuracy: 0.7581\n",
      "Epoch 24/100\n",
      "8163/8164 [============================>.] - ETA: 0s - loss: 0.6234 - accuracy: 0.5487\n",
      "Epoch 24: val_loss did not improve from 0.42396\n",
      "8164/8164 [==============================] - 150s 18ms/step - loss: 0.6234 - accuracy: 0.5487 - val_loss: 0.4278 - val_accuracy: 0.7949\n",
      "Epoch 25/100\n",
      "8162/8164 [============================>.] - ETA: 0s - loss: 0.6233 - accuracy: 0.5491\n",
      "Epoch 25: val_loss did not improve from 0.42396\n",
      "8164/8164 [==============================] - 150s 18ms/step - loss: 0.6233 - accuracy: 0.5491 - val_loss: 0.4798 - val_accuracy: 0.7552\n",
      "Epoch 26/100\n",
      "8162/8164 [============================>.] - ETA: 0s - loss: 0.6231 - accuracy: 0.5477\n",
      "Epoch 26: val_loss did not improve from 0.42396\n",
      "8164/8164 [==============================] - 152s 19ms/step - loss: 0.6230 - accuracy: 0.5477 - val_loss: 0.4404 - val_accuracy: 0.7919\n",
      "Epoch 27/100\n",
      "8164/8164 [==============================] - ETA: 0s - loss: 0.6229 - accuracy: 0.5486\n",
      "Epoch 27: val_loss did not improve from 0.42396\n",
      "8164/8164 [==============================] - 155s 19ms/step - loss: 0.6229 - accuracy: 0.5486 - val_loss: 0.4391 - val_accuracy: 0.7877\n",
      "Epoch 28/100\n",
      "8163/8164 [============================>.] - ETA: 0s - loss: 0.6226 - accuracy: 0.5480\n",
      "Epoch 28: val_loss did not improve from 0.42396\n",
      "8164/8164 [==============================] - 155s 19ms/step - loss: 0.6226 - accuracy: 0.5480 - val_loss: 0.4540 - val_accuracy: 0.7762\n"
     ]
    }
   ],
   "source": [
    "# 모델 학습\n",
    "history = model.fit(\n",
    "    X_train, y_train,\n",
    "    validation_data=(X_val, y_val),\n",
    "    epochs=100,\n",
    "    batch_size=16,\n",
    "    callbacks=callbacks,\n",
    "    class_weight=class_weights\n",
    "    )"
   ]
  },
  {
   "cell_type": "code",
   "execution_count": 31,
   "metadata": {},
   "outputs": [
    {
     "name": "stdout",
     "output_type": "stream",
     "text": [
      "875/875 [==============================] - 8s 9ms/step - loss: 0.5586 - accuracy: 0.7432\n",
      "Test Accuracy: 0.7432\n"
     ]
    }
   ],
   "source": [
    "# 모델 평가\n",
    "test_loss, test_acc = model.evaluate(X_test, y_test)\n",
    "print(f'Test Accuracy: {test_acc:.4f}')"
   ]
  },
  {
   "cell_type": "code",
   "execution_count": 32,
   "metadata": {},
   "outputs": [
    {
     "name": "stdout",
     "output_type": "stream",
     "text": [
      "875/875 [==============================] - 6s 6ms/step\n",
      "              precision    recall  f1-score   support\n",
      "\n",
      "           0       0.80      0.90      0.85     22157\n",
      "           1       0.28      0.15      0.20      5834\n",
      "\n",
      "    accuracy                           0.74     27991\n",
      "   macro avg       0.54      0.53      0.52     27991\n",
      "weighted avg       0.69      0.74      0.71     27991\n",
      "\n"
     ]
    }
   ],
   "source": [
    "# 자세한 성능 평가\n",
    "y_pred = model.predict(X_test)\n",
    "y_pred_classes = np.argmax(y_pred, axis=1)\n",
    "\n",
    "print(classification_report(y_test, y_pred_classes))"
   ]
  },
  {
   "cell_type": "code",
   "execution_count": 33,
   "metadata": {},
   "outputs": [
    {
     "data": {
      "image/png": "[encoded data removed]",
      "text/plain": [
       "<Figure size 640x480 with 2 Axes>"
      ]
     },
     "metadata": {},
     "output_type": "display_data"
    }
   ],
   "source": [
    "import matplotlib.pyplot as plt\n",
    "# 혼동 행렬 계산 및 시각화\n",
    "cm = confusion_matrix(y_test, y_pred_classes)\n",
    "disp = ConfusionMatrixDisplay(confusion_matrix=cm)\n",
    "disp.plot(cmap=plt.cm.Blues)\n",
    "plt.title(\"Confusion Matrix\")\n",
    "plt.show()"
   ]
  },
  {
   "cell_type": "code",
   "execution_count": 34,
   "metadata": {},
   "outputs": [
    {
     "data": {
      "image/png": "[encoded data removed]",
      "text/plain": [
       "<Figure size 640x480 with 1 Axes>"
      ]
     },
     "metadata": {},
     "output_type": "display_data"
    },
    {
     "data": {
      "image/png": "[encoded data removed]",
      "text/plain": [
       "<Figure size 640x480 with 1 Axes>"
      ]
     },
     "metadata": {},
     "output_type": "display_data"
    }
   ],
   "source": [
    "# 정확도 시각화\n",
    "plt.figure()\n",
    "plt.plot(history.history['accuracy'], label='Train Accuracy')\n",
    "plt.plot(history.history['val_accuracy'], label='Validation Accuracy')\n",
    "plt.legend()\n",
    "plt.show()\n",
    "\n",
    "# 손실 시각화\n",
    "plt.figure()\n",
    "plt.plot(history.history['loss'], label='Train Loss')\n",
    "plt.plot(history.history['val_loss'], label='Validation Loss')\n",
    "plt.legend()\n",
    "plt.show()"
   ]
  },
  {
   "cell_type": "code",
   "execution_count": null,
   "metadata": {},
   "outputs": [],
   "source": []
  }
 ],
 "metadata": {
  "kernelspec": {
   "display_name": "final",
   "language": "python",
   "name": "python3"
  },
  "language_info": {
   "codemirror_mode": {
    "name": "ipython",
    "version": 3
   },
   "file_extension": ".py",
   "mimetype": "text/x-python",
   "name": "python",
   "nbconvert_exporter": "python",
   "pygments_lexer": "ipython3",
   "version": "3.8.19"
  }
 },
 "nbformat": 4,
 "nbformat_minor": 2
}
