{
 "cells": [
  {
   "cell_type": "markdown",
   "metadata": {},
   "source": [
    "#### 과 샘플링"
   ]
  },
  {
   "cell_type": "code",
   "execution_count": 1,
   "metadata": {},
   "outputs": [],
   "source": [
    "import pandas as pd\n",
    "import numpy as np\n",
    "from sklearn.preprocessing import StandardScaler, RobustScaler\n",
    "from sklearn.model_selection import train_test_split\n",
    "import tensorflow as tf\n",
    "from tensorflow.keras import layers, regularizers\n",
    "from sklearn.metrics import confusion_matrix, ConfusionMatrixDisplay\n",
    "import tensorflow.keras.backend as K"
   ]
  },
  {
   "cell_type": "code",
   "execution_count": 2,
   "metadata": {},
   "outputs": [],
   "source": [
    "# 데이터 로드\n",
    "data = pd.read_csv('./000660.csv')\n",
    "\n",
    "# 데이터 칼럼명 변경\n",
    "data = data.rename(\n",
    "    columns={\n",
    "        '시가': 'Open',\n",
    "        '고가': 'High',\n",
    "        '저가': 'Low',\n",
    "        '종가': 'Close',\n",
    "        '거래량': 'Total_Volume',\n",
    "        '매도량': 'Sell_Volume',\n",
    "        '매수량': 'Buy_Volume'\n",
    "    })"
   ]
  },
  {
   "cell_type": "code",
   "execution_count": 3,
   "metadata": {},
   "outputs": [],
   "source": [
    "# 결측치 제거\n",
    "data = data.dropna()"
   ]
  },
  {
   "cell_type": "code",
   "execution_count": 4,
   "metadata": {},
   "outputs": [],
   "source": [
    "# 특성 선택\n",
    "price_features = ['Open', 'High', 'Low', 'Close']\n",
    "volume_features = ['Buy_Volume', 'Sell_Volume', 'Total_Volume']\n",
    "features = price_features + volume_features"
   ]
  },
  {
   "cell_type": "code",
   "execution_count": 5,
   "metadata": {},
   "outputs": [],
   "source": [
    "# 거래량 강도 계산\n",
    "data['Volume_Intensity'] = data['Buy_Volume'] - data['Sell_Volume']\n",
    "data['Volume_Intensity_Ratio'] = data['Volume_Intensity'] / (data['Total_Volume'] + 1e-5)\n",
    "data['Buy_Sell_Ratio'] = data['Buy_Volume'] / (data['Sell_Volume'] + 1e-5)"
   ]
  },
  {
   "cell_type": "code",
   "execution_count": 6,
   "metadata": {},
   "outputs": [],
   "source": [
    "# 새로운 특성들을 특성 리스트에 추가\n",
    "features.extend(['Volume_Intensity', 'Volume_Intensity_Ratio', 'Buy_Sell_Ratio'])"
   ]
  },
  {
   "cell_type": "code",
   "execution_count": 7,
   "metadata": {},
   "outputs": [],
   "source": [
    "# 이동 평균선 추가\n",
    "data['MA_5'] = data['Close'].rolling(window=5).mean()\n",
    "data['MA_20'] = data['Close'].rolling(window=20).mean()\n",
    "data['MA_60'] = data['Close'].rolling(window=60).mean()\n",
    "data['MA_5_20_Diff'] = data['MA_5'] - data['MA_20']\n",
    "data['MA_20_60_Diff'] = data['MA_20'] - data['MA_60']"
   ]
  },
  {
   "cell_type": "code",
   "execution_count": 8,
   "metadata": {},
   "outputs": [],
   "source": [
    "# 추가된 특성을 특성 리스트에 포함\n",
    "features.extend(['MA_5', 'MA_20', 'MA_60', 'MA_5_20_Diff', 'MA_20_60_Diff'])"
   ]
  },
  {
   "cell_type": "code",
   "execution_count": 9,
   "metadata": {},
   "outputs": [],
   "source": [
    "# 이동 평균선 계산 후 결측치 제거\n",
    "data = data.dropna()"
   ]
  },
  {
   "cell_type": "code",
   "execution_count": 10,
   "metadata": {},
   "outputs": [],
   "source": [
    "# 가격 급변 레이블링\n",
    "price_threshold = 0.002  # 0.21% 이상 변동 시 변동으로 간주\n",
    "\n",
    "data['Price_Change'] = data['Close'].pct_change()\n",
    "data = data.dropna()\n",
    "\n",
    "def label_price_change(change):\n",
    "    if change >= price_threshold:\n",
    "        return 2  # 상승\n",
    "    elif change <= -price_threshold:\n",
    "        return 0  # 하락\n",
    "    else:\n",
    "        return 1  # 보합\n",
    "\n",
    "data['Price_Label'] = data['Price_Change'].apply(label_price_change)"
   ]
  },
  {
   "cell_type": "code",
   "execution_count": 11,
   "metadata": {},
   "outputs": [],
   "source": [
    "# 결측치 제거 (최종)\n",
    "data = data.dropna()"
   ]
  },
  {
   "cell_type": "code",
   "execution_count": 12,
   "metadata": {},
   "outputs": [],
   "source": [
    "# 스케일러 딕셔너리 생성\n",
    "scalers = {}"
   ]
  },
  {
   "cell_type": "code",
   "execution_count": 13,
   "metadata": {},
   "outputs": [],
   "source": [
    "# 'Close' 열의 평균과 표준편차 계산\n",
    "mean_close = data['Close'].mean()\n",
    "std_close = data['Close'].std()\n",
    "\n",
    "# 가격 관련 모든 특성에 동일한 평균과 표준편차 적용하여 스케일링\n",
    "price_related_features = ['Close', 'Open', 'High', 'Low', 'MA_5', 'MA_20', 'MA_60', 'MA_5_20_Diff', 'MA_20_60_Diff']\n",
    "data[price_related_features] = (data[price_related_features] - mean_close) / std_close"
   ]
  },
  {
   "cell_type": "code",
   "execution_count": 14,
   "metadata": {},
   "outputs": [],
   "source": [
    "# 거래량 관련 특성 스케일링\n",
    "for feature in volume_features + ['Volume_Intensity', 'Volume_Intensity_Ratio', 'Buy_Sell_Ratio']:\n",
    "    scaler = RobustScaler()\n",
    "    data[feature] = scaler.fit_transform(data[[feature]])\n",
    "    scalers[feature] = scaler"
   ]
  },
  {
   "cell_type": "code",
   "execution_count": 15,
   "metadata": {},
   "outputs": [],
   "source": [
    "# 시퀀스 생성 함수 정의\n",
    "def create_sequences(data, sequence_length, target):\n",
    "    X = []\n",
    "    y = []\n",
    "    data_values = data[features].values\n",
    "    labels = data[target].values\n",
    "    for i in range(len(data_values) - sequence_length):\n",
    "        X.append(data_values[i:i+sequence_length])\n",
    "        y.append(labels[i+sequence_length])\n",
    "    return np.array(X), np.array(y)"
   ]
  },
  {
   "cell_type": "code",
   "execution_count": 16,
   "metadata": {},
   "outputs": [],
   "source": [
    "# 데이터 생성\n",
    "sequence_length = 10  # 시퀀스 길이\n",
    "X, y = create_sequences(data, sequence_length, target='Price_Label')"
   ]
  },
  {
   "cell_type": "code",
   "execution_count": 17,
   "metadata": {},
   "outputs": [],
   "source": [
    "# 과샘플링 예시 (중복을 피하기 위해 노이즈 추가)\n",
    "def oversample_data(X, y):\n",
    "    from sklearn.utils import resample\n",
    "\n",
    "    # 클래스별 데이터 분리\n",
    "    X_class_0 = X[y == 0]\n",
    "    y_class_0 = y[y == 0]\n",
    "    X_class_1 = X[y == 1]\n",
    "    y_class_1 = y[y == 1]\n",
    "    X_class_2 = X[y == 2]\n",
    "    y_class_2 = y[y == 2]\n",
    "\n",
    "    # 최대 클래스의 샘플 수로 맞춤\n",
    "    max_samples = max(len(y_class_0), len(y_class_1), len(y_class_2))\n",
    "\n",
    "    # 각 클래스별로 과샘플링\n",
    "    X_class_0_resampled, y_class_0_resampled = resample(X_class_0, y_class_0,\n",
    "                                                         replace=True,\n",
    "                                                         n_samples=max_samples,\n",
    "                                                         random_state=42)\n",
    "    X_class_1_resampled, y_class_1_resampled = resample(X_class_1, y_class_1,\n",
    "                                                         replace=True,\n",
    "                                                         n_samples=max_samples,\n",
    "                                                         random_state=42)\n",
    "    X_class_2_resampled, y_class_2_resampled = resample(X_class_2, y_class_2,\n",
    "                                                         replace=True,\n",
    "                                                         n_samples=max_samples,\n",
    "                                                         random_state=42)\n",
    "\n",
    "    # 데이터 결합\n",
    "    X_resampled = np.concatenate([X_class_0_resampled, X_class_1_resampled, X_class_2_resampled])\n",
    "    y_resampled = np.concatenate([y_class_0_resampled, y_class_1_resampled, y_class_2_resampled])\n",
    "\n",
    "    # 시간 순서 유지 (인덱스 정렬)\n",
    "    # 주의: 과샘플링으로 인해 시간 순서가 깨질 수 있으므로, 시계열 모델에는 부적합할 수 있습니다.\n",
    "\n",
    "    return X_resampled, y_resampled\n"
   ]
  },
  {
   "cell_type": "code",
   "execution_count": 18,
   "metadata": {},
   "outputs": [],
   "source": [
    "# 시간 순서대로 데이터 분할\n",
    "train_size = int(len(X) * 0.7)\n",
    "val_size = int(len(X) * 0.15)\n",
    "\n",
    "X_train = X[:train_size]\n",
    "y_train = y[:train_size]\n",
    "\n",
    "X_val = X[train_size:train_size+val_size]\n",
    "y_val = y[train_size:train_size+val_size]\n",
    "\n",
    "X_test = X[train_size+val_size:]\n",
    "y_test = y[train_size+val_size:]"
   ]
  },
  {
   "cell_type": "code",
   "execution_count": 19,
   "metadata": {},
   "outputs": [],
   "source": [
    "X_train_resampled, y_train_resampled = oversample_data(X_train, y_train)"
   ]
  },
  {
   "cell_type": "code",
   "execution_count": 20,
   "metadata": {},
   "outputs": [
    {
     "name": "stdout",
     "output_type": "stream",
     "text": [
      "클래스 분포: {0: 4438, 1: 121571, 2: 4646}\n"
     ]
    }
   ],
   "source": [
    "# 클래스 분포 확인\n",
    "unique, counts = np.unique(y_train, return_counts=True)\n",
    "print(\"클래스 분포:\", dict(zip(unique, counts)))"
   ]
  },
  {
   "cell_type": "code",
   "execution_count": 21,
   "metadata": {},
   "outputs": [
    {
     "name": "stdout",
     "output_type": "stream",
     "text": [
      "언더 샘플링 클래스 분포: {0: 121571, 1: 121571, 2: 121571}\n"
     ]
    }
   ],
   "source": [
    "# 클래스 분포 확인\n",
    "unique, counts = np.unique(y_train_resampled, return_counts=True)\n",
    "print(\"언더 샘플링 클래스 분포:\", dict(zip(unique, counts)))"
   ]
  },
  {
   "cell_type": "code",
   "execution_count": 22,
   "metadata": {},
   "outputs": [],
   "source": [
    "# 하이퍼 파라미터 설정\n",
    "d_model = X_train_resampled.shape[2]\n",
    "num_heads = 4\n",
    "ff_dim = 64\n",
    "num_layers = 2\n",
    "dropout_rate = 0.1\n",
    "num_classes = 3  # 레이블 클래스 수"
   ]
  },
  {
   "cell_type": "code",
   "execution_count": 23,
   "metadata": {},
   "outputs": [],
   "source": [
    "# 포지셔널 인코딩 정의\n",
    "class PositionalEncoding(layers.Layer):\n",
    "    def __init__(self, sequence_length, d_model):\n",
    "        super(PositionalEncoding, self).__init__()\n",
    "        self.pos_encoding = self.positional_encoding(sequence_length, d_model)\n",
    "    \n",
    "    def get_config(self):\n",
    "        config = super().get_config().copy()\n",
    "        return config\n",
    "    \n",
    "    def positional_encoding(self, position, d_model):\n",
    "        angle_rads = self.get_angles(\n",
    "            np.arange(position)[:, np.newaxis],\n",
    "            np.arange(d_model)[np.newaxis, :],\n",
    "            d_model)\n",
    "        \n",
    "        angle_rads[:, 0::2] = np.sin(angle_rads[:, 0::2])\n",
    "        angle_rads[:, 1::2] = np.cos(angle_rads[:, 1::2])\n",
    "        \n",
    "        pos_encoding = angle_rads[np.newaxis, ...]\n",
    "        return tf.cast(pos_encoding, dtype=tf.float32)\n",
    "    \n",
    "    def get_angles(self, pos, i, d_model):\n",
    "        angle_rates = 1 / np.power(10000, (2 * (i//2)) / np.float32(d_model))\n",
    "        return pos * angle_rates\n",
    "    \n",
    "    def call(self, inputs):\n",
    "        return inputs + self.pos_encoding[:, :tf.shape(inputs)[1], :]"
   ]
  },
  {
   "cell_type": "code",
   "execution_count": 24,
   "metadata": {},
   "outputs": [],
   "source": [
    "# 트랜스포머 블록 정의\n",
    "def transformer_block(inputs, head_size, num_heads, ff_dim, dropout=0):\n",
    "    # Multi-Head Attention\n",
    "    attn_output = layers.MultiHeadAttention(num_heads=num_heads, key_dim=head_size)(inputs, inputs)\n",
    "    attn_output = layers.Dropout(dropout)(attn_output)\n",
    "    out1 = layers.LayerNormalization(epsilon=1e-6)(inputs + attn_output)\n",
    "    \n",
    "    # Feed Forward Network\n",
    "    ffn_output = layers.Dense(ff_dim, activation='gelu', kernel_regularizer=regularizers.l2(1e-4))(out1)\n",
    "    ffn_output = layers.Dense(head_size)(ffn_output)\n",
    "    ffn_output = layers.Dropout(dropout)(ffn_output)\n",
    "    return layers.LayerNormalization(epsilon=1e-6)(out1 + ffn_output)"
   ]
  },
  {
   "cell_type": "code",
   "execution_count": 25,
   "metadata": {},
   "outputs": [],
   "source": [
    "# 모델 정의\n",
    "def create_model():\n",
    "    inputs = layers.Input(shape=(sequence_length, d_model))\n",
    "    x = PositionalEncoding(sequence_length, d_model)(inputs)\n",
    "    \n",
    "    for _ in range(num_layers):\n",
    "        x = transformer_block(x, d_model, num_heads, ff_dim, dropout_rate)\n",
    "    \n",
    "    x = layers.GlobalAveragePooling1D()(x)\n",
    "    x = layers.Dropout(dropout_rate)(x)\n",
    "    outputs = layers.Dense(num_classes, activation='softmax')(x)\n",
    "    return tf.keras.Model(inputs=inputs, outputs=outputs)"
   ]
  },
  {
   "cell_type": "code",
   "execution_count": 26,
   "metadata": {},
   "outputs": [
    {
     "name": "stdout",
     "output_type": "stream",
     "text": [
      "Model: \"model\"\n",
      "__________________________________________________________________________________________________\n",
      " Layer (type)                   Output Shape         Param #     Connected to                     \n",
      "==================================================================================================\n",
      " input_1 (InputLayer)           [(None, 10, 15)]     0           []                               \n",
      "                                                                                                  \n",
      " positional_encoding (Positiona  (None, 10, 15)      0           ['input_1[0][0]']                \n",
      " lEncoding)                                                                                       \n",
      "                                                                                                  \n",
      " multi_head_attention (MultiHea  (None, 10, 15)      3795        ['positional_encoding[0][0]',    \n",
      " dAttention)                                                      'positional_encoding[0][0]']    \n",
      "                                                                                                  \n",
      " dropout (Dropout)              (None, 10, 15)       0           ['multi_head_attention[0][0]']   \n",
      "                                                                                                  \n",
      " tf.__operators__.add (TFOpLamb  (None, 10, 15)      0           ['positional_encoding[0][0]',    \n",
      " da)                                                              'dropout[0][0]']                \n",
      "                                                                                                  \n",
      " layer_normalization (LayerNorm  (None, 10, 15)      30          ['tf.__operators__.add[0][0]']   \n",
      " alization)                                                                                       \n",
      "                                                                                                  \n",
      " dense (Dense)                  (None, 10, 64)       1024        ['layer_normalization[0][0]']    \n",
      "                                                                                                  \n",
      " dense_1 (Dense)                (None, 10, 15)       975         ['dense[0][0]']                  \n",
      "                                                                                                  \n",
      " dropout_1 (Dropout)            (None, 10, 15)       0           ['dense_1[0][0]']                \n",
      "                                                                                                  \n",
      " tf.__operators__.add_1 (TFOpLa  (None, 10, 15)      0           ['layer_normalization[0][0]',    \n",
      " mbda)                                                            'dropout_1[0][0]']              \n",
      "                                                                                                  \n",
      " layer_normalization_1 (LayerNo  (None, 10, 15)      30          ['tf.__operators__.add_1[0][0]'] \n",
      " rmalization)                                                                                     \n",
      "                                                                                                  \n",
      " multi_head_attention_1 (MultiH  (None, 10, 15)      3795        ['layer_normalization_1[0][0]',  \n",
      " eadAttention)                                                    'layer_normalization_1[0][0]']  \n",
      "                                                                                                  \n",
      " dropout_2 (Dropout)            (None, 10, 15)       0           ['multi_head_attention_1[0][0]'] \n",
      "                                                                                                  \n",
      " tf.__operators__.add_2 (TFOpLa  (None, 10, 15)      0           ['layer_normalization_1[0][0]',  \n",
      " mbda)                                                            'dropout_2[0][0]']              \n",
      "                                                                                                  \n",
      " layer_normalization_2 (LayerNo  (None, 10, 15)      30          ['tf.__operators__.add_2[0][0]'] \n",
      " rmalization)                                                                                     \n",
      "                                                                                                  \n",
      " dense_2 (Dense)                (None, 10, 64)       1024        ['layer_normalization_2[0][0]']  \n",
      "                                                                                                  \n",
      " dense_3 (Dense)                (None, 10, 15)       975         ['dense_2[0][0]']                \n",
      "                                                                                                  \n",
      " dropout_3 (Dropout)            (None, 10, 15)       0           ['dense_3[0][0]']                \n",
      "                                                                                                  \n",
      " tf.__operators__.add_3 (TFOpLa  (None, 10, 15)      0           ['layer_normalization_2[0][0]',  \n",
      " mbda)                                                            'dropout_3[0][0]']              \n",
      "                                                                                                  \n",
      " layer_normalization_3 (LayerNo  (None, 10, 15)      30          ['tf.__operators__.add_3[0][0]'] \n",
      " rmalization)                                                                                     \n",
      "                                                                                                  \n",
      " global_average_pooling1d (Glob  (None, 15)          0           ['layer_normalization_3[0][0]']  \n",
      " alAveragePooling1D)                                                                              \n",
      "                                                                                                  \n",
      " dropout_4 (Dropout)            (None, 15)           0           ['global_average_pooling1d[0][0]'\n",
      "                                                                 ]                                \n",
      "                                                                                                  \n",
      " dense_4 (Dense)                (None, 3)            48          ['dropout_4[0][0]']              \n",
      "                                                                                                  \n",
      "==================================================================================================\n",
      "Total params: 11,756\n",
      "Trainable params: 11,756\n",
      "Non-trainable params: 0\n",
      "__________________________________________________________________________________________________\n"
     ]
    }
   ],
   "source": [
    "model = create_model()\n",
    "model.summary()"
   ]
  },
  {
   "cell_type": "code",
   "execution_count": 27,
   "metadata": {},
   "outputs": [],
   "source": [
    "# 클래스 가중치 계산\n",
    "from sklearn.utils import class_weight\n",
    "\n",
    "class_weights = class_weight.compute_class_weight(\n",
    "    class_weight='balanced',\n",
    "    classes=np.unique(y_train),\n",
    "    y=y_train\n",
    ")\n",
    "class_weights = dict(enumerate(class_weights))"
   ]
  },
  {
   "cell_type": "code",
   "execution_count": 28,
   "metadata": {},
   "outputs": [
    {
     "data": {
      "text/plain": [
       "{0: 9.81335436382755, 1: 0.35824058917559837, 2: 9.374013488305351}"
      ]
     },
     "execution_count": 28,
     "metadata": {},
     "output_type": "execute_result"
    }
   ],
   "source": [
    "class_weights"
   ]
  },
  {
   "cell_type": "code",
   "execution_count": 29,
   "metadata": {},
   "outputs": [],
   "source": [
    "# 모델 컴파일\n",
    "model.compile(\n",
    "    loss='sparse_categorical_crossentropy',\n",
    "    optimizer=tf.keras.optimizers.Adam(learning_rate=1e-4),\n",
    "    metrics=['accuracy']\n",
    ")"
   ]
  },
  {
   "cell_type": "code",
   "execution_count": 30,
   "metadata": {},
   "outputs": [],
   "source": [
    "# 모델 체크포인트 콜백 설정\n",
    "checkpoint_callback = tf.keras.callbacks.ModelCheckpoint(\n",
    "    filepath='./model_transformer2/best_model_2_13.h5',\n",
    "    monitor='val_loss',\n",
    "    save_best_only=True,\n",
    "    mode='min',\n",
    "    verbose=1\n",
    ")"
   ]
  },
  {
   "cell_type": "code",
   "execution_count": 31,
   "metadata": {},
   "outputs": [],
   "source": [
    "# 콜백 리스트에 포함\n",
    "callbacks = [\n",
    "    tf.keras.callbacks.EarlyStopping(patience=10, restore_best_weights=True),\n",
    "    checkpoint_callback\n",
    "]"
   ]
  },
  {
   "cell_type": "code",
   "execution_count": 35,
   "metadata": {},
   "outputs": [
    {
     "name": "stdout",
     "output_type": "stream",
     "text": [
      "Epoch 1/100\n",
      "179/179 [==============================] - ETA: 0s - loss: 5.0544 - accuracy: 0.3377\n",
      "Epoch 1: val_loss improved from 3.09048 to 2.78363, saving model to ./model_transformer2\\best_model_2_13.h5\n",
      "179/179 [==============================] - 6s 35ms/step - loss: 5.0544 - accuracy: 0.3377 - val_loss: 2.7836 - val_accuracy: 0.0331\n",
      "Epoch 2/100\n",
      "179/179 [==============================] - ETA: 0s - loss: 5.0485 - accuracy: 0.3397\n",
      "Epoch 2: val_loss improved from 2.78363 to 2.65366, saving model to ./model_transformer2\\best_model_2_13.h5\n",
      "179/179 [==============================] - 6s 35ms/step - loss: 5.0485 - accuracy: 0.3397 - val_loss: 2.6537 - val_accuracy: 0.0331\n",
      "Epoch 3/100\n",
      "177/179 [============================>.] - ETA: 0s - loss: 5.0473 - accuracy: 0.3385\n",
      "Epoch 3: val_loss improved from 2.65366 to 2.58389, saving model to ./model_transformer2\\best_model_2_13.h5\n",
      "179/179 [==============================] - 6s 35ms/step - loss: 5.0473 - accuracy: 0.3384 - val_loss: 2.5839 - val_accuracy: 0.0328\n",
      "Epoch 4/100\n",
      "177/179 [============================>.] - ETA: 0s - loss: 5.0440 - accuracy: 0.3380\n",
      "Epoch 4: val_loss improved from 2.58389 to 2.51045, saving model to ./model_transformer2\\best_model_2_13.h5\n",
      "179/179 [==============================] - 6s 35ms/step - loss: 5.0445 - accuracy: 0.3380 - val_loss: 2.5104 - val_accuracy: 0.0343\n",
      "Epoch 5/100\n",
      "179/179 [==============================] - ETA: 0s - loss: 5.0403 - accuracy: 0.3392\n",
      "Epoch 5: val_loss improved from 2.51045 to 2.47016, saving model to ./model_transformer2\\best_model_2_13.h5\n",
      "179/179 [==============================] - 6s 35ms/step - loss: 5.0403 - accuracy: 0.3392 - val_loss: 2.4702 - val_accuracy: 0.0415\n",
      "Epoch 6/100\n",
      "177/179 [============================>.] - ETA: 0s - loss: 5.0329 - accuracy: 0.3407\n",
      "Epoch 6: val_loss improved from 2.47016 to 2.43915, saving model to ./model_transformer2\\best_model_2_13.h5\n",
      "179/179 [==============================] - 6s 35ms/step - loss: 5.0330 - accuracy: 0.3406 - val_loss: 2.4391 - val_accuracy: 0.0487\n",
      "Epoch 7/100\n",
      "179/179 [==============================] - ETA: 0s - loss: 5.0319 - accuracy: 0.3405\n",
      "Epoch 7: val_loss improved from 2.43915 to 2.43287, saving model to ./model_transformer2\\best_model_2_13.h5\n",
      "179/179 [==============================] - 6s 35ms/step - loss: 5.0319 - accuracy: 0.3405 - val_loss: 2.4329 - val_accuracy: 0.0523\n",
      "Epoch 8/100\n",
      "177/179 [============================>.] - ETA: 0s - loss: 5.0272 - accuracy: 0.3413\n",
      "Epoch 8: val_loss did not improve from 2.43287\n",
      "179/179 [==============================] - 6s 35ms/step - loss: 5.0274 - accuracy: 0.3413 - val_loss: 2.4585 - val_accuracy: 0.0504\n",
      "Epoch 9/100\n",
      "177/179 [============================>.] - ETA: 0s - loss: 5.0253 - accuracy: 0.3408\n",
      "Epoch 9: val_loss did not improve from 2.43287\n",
      "179/179 [==============================] - 6s 35ms/step - loss: 5.0255 - accuracy: 0.3408 - val_loss: 2.4878 - val_accuracy: 0.0465\n",
      "Epoch 10/100\n",
      "177/179 [============================>.] - ETA: 0s - loss: 5.0220 - accuracy: 0.3427\n",
      "Epoch 10: val_loss did not improve from 2.43287\n",
      "179/179 [==============================] - 6s 36ms/step - loss: 5.0219 - accuracy: 0.3426 - val_loss: 2.5562 - val_accuracy: 0.0369\n",
      "Epoch 11/100\n",
      "179/179 [==============================] - ETA: 0s - loss: 5.0167 - accuracy: 0.3433\n",
      "Epoch 11: val_loss did not improve from 2.43287\n",
      "179/179 [==============================] - 6s 35ms/step - loss: 5.0167 - accuracy: 0.3433 - val_loss: 2.5881 - val_accuracy: 0.0350\n",
      "Epoch 12/100\n",
      "179/179 [==============================] - ETA: 0s - loss: 5.0135 - accuracy: 0.3444\n",
      "Epoch 12: val_loss did not improve from 2.43287\n",
      "179/179 [==============================] - 6s 35ms/step - loss: 5.0135 - accuracy: 0.3444 - val_loss: 2.6413 - val_accuracy: 0.0335\n",
      "Epoch 13/100\n",
      "177/179 [============================>.] - ETA: 0s - loss: 5.0090 - accuracy: 0.3453\n",
      "Epoch 13: val_loss did not improve from 2.43287\n",
      "179/179 [==============================] - 6s 35ms/step - loss: 5.0092 - accuracy: 0.3453 - val_loss: 2.6975 - val_accuracy: 0.0325\n",
      "Epoch 14/100\n",
      "177/179 [============================>.] - ETA: 0s - loss: 5.0057 - accuracy: 0.3462\n",
      "Epoch 14: val_loss did not improve from 2.43287\n",
      "179/179 [==============================] - 6s 35ms/step - loss: 5.0062 - accuracy: 0.3463 - val_loss: 2.7003 - val_accuracy: 0.0325\n",
      "Epoch 15/100\n",
      "177/179 [============================>.] - ETA: 0s - loss: 5.0036 - accuracy: 0.3481\n",
      "Epoch 15: val_loss did not improve from 2.43287\n",
      "179/179 [==============================] - 6s 35ms/step - loss: 5.0028 - accuracy: 0.3481 - val_loss: 2.7008 - val_accuracy: 0.0329\n",
      "Epoch 16/100\n",
      "179/179 [==============================] - ETA: 0s - loss: 4.9996 - accuracy: 0.3488\n",
      "Epoch 16: val_loss did not improve from 2.43287\n",
      "179/179 [==============================] - 6s 35ms/step - loss: 4.9996 - accuracy: 0.3488 - val_loss: 2.7525 - val_accuracy: 0.0322\n",
      "Epoch 17/100\n",
      "179/179 [==============================] - ETA: 0s - loss: 4.9928 - accuracy: 0.3509\n",
      "Epoch 17: val_loss did not improve from 2.43287\n",
      "179/179 [==============================] - 6s 35ms/step - loss: 4.9928 - accuracy: 0.3509 - val_loss: 2.7924 - val_accuracy: 0.0321\n"
     ]
    }
   ],
   "source": [
    "# 모델 학습\n",
    "history = model.fit(\n",
    "    X_train_resampled, y_train_resampled,\n",
    "    validation_data=(X_val, y_val),\n",
    "    epochs=100,\n",
    "    batch_size=2048,\n",
    "    callbacks=callbacks,\n",
    "    class_weight=class_weights\n",
    ")"
   ]
  },
  {
   "cell_type": "code",
   "execution_count": 36,
   "metadata": {},
   "outputs": [
    {
     "name": "stdout",
     "output_type": "stream",
     "text": [
      "875/875 [==============================] - 8s 9ms/step - loss: 1.5785 - accuracy: 0.3018\n",
      "Test Accuracy: 0.3018\n"
     ]
    }
   ],
   "source": [
    "# 모델 평가\n",
    "test_loss, test_acc = model.evaluate(X_test, y_test)\n",
    "print(f'Test Accuracy: {test_acc:.4f}')"
   ]
  },
  {
   "cell_type": "code",
   "execution_count": 37,
   "metadata": {},
   "outputs": [
    {
     "name": "stdout",
     "output_type": "stream",
     "text": [
      "875/875 [==============================] - 6s 7ms/step\n",
      "              precision    recall  f1-score   support\n",
      "\n",
      "           0       0.14      0.04      0.07      4181\n",
      "           1       0.61      0.32      0.42     19642\n",
      "           2       0.12      0.49      0.20      4176\n",
      "\n",
      "    accuracy                           0.30     27999\n",
      "   macro avg       0.29      0.28      0.23     27999\n",
      "weighted avg       0.47      0.30      0.33     27999\n",
      "\n"
     ]
    }
   ],
   "source": [
    "# 자세한 성능 평가\n",
    "y_pred = model.predict(X_test)\n",
    "y_pred_classes = np.argmax(y_pred, axis=1)\n",
    "\n",
    "from sklearn.metrics import classification_report\n",
    "print(classification_report(y_test, y_pred_classes))"
   ]
  },
  {
   "cell_type": "code",
   "execution_count": 38,
   "metadata": {},
   "outputs": [
    {
     "data": {
      "image/png": "[encoded data removed]",
      "text/plain": [
       "<Figure size 640x480 with 2 Axes>"
      ]
     },
     "metadata": {},
     "output_type": "display_data"
    }
   ],
   "source": [
    "import matplotlib.pyplot as plt\n",
    "# 혼동 행렬 계산 및 시각화\n",
    "cm = confusion_matrix(y_test, y_pred_classes)\n",
    "disp = ConfusionMatrixDisplay(confusion_matrix=cm)\n",
    "disp.plot(cmap=plt.cm.Blues)\n",
    "plt.title(\"Confusion Matrix\")\n",
    "plt.show()"
   ]
  },
  {
   "cell_type": "code",
   "execution_count": 39,
   "metadata": {},
   "outputs": [
    {
     "data": {
      "image/png": "[encoded data removed]",
      "text/plain": [
       "<Figure size 640x480 with 1 Axes>"
      ]
     },
     "metadata": {},
     "output_type": "display_data"
    },
    {
     "data": {
      "image/png": "[encoded data removed]",
      "text/plain": [
       "<Figure size 640x480 with 1 Axes>"
      ]
     },
     "metadata": {},
     "output_type": "display_data"
    }
   ],
   "source": [
    "# 정확도 시각화\n",
    "plt.figure()\n",
    "plt.plot(history.history['accuracy'], label='Train Accuracy')\n",
    "plt.plot(history.history['val_accuracy'], label='Validation Accuracy')\n",
    "plt.legend()\n",
    "plt.show()\n",
    "\n",
    "# 손실 시각화\n",
    "plt.figure()\n",
    "plt.plot(history.history['loss'], label='Train Loss')\n",
    "plt.plot(history.history['val_loss'], label='Validation Loss')\n",
    "plt.legend()\n",
    "plt.show()"
   ]
  },
  {
   "cell_type": "code",
   "execution_count": null,
   "metadata": {},
   "outputs": [],
   "source": []
  }
 ],
 "metadata": {
  "kernelspec": {
   "display_name": "final",
   "language": "python",
   "name": "python3"
  },
  "language_info": {
   "codemirror_mode": {
    "name": "ipython",
    "version": 3
   },
   "file_extension": ".py",
   "mimetype": "text/x-python",
   "name": "python",
   "nbconvert_exporter": "python",
   "pygments_lexer": "ipython3",
   "version": "3.8.19"
  }
 },
 "nbformat": 4,
 "nbformat_minor": 2
}
