{
 "cells": [
  {
   "cell_type": "markdown",
   "metadata": {},
   "source": [
    "#### 실험적으로 가중치 직접 조정"
   ]
  },
  {
   "cell_type": "code",
   "execution_count": 25,
   "metadata": {},
   "outputs": [],
   "source": [
    "import pandas as pd\n",
    "import numpy as np\n",
    "from sklearn.preprocessing import StandardScaler, RobustScaler\n",
    "from sklearn.model_selection import train_test_split\n",
    "import tensorflow as tf\n",
    "from tensorflow.keras import layers, regularizers\n",
    "from sklearn.metrics import confusion_matrix, ConfusionMatrixDisplay"
   ]
  },
  {
   "cell_type": "code",
   "execution_count": 26,
   "metadata": {},
   "outputs": [],
   "source": [
    "# 데이터 로드\n",
    "data = pd.read_csv('./000660.csv')\n",
    "\n",
    "# 데이터 칼럼명 변경\n",
    "data = data.rename(\n",
    "    columns={\n",
    "        '시가': 'Open',\n",
    "        '고가': 'High',\n",
    "        '저가': 'Low',\n",
    "        '종가': 'Close',\n",
    "        '거래량': 'Total_Volume',\n",
    "        '매도량': 'Sell_Volume',\n",
    "        '매수량': 'Buy_Volume'\n",
    "    })"
   ]
  },
  {
   "cell_type": "code",
   "execution_count": 27,
   "metadata": {},
   "outputs": [],
   "source": [
    "# 결측치 제거\n",
    "data = data.dropna()"
   ]
  },
  {
   "cell_type": "code",
   "execution_count": 28,
   "metadata": {},
   "outputs": [],
   "source": [
    "# 특성 선택\n",
    "# 가격 관련\n",
    "price_features = ['Open', 'High', 'Low', 'Close']\n",
    "# 거래량 관련\n",
    "volume_features = ['Buy_Volume', 'Sell_Volume', 'Total_Volume']\n",
    "# 모든 특성 리스트\n",
    "features = price_features + volume_features"
   ]
  },
  {
   "cell_type": "code",
   "execution_count": 29,
   "metadata": {},
   "outputs": [],
   "source": [
    "# 거래량 강도 계산\n",
    "data['Volume_Intensity'] = data['Buy_Volume'] - data['Sell_Volume']\n",
    "data['Volume_Intensity_Ratio'] = data['Volume_Intensity'] / (data['Total_Volume'] + 1e-5)  # 0으로 나누는 것 방지\n",
    "data['Buy_Sell_Ratio'] = data['Buy_Volume'] / (data['Sell_Volume'] + 1e-5)\n",
    "\n",
    "# 새로운 특성들을 특성 리스트에 추가\n",
    "features.extend(['Volume_Intensity', 'Volume_Intensity_Ratio', 'Buy_Sell_Ratio'])"
   ]
  },
  {
   "cell_type": "code",
   "execution_count": 30,
   "metadata": {},
   "outputs": [],
   "source": [
    "# 스케일러 딕셔너리 생성\n",
    "scalers = {}"
   ]
  },
  {
   "cell_type": "code",
   "execution_count": 31,
   "metadata": {},
   "outputs": [],
   "source": [
    "# 가격 관련 특성 스케일링\n",
    "for feature in price_features:\n",
    "    scaler = StandardScaler()\n",
    "    data[feature] = scaler.fit_transform(data[[feature]])\n",
    "    scalers[feature] = scaler"
   ]
  },
  {
   "cell_type": "code",
   "execution_count": 32,
   "metadata": {},
   "outputs": [],
   "source": [
    "# 거래량 관련 특성 스케일링\n",
    "for feature in volume_features + ['Volume_Intensity', 'Volume_Intensity_Ratio', 'Buy_Sell_Ratio']:\n",
    "    scaler = RobustScaler()\n",
    "    data[feature] = scaler.fit_transform(data[[feature]])\n",
    "    scalers[feature] = scaler"
   ]
  },
  {
   "cell_type": "code",
   "execution_count": 33,
   "metadata": {},
   "outputs": [],
   "source": [
    "# 가격 급변 레이블링\n",
    "price_threshold = 0.005  # 0.5 이상 변동 시 급변으로 간주\n",
    "\n",
    "data['Price_Change'] = data['Close'].pct_change()\n",
    "data = data.dropna()  # 첫 번째 행 제거\n",
    "\n",
    "def label_price_change(change):\n",
    "    if change >= price_threshold:\n",
    "        return 2  # 상승 급변\n",
    "    elif change <= -price_threshold:\n",
    "        return 0  # 하락 급변\n",
    "    else:\n",
    "        return 1  # 보합\n",
    "\n",
    "data['Price_Label'] = data['Price_Change'].apply(label_price_change)"
   ]
  },
  {
   "cell_type": "code",
   "execution_count": 34,
   "metadata": {},
   "outputs": [],
   "source": [
    "# 거래량 강도 급변 레이블링\n",
    "intensity_threshold = data['Volume_Intensity'].std() * 2  # 표준편차의 2배를 기준으로 설정\n",
    "\n",
    "def label_intensity(intensity):\n",
    "    if intensity >= intensity_threshold:\n",
    "        return 1  # 강한 매수세\n",
    "    elif intensity <= -intensity_threshold:\n",
    "        return -1  # 강한 매도세\n",
    "    else:\n",
    "        return 0  # 중립\n",
    "\n",
    "data['Intensity_Label'] = data['Volume_Intensity'].apply(label_intensity)"
   ]
  },
  {
   "cell_type": "code",
   "execution_count": 35,
   "metadata": {},
   "outputs": [],
   "source": [
    "# 복합 레이블링\n",
    "def combined_label(row):\n",
    "    if row['Price_Label'] == 2 and row['Intensity_Label'] == 1:\n",
    "        return 3  # 상승 급변 + 강한 매수세\n",
    "    elif row['Price_Label'] == 0 and row['Intensity_Label'] == -1:\n",
    "        return -3  # 하락 급변 + 강한 매도세\n",
    "    else:\n",
    "        return row['Price_Label']  # 기존 가격 레이블 유지\n",
    "\n",
    "data['Combined_Label'] = data.apply(combined_label, axis=1)"
   ]
  },
  {
   "cell_type": "code",
   "execution_count": 36,
   "metadata": {},
   "outputs": [],
   "source": [
    "# 레이블 값 재매핑 사전 생성\n",
    "label_mapping = {\n",
    "    -3: 0,  # 하락 급변 + 강한 매도세\n",
    "     0: 1,  # 하락\n",
    "     1: 2,  # 보합\n",
    "     2: 3,  # 상승\n",
    "     3: 4   # 상승 급변 + 강한 매수세\n",
    "}\n",
    "\n",
    "# 레이블 재매핑 함수 정의\n",
    "def remap_labels(label):\n",
    "    return label_mapping[label]\n",
    "\n",
    "# 레이블 재매핑 적용\n",
    "data['Combined_Label'] = data['Combined_Label'].map(remap_labels)"
   ]
  },
  {
   "cell_type": "code",
   "execution_count": 37,
   "metadata": {},
   "outputs": [],
   "source": [
    "# 결측치 제거\n",
    "data = data.dropna()"
   ]
  },
  {
   "cell_type": "code",
   "execution_count": 38,
   "metadata": {},
   "outputs": [],
   "source": [
    "# 시퀀스 생성 함수 정의\n",
    "def create_sequences(data, sequence_length, target):\n",
    "    X = []\n",
    "    y = []\n",
    "    data_values = data[features].values\n",
    "    labels = data[target].values\n",
    "    for i in range(len(data_values) - sequence_length):\n",
    "        X.append(data_values[i:i+sequence_length])\n",
    "        y.append(labels[i+sequence_length])\n",
    "    return np.array(X), np.array(y)"
   ]
  },
  {
   "cell_type": "code",
   "execution_count": 39,
   "metadata": {},
   "outputs": [],
   "source": [
    "# 데이터 생성\n",
    "sequence_length = 60  # 시퀀스 길이\n",
    "X, y = create_sequences(data, sequence_length, target='Combined_Label')  # 또는 'Price_Label', 'Intensity_Label'"
   ]
  },
  {
   "cell_type": "code",
   "execution_count": 40,
   "metadata": {},
   "outputs": [],
   "source": [
    "# 시간 순서대로 데이터 분할\n",
    "train_size = int(len(X) * 0.7)\n",
    "val_size = int(len(X) * 0.15)\n",
    "\n",
    "X_train = X[:train_size]\n",
    "y_train = y[:train_size]\n",
    "\n",
    "X_val = X[train_size:train_size+val_size]\n",
    "y_val = y[train_size:train_size+val_size]\n",
    "\n",
    "X_test = X[train_size+val_size:]\n",
    "y_test = y[train_size+val_size:]"
   ]
  },
  {
   "cell_type": "code",
   "execution_count": 41,
   "metadata": {},
   "outputs": [],
   "source": [
    "# 하이퍼 파라미터 설정\n",
    "d_model = X_train.shape[2]  # 입력 특성의 차원\n",
    "num_heads = 8\n",
    "ff_dim = 128\n",
    "num_layers = 4\n",
    "dropout_rate = 0.2\n",
    "num_classes = len(label_mapping) # 레이블 클래스 수"
   ]
  },
  {
   "cell_type": "code",
   "execution_count": 42,
   "metadata": {},
   "outputs": [],
   "source": [
    "# 포지셔널 인코딩 정의\n",
    "class PositionalEncoding(layers.Layer):\n",
    "    def __init__(self, sequence_length, d_model):\n",
    "        super(PositionalEncoding, self).__init__()\n",
    "        self.pos_encoding = self.positional_encoding(sequence_length, d_model)\n",
    "    \n",
    "    def get_config(self):\n",
    "        config = super().get_config().copy()\n",
    "        return config\n",
    "    \n",
    "    def positional_encoding(self, position, d_model):\n",
    "        angle_rads = self.get_angles(\n",
    "            np.arange(position)[:, np.newaxis],\n",
    "            np.arange(d_model)[np.newaxis, :],\n",
    "            d_model)\n",
    "        \n",
    "        angle_rads[:, 0::2] = np.sin(angle_rads[:, 0::2])\n",
    "        angle_rads[:, 1::2] = np.cos(angle_rads[:, 1::2])\n",
    "        \n",
    "        pos_encoding = angle_rads[np.newaxis, ...]\n",
    "        return tf.cast(pos_encoding, dtype=tf.float32)\n",
    "    \n",
    "    def get_angles(self, pos, i, d_model):\n",
    "        angle_rates = 1 / np.power(10000, (2 * (i//2)) / np.float32(d_model))\n",
    "        return pos * angle_rates\n",
    "    \n",
    "    def call(self, inputs):\n",
    "        return inputs + self.pos_encoding[:, :tf.shape(inputs)[1], :]"
   ]
  },
  {
   "cell_type": "code",
   "execution_count": 43,
   "metadata": {},
   "outputs": [],
   "source": [
    "# 트랜스포머 블록 정의\n",
    "def transformer_block(inputs, head_size, num_heads, ff_dim, dropout=0):\n",
    "    # Multi-Head Attention\n",
    "    attn_output = layers.MultiHeadAttention(num_heads=num_heads, key_dim=head_size)(inputs, inputs)\n",
    "    attn_output = layers.Dropout(dropout)(attn_output)\n",
    "    out1 = layers.LayerNormalization(epsilon=1e-6)(inputs + attn_output)\n",
    "    \n",
    "    # Feed Forward Network\n",
    "    ffn_output = layers.Dense(ff_dim, activation='gelu', kernel_regularizer=regularizers.l2(1e-4))(out1)\n",
    "    ffn_output = layers.Dense(head_size)(ffn_output)\n",
    "    ffn_output = layers.Dropout(dropout)(ffn_output)\n",
    "    return layers.LayerNormalization(epsilon=1e-6)(out1 + ffn_output)"
   ]
  },
  {
   "cell_type": "code",
   "execution_count": 44,
   "metadata": {},
   "outputs": [
    {
     "name": "stdout",
     "output_type": "stream",
     "text": [
      "Model: \"model_1\"\n",
      "__________________________________________________________________________________________________\n",
      " Layer (type)                   Output Shape         Param #     Connected to                     \n",
      "==================================================================================================\n",
      " input_2 (InputLayer)           [(None, 60, 10)]     0           []                               \n",
      "                                                                                                  \n",
      " positional_encoding_1 (Positio  (None, 60, 10)      0           ['input_2[0][0]']                \n",
      " nalEncoding)                                                                                     \n",
      "                                                                                                  \n",
      " multi_head_attention_4 (MultiH  (None, 60, 10)      3450        ['positional_encoding_1[0][0]',  \n",
      " eadAttention)                                                    'positional_encoding_1[0][0]']  \n",
      "                                                                                                  \n",
      " dropout_9 (Dropout)            (None, 60, 10)       0           ['multi_head_attention_4[0][0]'] \n",
      "                                                                                                  \n",
      " tf.__operators__.add_8 (TFOpLa  (None, 60, 10)      0           ['positional_encoding_1[0][0]',  \n",
      " mbda)                                                            'dropout_9[0][0]']              \n",
      "                                                                                                  \n",
      " layer_normalization_8 (LayerNo  (None, 60, 10)      20          ['tf.__operators__.add_8[0][0]'] \n",
      " rmalization)                                                                                     \n",
      "                                                                                                  \n",
      " dense_9 (Dense)                (None, 60, 128)      1408        ['layer_normalization_8[0][0]']  \n",
      "                                                                                                  \n",
      " dense_10 (Dense)               (None, 60, 10)       1290        ['dense_9[0][0]']                \n",
      "                                                                                                  \n",
      " dropout_10 (Dropout)           (None, 60, 10)       0           ['dense_10[0][0]']               \n",
      "                                                                                                  \n",
      " tf.__operators__.add_9 (TFOpLa  (None, 60, 10)      0           ['layer_normalization_8[0][0]',  \n",
      " mbda)                                                            'dropout_10[0][0]']             \n",
      "                                                                                                  \n",
      " layer_normalization_9 (LayerNo  (None, 60, 10)      20          ['tf.__operators__.add_9[0][0]'] \n",
      " rmalization)                                                                                     \n",
      "                                                                                                  \n",
      " multi_head_attention_5 (MultiH  (None, 60, 10)      3450        ['layer_normalization_9[0][0]',  \n",
      " eadAttention)                                                    'layer_normalization_9[0][0]']  \n",
      "                                                                                                  \n",
      " dropout_11 (Dropout)           (None, 60, 10)       0           ['multi_head_attention_5[0][0]'] \n",
      "                                                                                                  \n",
      " tf.__operators__.add_10 (TFOpL  (None, 60, 10)      0           ['layer_normalization_9[0][0]',  \n",
      " ambda)                                                           'dropout_11[0][0]']             \n",
      "                                                                                                  \n",
      " layer_normalization_10 (LayerN  (None, 60, 10)      20          ['tf.__operators__.add_10[0][0]']\n",
      " ormalization)                                                                                    \n",
      "                                                                                                  \n",
      " dense_11 (Dense)               (None, 60, 128)      1408        ['layer_normalization_10[0][0]'] \n",
      "                                                                                                  \n",
      " dense_12 (Dense)               (None, 60, 10)       1290        ['dense_11[0][0]']               \n",
      "                                                                                                  \n",
      " dropout_12 (Dropout)           (None, 60, 10)       0           ['dense_12[0][0]']               \n",
      "                                                                                                  \n",
      " tf.__operators__.add_11 (TFOpL  (None, 60, 10)      0           ['layer_normalization_10[0][0]', \n",
      " ambda)                                                           'dropout_12[0][0]']             \n",
      "                                                                                                  \n",
      " layer_normalization_11 (LayerN  (None, 60, 10)      20          ['tf.__operators__.add_11[0][0]']\n",
      " ormalization)                                                                                    \n",
      "                                                                                                  \n",
      " multi_head_attention_6 (MultiH  (None, 60, 10)      3450        ['layer_normalization_11[0][0]', \n",
      " eadAttention)                                                    'layer_normalization_11[0][0]'] \n",
      "                                                                                                  \n",
      " dropout_13 (Dropout)           (None, 60, 10)       0           ['multi_head_attention_6[0][0]'] \n",
      "                                                                                                  \n",
      " tf.__operators__.add_12 (TFOpL  (None, 60, 10)      0           ['layer_normalization_11[0][0]', \n",
      " ambda)                                                           'dropout_13[0][0]']             \n",
      "                                                                                                  \n",
      " layer_normalization_12 (LayerN  (None, 60, 10)      20          ['tf.__operators__.add_12[0][0]']\n",
      " ormalization)                                                                                    \n",
      "                                                                                                  \n",
      " dense_13 (Dense)               (None, 60, 128)      1408        ['layer_normalization_12[0][0]'] \n",
      "                                                                                                  \n",
      " dense_14 (Dense)               (None, 60, 10)       1290        ['dense_13[0][0]']               \n",
      "                                                                                                  \n",
      " dropout_14 (Dropout)           (None, 60, 10)       0           ['dense_14[0][0]']               \n",
      "                                                                                                  \n",
      " tf.__operators__.add_13 (TFOpL  (None, 60, 10)      0           ['layer_normalization_12[0][0]', \n",
      " ambda)                                                           'dropout_14[0][0]']             \n",
      "                                                                                                  \n",
      " layer_normalization_13 (LayerN  (None, 60, 10)      20          ['tf.__operators__.add_13[0][0]']\n",
      " ormalization)                                                                                    \n",
      "                                                                                                  \n",
      " multi_head_attention_7 (MultiH  (None, 60, 10)      3450        ['layer_normalization_13[0][0]', \n",
      " eadAttention)                                                    'layer_normalization_13[0][0]'] \n",
      "                                                                                                  \n",
      " dropout_15 (Dropout)           (None, 60, 10)       0           ['multi_head_attention_7[0][0]'] \n",
      "                                                                                                  \n",
      " tf.__operators__.add_14 (TFOpL  (None, 60, 10)      0           ['layer_normalization_13[0][0]', \n",
      " ambda)                                                           'dropout_15[0][0]']             \n",
      "                                                                                                  \n",
      " layer_normalization_14 (LayerN  (None, 60, 10)      20          ['tf.__operators__.add_14[0][0]']\n",
      " ormalization)                                                                                    \n",
      "                                                                                                  \n",
      " dense_15 (Dense)               (None, 60, 128)      1408        ['layer_normalization_14[0][0]'] \n",
      "                                                                                                  \n",
      " dense_16 (Dense)               (None, 60, 10)       1290        ['dense_15[0][0]']               \n",
      "                                                                                                  \n",
      " dropout_16 (Dropout)           (None, 60, 10)       0           ['dense_16[0][0]']               \n",
      "                                                                                                  \n",
      " tf.__operators__.add_15 (TFOpL  (None, 60, 10)      0           ['layer_normalization_14[0][0]', \n",
      " ambda)                                                           'dropout_16[0][0]']             \n",
      "                                                                                                  \n",
      " layer_normalization_15 (LayerN  (None, 60, 10)      20          ['tf.__operators__.add_15[0][0]']\n",
      " ormalization)                                                                                    \n",
      "                                                                                                  \n",
      " global_average_pooling1d_1 (Gl  (None, 10)          0           ['layer_normalization_15[0][0]'] \n",
      " obalAveragePooling1D)                                                                            \n",
      "                                                                                                  \n",
      " dropout_17 (Dropout)           (None, 10)           0           ['global_average_pooling1d_1[0][0\n",
      "                                                                 ]']                              \n",
      "                                                                                                  \n",
      " dense_17 (Dense)               (None, 5)            55          ['dropout_17[0][0]']             \n",
      "                                                                                                  \n",
      "==================================================================================================\n",
      "Total params: 24,807\n",
      "Trainable params: 24,807\n",
      "Non-trainable params: 0\n",
      "__________________________________________________________________________________________________\n"
     ]
    }
   ],
   "source": [
    "# 모델 정의\n",
    "def create_model():\n",
    "    inputs = layers.Input(shape=(sequence_length, d_model))\n",
    "    x = PositionalEncoding(sequence_length, d_model)(inputs)\n",
    "    \n",
    "    for _ in range(num_layers):\n",
    "        x = transformer_block(x, d_model, num_heads, ff_dim, dropout_rate)\n",
    "    \n",
    "    x = layers.GlobalAveragePooling1D()(x)\n",
    "    x = layers.Dropout(dropout_rate)(x)\n",
    "    outputs = layers.Dense(num_classes, activation='softmax')(x)\n",
    "    return tf.keras.Model(inputs=inputs, outputs=outputs)\n",
    "\n",
    "model = create_model()\n",
    "model.summary()"
   ]
  },
  {
   "cell_type": "code",
   "execution_count": 45,
   "metadata": {},
   "outputs": [],
   "source": [
    "# # 클래스 가중치 계산\n",
    "# from sklearn.utils import class_weight\n",
    "\n",
    "# class_weights = class_weight.compute_class_weight(\n",
    "#     class_weight='balanced',\n",
    "#     classes=np.unique(y_train),\n",
    "#     y=y_train\n",
    "# )\n",
    "\n",
    "# class_weights = dict(enumerate(class_weights))"
   ]
  },
  {
   "cell_type": "code",
   "execution_count": 46,
   "metadata": {},
   "outputs": [],
   "source": [
    "class_weights = {\n",
    "    0: 1.0,   # 클래스 0\n",
    "    1: 0.1,   # 클래스 1\n",
    "    2: 0.01,  # 클래스 2\n",
    "    3: 0.1,   # 클래스 3\n",
    "    4: 1.0    # 클래스 4\n",
    "}"
   ]
  },
  {
   "cell_type": "code",
   "execution_count": 47,
   "metadata": {},
   "outputs": [],
   "source": [
    "# 모델 컴파일\n",
    "model.compile(\n",
    "    loss='sparse_categorical_crossentropy',\n",
    "    optimizer=tf.keras.optimizers.Adam(learning_rate=1e-5),\n",
    "    metrics=['accuracy']\n",
    ")"
   ]
  },
  {
   "cell_type": "code",
   "execution_count": 48,
   "metadata": {},
   "outputs": [
    {
     "name": "stdout",
     "output_type": "stream",
     "text": [
      "Epoch 1/100\n",
      "8167/8167 [==============================] - 270s 33ms/step - loss: 0.0600 - accuracy: 0.4248 - val_loss: 3.4117 - val_accuracy: 0.1459\n",
      "Epoch 2/100\n",
      "8167/8167 [==============================] - 265s 32ms/step - loss: 0.0540 - accuracy: 0.5796 - val_loss: 3.3109 - val_accuracy: 0.1452\n",
      "Epoch 3/100\n",
      "8167/8167 [==============================] - 265s 32ms/step - loss: 0.0530 - accuracy: 0.5861 - val_loss: 3.1635 - val_accuracy: 0.1448\n",
      "Epoch 4/100\n",
      "8167/8167 [==============================] - 268s 33ms/step - loss: 0.0524 - accuracy: 0.5885 - val_loss: 3.0667 - val_accuracy: 0.1455\n",
      "Epoch 5/100\n",
      "8167/8167 [==============================] - 268s 33ms/step - loss: 0.0518 - accuracy: 0.5862 - val_loss: 2.9927 - val_accuracy: 0.1444\n",
      "Epoch 6/100\n",
      "8167/8167 [==============================] - 267s 33ms/step - loss: 0.0511 - accuracy: 0.5865 - val_loss: 2.9560 - val_accuracy: 0.1464\n",
      "Epoch 7/100\n",
      "8167/8167 [==============================] - 266s 33ms/step - loss: 0.0509 - accuracy: 0.5850 - val_loss: 2.8930 - val_accuracy: 0.1443\n",
      "Epoch 8/100\n",
      "8167/8167 [==============================] - 269s 33ms/step - loss: 0.0503 - accuracy: 0.5861 - val_loss: 2.8914 - val_accuracy: 0.1445\n",
      "Epoch 9/100\n",
      "8167/8167 [==============================] - 268s 33ms/step - loss: 0.0499 - accuracy: 0.5871 - val_loss: 2.9032 - val_accuracy: 0.1429\n",
      "Epoch 10/100\n",
      "8167/8167 [==============================] - 269s 33ms/step - loss: 0.0496 - accuracy: 0.5886 - val_loss: 2.9422 - val_accuracy: 0.1403\n",
      "Epoch 11/100\n",
      "8167/8167 [==============================] - 268s 33ms/step - loss: 0.0493 - accuracy: 0.5890 - val_loss: 2.9275 - val_accuracy: 0.1413\n",
      "Epoch 12/100\n",
      "8167/8167 [==============================] - 268s 33ms/step - loss: 0.0490 - accuracy: 0.5905 - val_loss: 2.9329 - val_accuracy: 0.1384\n",
      "Epoch 13/100\n",
      "8167/8167 [==============================] - 268s 33ms/step - loss: 0.0487 - accuracy: 0.5899 - val_loss: 3.0140 - val_accuracy: 0.1363\n",
      "Epoch 14/100\n",
      "8167/8167 [==============================] - 269s 33ms/step - loss: 0.0485 - accuracy: 0.5915 - val_loss: 3.0312 - val_accuracy: 0.1359\n",
      "Epoch 15/100\n",
      "8167/8167 [==============================] - 267s 33ms/step - loss: 0.0481 - accuracy: 0.5886 - val_loss: 3.0844 - val_accuracy: 0.1301\n",
      "Epoch 16/100\n",
      "8167/8167 [==============================] - 265s 32ms/step - loss: 0.0480 - accuracy: 0.5919 - val_loss: 3.0748 - val_accuracy: 0.1298\n",
      "Epoch 17/100\n",
      "8167/8167 [==============================] - 263s 32ms/step - loss: 0.0479 - accuracy: 0.5905 - val_loss: 3.0547 - val_accuracy: 0.1295\n",
      "Epoch 18/100\n",
      "8167/8167 [==============================] - 261s 32ms/step - loss: 0.0476 - accuracy: 0.5905 - val_loss: 3.1120 - val_accuracy: 0.1262\n"
     ]
    }
   ],
   "source": [
    "# 모델 학습\n",
    "callbacks = [\n",
    "    tf.keras.callbacks.EarlyStopping(patience=10, restore_best_weights=True)\n",
    "]\n",
    "\n",
    "history = model.fit(\n",
    "    X_train, y_train,\n",
    "    validation_data=(X_val, y_val),\n",
    "    epochs=100,\n",
    "    batch_size=16,\n",
    "    callbacks=callbacks,\n",
    "    class_weight=class_weights\n",
    ")"
   ]
  },
  {
   "cell_type": "markdown",
   "metadata": {},
   "source": []
  },
  {
   "cell_type": "code",
   "execution_count": 49,
   "metadata": {},
   "outputs": [
    {
     "name": "stdout",
     "output_type": "stream",
     "text": [
      "875/875 [==============================] - 12s 14ms/step - loss: 3.4078 - accuracy: 0.0900\n",
      "Test Accuracy: 0.0900\n",
      "875/875 [==============================] - 7s 7ms/step\n",
      "              precision    recall  f1-score   support\n",
      "\n",
      "           0       0.00      0.00      0.00       371\n",
      "           1       0.09      0.94      0.16      2499\n",
      "           2       0.00      0.00      0.00     22239\n",
      "           3       0.18      0.07      0.10      2543\n",
      "           4       0.00      0.00      0.00       348\n",
      "\n",
      "    accuracy                           0.09     28000\n",
      "   macro avg       0.05      0.20      0.05     28000\n",
      "weighted avg       0.02      0.09      0.02     28000\n",
      "\n"
     ]
    },
    {
     "name": "stderr",
     "output_type": "stream",
     "text": [
      "c:\\ProgramData\\anaconda3\\envs\\final_tensorflow\\lib\\site-packages\\sklearn\\metrics\\_classification.py:1471: UndefinedMetricWarning: Precision and F-score are ill-defined and being set to 0.0 in labels with no predicted samples. Use `zero_division` parameter to control this behavior.\n",
      "  _warn_prf(average, modifier, msg_start, len(result))\n",
      "c:\\ProgramData\\anaconda3\\envs\\final_tensorflow\\lib\\site-packages\\sklearn\\metrics\\_classification.py:1471: UndefinedMetricWarning: Precision and F-score are ill-defined and being set to 0.0 in labels with no predicted samples. Use `zero_division` parameter to control this behavior.\n",
      "  _warn_prf(average, modifier, msg_start, len(result))\n",
      "c:\\ProgramData\\anaconda3\\envs\\final_tensorflow\\lib\\site-packages\\sklearn\\metrics\\_classification.py:1471: UndefinedMetricWarning: Precision and F-score are ill-defined and being set to 0.0 in labels with no predicted samples. Use `zero_division` parameter to control this behavior.\n",
      "  _warn_prf(average, modifier, msg_start, len(result))\n"
     ]
    }
   ],
   "source": [
    "# 모델 평가\n",
    "test_loss, test_acc = model.evaluate(X_test, y_test)\n",
    "print(f'Test Accuracy: {test_acc:.4f}')\n",
    "\n",
    "# 자세한 성능 평가\n",
    "y_pred = model.predict(X_test)\n",
    "y_pred_classes = np.argmax(y_pred, axis=1)\n",
    "\n",
    "from sklearn.metrics import classification_report\n",
    "print(classification_report(y_test, y_pred_classes))"
   ]
  },
  {
   "cell_type": "code",
   "execution_count": 50,
   "metadata": {},
   "outputs": [
    {
     "name": "stdout",
     "output_type": "stream",
     "text": [
      "클래스 분포: {0: 101, 1: 19708, 2: 91087, 3: 19453, 4: 312}\n"
     ]
    }
   ],
   "source": [
    "import numpy as np\n",
    "\n",
    "unique, counts = np.unique(y_train, return_counts=True)\n",
    "print(\"클래스 분포:\", dict(zip(unique, counts)))"
   ]
  },
  {
   "cell_type": "code",
   "execution_count": 56,
   "metadata": {},
   "outputs": [
    {
     "data": {
      "text/plain": [
       "((28000,), (28000, 5))"
      ]
     },
     "execution_count": 56,
     "metadata": {},
     "output_type": "execute_result"
    }
   ],
   "source": [
    "y_test.shape ,y_pred.shape"
   ]
  },
  {
   "cell_type": "code",
   "execution_count": 57,
   "metadata": {},
   "outputs": [
    {
     "data": {
      "image/png": "[encoded data removed]",
      "text/plain": [
       "<Figure size 640x480 with 2 Axes>"
      ]
     },
     "metadata": {},
     "output_type": "display_data"
    }
   ],
   "source": [
    "import matplotlib.pyplot as plt\n",
    "\n",
    "# 혼동 행렬 계산\n",
    "cm = confusion_matrix(y_test, y_pred_classes)\n",
    "\n",
    "# 혼동 행렬 시각화\n",
    "disp = ConfusionMatrixDisplay(confusion_matrix=cm)\n",
    "disp.plot(cmap=plt.cm.Blues)\n",
    "plt.title(\"Confusion Matrix\")\n",
    "plt.show()"
   ]
  }
 ],
 "metadata": {
  "kernelspec": {
   "display_name": "final",
   "language": "python",
   "name": "python3"
  },
  "language_info": {
   "codemirror_mode": {
    "name": "ipython",
    "version": 3
   },
   "file_extension": ".py",
   "mimetype": "text/x-python",
   "name": "python",
   "nbconvert_exporter": "python",
   "pygments_lexer": "ipython3",
   "version": "3.8.19"
  }
 },
 "nbformat": 4,
 "nbformat_minor": 2
}
