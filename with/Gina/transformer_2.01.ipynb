{
 "cells": [
  {
   "cell_type": "markdown",
   "metadata": {},
   "source": [
    "#### 처음부터 재시작\n"
   ]
  },
  {
   "cell_type": "code",
   "execution_count": 28,
   "metadata": {},
   "outputs": [],
   "source": [
    "import pandas as pd\n",
    "import numpy as np\n",
    "from sklearn.preprocessing import StandardScaler, RobustScaler\n",
    "from sklearn.model_selection import train_test_split\n",
    "import tensorflow as tf\n",
    "from tensorflow.keras import layers\n",
    "from sklearn.metrics import confusion_matrix, ConfusionMatrixDisplay"
   ]
  },
  {
   "cell_type": "code",
   "execution_count": 2,
   "metadata": {},
   "outputs": [],
   "source": [
    "# 데이터 로드\n",
    "data = pd.read_csv('./000660.csv')\n",
    "\n",
    "# 데이터 칼럼명 변경\n",
    "data = data.rename(\n",
    "    columns={\n",
    "        '시가': 'Open',\n",
    "        '고가': 'High',\n",
    "        '저가': 'Low',\n",
    "        '종가': 'Close',\n",
    "        '거래량': 'Total_Volume',\n",
    "        '매도량': 'Sell_Volume',\n",
    "        '매수량': 'Buy_Volume'\n",
    "    })"
   ]
  },
  {
   "cell_type": "code",
   "execution_count": 3,
   "metadata": {},
   "outputs": [],
   "source": [
    "# 결측치 제거\n",
    "data = data.dropna()"
   ]
  },
  {
   "cell_type": "code",
   "execution_count": 4,
   "metadata": {},
   "outputs": [],
   "source": [
    "# 특성 선택\n",
    "# 가격 관련\n",
    "price_features = ['Open', 'High', 'Low', 'Close']\n",
    "# 거래량 관련\n",
    "volume_features = ['Buy_Volume', 'Sell_Volume', 'Total_Volume']\n",
    "# 모든 특성 리스트\n",
    "features = price_features + volume_features"
   ]
  },
  {
   "cell_type": "code",
   "execution_count": 5,
   "metadata": {},
   "outputs": [],
   "source": [
    "# 거래량 강도 계산\n",
    "data['Volume_Intensity'] = data['Buy_Volume'] - data['Sell_Volume']\n",
    "data['Volume_Intensity_Ratio'] = data['Volume_Intensity'] / (data['Total_Volume'] + 1e-5)  # 0으로 나누는 것 방지\n",
    "data['Buy_Sell_Ratio'] = data['Buy_Volume'] / (data['Sell_Volume'] + 1e-5)\n",
    "\n",
    "# 새로운 특성들을 특성 리스트에 추가\n",
    "features.extend(['Volume_Intensity', 'Volume_Intensity_Ratio', 'Buy_Sell_Ratio'])"
   ]
  },
  {
   "cell_type": "code",
   "execution_count": 6,
   "metadata": {},
   "outputs": [],
   "source": [
    "# 스케일러 딕셔너리 생성\n",
    "scalers = {}"
   ]
  },
  {
   "cell_type": "code",
   "execution_count": 7,
   "metadata": {},
   "outputs": [],
   "source": [
    "# 가격 관련 특성 스케일링\n",
    "for feature in price_features:\n",
    "    scaler = StandardScaler()\n",
    "    data[feature] = scaler.fit_transform(data[[feature]])\n",
    "    scalers[feature] = scaler"
   ]
  },
  {
   "cell_type": "code",
   "execution_count": 8,
   "metadata": {},
   "outputs": [],
   "source": [
    "# 거래량 관련 특성 스케일링\n",
    "for feature in volume_features + ['Volume_Intensity', 'Volume_Intensity_Ratio', 'Buy_Sell_Ratio']:\n",
    "    scaler = RobustScaler()\n",
    "    data[feature] = scaler.fit_transform(data[[feature]])\n",
    "    scalers[feature] = scaler"
   ]
  },
  {
   "cell_type": "code",
   "execution_count": 9,
   "metadata": {},
   "outputs": [],
   "source": [
    "# 가격 급변 레이블링\n",
    "price_threshold = 0.01  # 1% 이상 변동 시 급변으로 간주\n",
    "\n",
    "data['Price_Change'] = data['Close'].pct_change()\n",
    "data = data.dropna()  # 첫 번째 행 제거\n",
    "\n",
    "def label_price_change(change):\n",
    "    if change >= price_threshold:\n",
    "        return 2  # 상승 급변\n",
    "    elif change <= -price_threshold:\n",
    "        return 0  # 하락 급변\n",
    "    else:\n",
    "        return 1  # 보합\n",
    "\n",
    "data['Price_Label'] = data['Price_Change'].apply(label_price_change)"
   ]
  },
  {
   "cell_type": "code",
   "execution_count": 10,
   "metadata": {},
   "outputs": [],
   "source": [
    "# 거래량 강도 급변 레이블링\n",
    "intensity_threshold = data['Volume_Intensity'].std() * 2  # 표준편차의 2배를 기준으로 설정\n",
    "\n",
    "def label_intensity(intensity):\n",
    "    if intensity >= intensity_threshold:\n",
    "        return 1  # 강한 매수세\n",
    "    elif intensity <= -intensity_threshold:\n",
    "        return -1  # 강한 매도세\n",
    "    else:\n",
    "        return 0  # 중립\n",
    "\n",
    "data['Intensity_Label'] = data['Volume_Intensity'].apply(label_intensity)"
   ]
  },
  {
   "cell_type": "code",
   "execution_count": 11,
   "metadata": {},
   "outputs": [],
   "source": [
    "# 복합 레이블링\n",
    "def combined_label(row):\n",
    "    if row['Price_Label'] == 2 and row['Intensity_Label'] == 1:\n",
    "        return 3  # 상승 급변 + 강한 매수세\n",
    "    elif row['Price_Label'] == 0 and row['Intensity_Label'] == -1:\n",
    "        return -3  # 하락 급변 + 강한 매도세\n",
    "    else:\n",
    "        return row['Price_Label']  # 기존 가격 레이블 유지\n",
    "\n",
    "data['Combined_Label'] = data.apply(combined_label, axis=1)"
   ]
  },
  {
   "cell_type": "code",
   "execution_count": 12,
   "metadata": {},
   "outputs": [],
   "source": [
    "# 레이블 값 재매핑 사전 생성\n",
    "label_mapping = {\n",
    "    -3: 0,  # 하락 급변 + 강한 매도세\n",
    "     0: 1,  # 하락\n",
    "     1: 2,  # 보합\n",
    "     2: 3,  # 상승\n",
    "     3: 4   # 상승 급변 + 강한 매수세\n",
    "}\n",
    "\n",
    "# 레이블 재매핑 함수 정의\n",
    "def remap_labels(label):\n",
    "    return label_mapping[label]\n",
    "\n",
    "# 레이블 재매핑 적용\n",
    "data['Combined_Label'] = data['Combined_Label'].map(remap_labels)"
   ]
  },
  {
   "cell_type": "code",
   "execution_count": 13,
   "metadata": {},
   "outputs": [],
   "source": [
    "# 결측치 제거\n",
    "data = data.dropna()"
   ]
  },
  {
   "cell_type": "code",
   "execution_count": 14,
   "metadata": {},
   "outputs": [],
   "source": [
    "# 시퀀스 생성 함수 정의\n",
    "def create_sequences(data, sequence_length, target):\n",
    "    X = []\n",
    "    y = []\n",
    "    data_values = data[features].values\n",
    "    labels = data[target].values\n",
    "    for i in range(len(data_values) - sequence_length):\n",
    "        X.append(data_values[i:i+sequence_length])\n",
    "        y.append(labels[i+sequence_length])\n",
    "    return np.array(X), np.array(y)"
   ]
  },
  {
   "cell_type": "code",
   "execution_count": 15,
   "metadata": {},
   "outputs": [],
   "source": [
    "# 데이터 생성\n",
    "sequence_length = 60  # 시퀀스 길이\n",
    "X, y = create_sequences(data, sequence_length, target='Combined_Label')  # 또는 'Price_Label', 'Intensity_Label'"
   ]
  },
  {
   "cell_type": "code",
   "execution_count": 16,
   "metadata": {},
   "outputs": [],
   "source": [
    "# 시간 순서대로 데이터 분할\n",
    "train_size = int(len(X) * 0.7)\n",
    "val_size = int(len(X) * 0.15)\n",
    "\n",
    "X_train = X[:train_size]\n",
    "y_train = y[:train_size]\n",
    "\n",
    "X_val = X[train_size:train_size+val_size]\n",
    "y_val = y[train_size:train_size+val_size]\n",
    "\n",
    "X_test = X[train_size+val_size:]\n",
    "y_test = y[train_size+val_size:]"
   ]
  },
  {
   "cell_type": "code",
   "execution_count": 17,
   "metadata": {},
   "outputs": [],
   "source": [
    "# 하이퍼 파라미터 설정\n",
    "d_model = X_train.shape[2]  # 입력 특성의 차원\n",
    "num_heads = 4\n",
    "ff_dim = 64\n",
    "num_layers = 2\n",
    "dropout_rate = 0.1\n",
    "num_classes = len(label_mapping) # 레이블 클래스 수"
   ]
  },
  {
   "cell_type": "code",
   "execution_count": 18,
   "metadata": {},
   "outputs": [],
   "source": [
    "# 포지셔널 인코딩 정의\n",
    "class PositionalEncoding(layers.Layer):\n",
    "    def __init__(self, sequence_length, d_model):\n",
    "        super(PositionalEncoding, self).__init__()\n",
    "        self.pos_encoding = self.positional_encoding(sequence_length, d_model)\n",
    "    \n",
    "    def get_config(self):\n",
    "        config = super().get_config().copy()\n",
    "        return config\n",
    "    \n",
    "    def positional_encoding(self, position, d_model):\n",
    "        angle_rads = self.get_angles(\n",
    "            np.arange(position)[:, np.newaxis],\n",
    "            np.arange(d_model)[np.newaxis, :],\n",
    "            d_model)\n",
    "        \n",
    "        angle_rads[:, 0::2] = np.sin(angle_rads[:, 0::2])\n",
    "        angle_rads[:, 1::2] = np.cos(angle_rads[:, 1::2])\n",
    "        \n",
    "        pos_encoding = angle_rads[np.newaxis, ...]\n",
    "        return tf.cast(pos_encoding, dtype=tf.float32)\n",
    "    \n",
    "    def get_angles(self, pos, i, d_model):\n",
    "        angle_rates = 1 / np.power(10000, (2 * (i//2)) / np.float32(d_model))\n",
    "        return pos * angle_rates\n",
    "    \n",
    "    def call(self, inputs):\n",
    "        return inputs + self.pos_encoding[:, :tf.shape(inputs)[1], :]"
   ]
  },
  {
   "cell_type": "code",
   "execution_count": 19,
   "metadata": {},
   "outputs": [],
   "source": [
    "# 트랜스포머 블록 정의\n",
    "def transformer_block(inputs, head_size, num_heads, ff_dim, dropout=0):\n",
    "    # Multi-Head Attention\n",
    "    attn_output = layers.MultiHeadAttention(num_heads=num_heads, key_dim=head_size)(inputs, inputs)\n",
    "    attn_output = layers.Dropout(dropout)(attn_output)\n",
    "    out1 = layers.LayerNormalization(epsilon=1e-6)(inputs + attn_output)\n",
    "    \n",
    "    # Feed Forward Network\n",
    "    ffn_output = layers.Dense(ff_dim, activation='gelu')(out1)\n",
    "    ffn_output = layers.Dense(head_size)(ffn_output)\n",
    "    ffn_output = layers.Dropout(dropout)(ffn_output)\n",
    "    return layers.LayerNormalization(epsilon=1e-6)(out1 + ffn_output)"
   ]
  },
  {
   "cell_type": "code",
   "execution_count": 20,
   "metadata": {},
   "outputs": [
    {
     "name": "stdout",
     "output_type": "stream",
     "text": [
      "Model: \"model\"\n",
      "__________________________________________________________________________________________________\n",
      " Layer (type)                   Output Shape         Param #     Connected to                     \n",
      "==================================================================================================\n",
      " input_1 (InputLayer)           [(None, 60, 10)]     0           []                               \n",
      "                                                                                                  \n",
      " positional_encoding (Positiona  (None, 60, 10)      0           ['input_1[0][0]']                \n",
      " lEncoding)                                                                                       \n",
      "                                                                                                  \n",
      " multi_head_attention (MultiHea  (None, 60, 10)      1730        ['positional_encoding[0][0]',    \n",
      " dAttention)                                                      'positional_encoding[0][0]']    \n",
      "                                                                                                  \n",
      " dropout (Dropout)              (None, 60, 10)       0           ['multi_head_attention[0][0]']   \n",
      "                                                                                                  \n",
      " tf.__operators__.add (TFOpLamb  (None, 60, 10)      0           ['positional_encoding[0][0]',    \n",
      " da)                                                              'dropout[0][0]']                \n",
      "                                                                                                  \n",
      " layer_normalization (LayerNorm  (None, 60, 10)      20          ['tf.__operators__.add[0][0]']   \n",
      " alization)                                                                                       \n",
      "                                                                                                  \n",
      " dense (Dense)                  (None, 60, 64)       704         ['layer_normalization[0][0]']    \n",
      "                                                                                                  \n",
      " dense_1 (Dense)                (None, 60, 10)       650         ['dense[0][0]']                  \n",
      "                                                                                                  \n",
      " dropout_1 (Dropout)            (None, 60, 10)       0           ['dense_1[0][0]']                \n",
      "                                                                                                  \n",
      " tf.__operators__.add_1 (TFOpLa  (None, 60, 10)      0           ['layer_normalization[0][0]',    \n",
      " mbda)                                                            'dropout_1[0][0]']              \n",
      "                                                                                                  \n",
      " layer_normalization_1 (LayerNo  (None, 60, 10)      20          ['tf.__operators__.add_1[0][0]'] \n",
      " rmalization)                                                                                     \n",
      "                                                                                                  \n",
      " multi_head_attention_1 (MultiH  (None, 60, 10)      1730        ['layer_normalization_1[0][0]',  \n",
      " eadAttention)                                                    'layer_normalization_1[0][0]']  \n",
      "                                                                                                  \n",
      " dropout_2 (Dropout)            (None, 60, 10)       0           ['multi_head_attention_1[0][0]'] \n",
      "                                                                                                  \n",
      " tf.__operators__.add_2 (TFOpLa  (None, 60, 10)      0           ['layer_normalization_1[0][0]',  \n",
      " mbda)                                                            'dropout_2[0][0]']              \n",
      "                                                                                                  \n",
      " layer_normalization_2 (LayerNo  (None, 60, 10)      20          ['tf.__operators__.add_2[0][0]'] \n",
      " rmalization)                                                                                     \n",
      "                                                                                                  \n",
      " dense_2 (Dense)                (None, 60, 64)       704         ['layer_normalization_2[0][0]']  \n",
      "                                                                                                  \n",
      " dense_3 (Dense)                (None, 60, 10)       650         ['dense_2[0][0]']                \n",
      "                                                                                                  \n",
      " dropout_3 (Dropout)            (None, 60, 10)       0           ['dense_3[0][0]']                \n",
      "                                                                                                  \n",
      " tf.__operators__.add_3 (TFOpLa  (None, 60, 10)      0           ['layer_normalization_2[0][0]',  \n",
      " mbda)                                                            'dropout_3[0][0]']              \n",
      "                                                                                                  \n",
      " layer_normalization_3 (LayerNo  (None, 60, 10)      20          ['tf.__operators__.add_3[0][0]'] \n",
      " rmalization)                                                                                     \n",
      "                                                                                                  \n",
      " global_average_pooling1d (Glob  (None, 10)          0           ['layer_normalization_3[0][0]']  \n",
      " alAveragePooling1D)                                                                              \n",
      "                                                                                                  \n",
      " dropout_4 (Dropout)            (None, 10)           0           ['global_average_pooling1d[0][0]'\n",
      "                                                                 ]                                \n",
      "                                                                                                  \n",
      " dense_4 (Dense)                (None, 5)            55          ['dropout_4[0][0]']              \n",
      "                                                                                                  \n",
      "==================================================================================================\n",
      "Total params: 6,303\n",
      "Trainable params: 6,303\n",
      "Non-trainable params: 0\n",
      "__________________________________________________________________________________________________\n"
     ]
    }
   ],
   "source": [
    "# 모델 정의\n",
    "def create_model():\n",
    "    inputs = layers.Input(shape=(sequence_length, d_model))\n",
    "    x = PositionalEncoding(sequence_length, d_model)(inputs)\n",
    "    \n",
    "    for _ in range(num_layers):\n",
    "        x = transformer_block(x, d_model, num_heads, ff_dim, dropout_rate)\n",
    "    \n",
    "    x = layers.GlobalAveragePooling1D()(x)\n",
    "    x = layers.Dropout(dropout_rate)(x)\n",
    "    outputs = layers.Dense(num_classes, activation='softmax')(x)\n",
    "    return tf.keras.Model(inputs=inputs, outputs=outputs)\n",
    "\n",
    "model = create_model()\n",
    "model.summary()"
   ]
  },
  {
   "cell_type": "code",
   "execution_count": 21,
   "metadata": {},
   "outputs": [],
   "source": [
    "# 클래스 가중치 계산\n",
    "from sklearn.utils import class_weight\n",
    "\n",
    "class_weights = class_weight.compute_class_weight(\n",
    "    class_weight='balanced',\n",
    "    classes=np.unique(y_train),\n",
    "    y=y_train\n",
    ")\n",
    "\n",
    "class_weights = dict(enumerate(class_weights))"
   ]
  },
  {
   "cell_type": "code",
   "execution_count": 22,
   "metadata": {},
   "outputs": [],
   "source": [
    "# 모델 컴파일\n",
    "model.compile(\n",
    "    loss='sparse_categorical_crossentropy',\n",
    "    optimizer=tf.keras.optimizers.Adam(learning_rate=1e-4),\n",
    "    metrics=['accuracy']\n",
    ")"
   ]
  },
  {
   "cell_type": "code",
   "execution_count": 23,
   "metadata": {},
   "outputs": [],
   "source": [
    "# 모델 체크포인트 콜백 설정\n",
    "checkpoint_callback = tf.keras.callbacks.ModelCheckpoint(\n",
    "    filepath='./model_transformer2/best_model_2_01.h5',\n",
    "    monitor='val_loss',\n",
    "    save_best_only=True,\n",
    "    mode='min',\n",
    "    verbose=1\n",
    ")"
   ]
  },
  {
   "cell_type": "code",
   "execution_count": 24,
   "metadata": {},
   "outputs": [
    {
     "name": "stdout",
     "output_type": "stream",
     "text": [
      "Epoch 1/100\n",
      "4082/4084 [============================>.] - ETA: 0s - loss: 1.4821 - accuracy: 0.6062\n",
      "Epoch 1: val_loss improved from inf to 3.70544, saving model to ./model_transformer2\\best_model_2_01.h5\n",
      "4084/4084 [==============================] - 77s 18ms/step - loss: 1.4819 - accuracy: 0.6062 - val_loss: 3.7054 - val_accuracy: 0.0377\n",
      "Epoch 2/100\n",
      "4082/4084 [============================>.] - ETA: 0s - loss: 1.3014 - accuracy: 0.6469\n",
      "Epoch 2: val_loss improved from 3.70544 to 3.55941, saving model to ./model_transformer2\\best_model_2_01.h5\n",
      "4084/4084 [==============================] - 75s 18ms/step - loss: 1.3014 - accuracy: 0.6469 - val_loss: 3.5594 - val_accuracy: 0.0037\n",
      "Epoch 3/100\n",
      "4084/4084 [==============================] - ETA: 0s - loss: 1.2423 - accuracy: 0.6502\n",
      "Epoch 3: val_loss improved from 3.55941 to 3.37247, saving model to ./model_transformer2\\best_model_2_01.h5\n",
      "4084/4084 [==============================] - 74s 18ms/step - loss: 1.2423 - accuracy: 0.6502 - val_loss: 3.3725 - val_accuracy: 0.0054\n",
      "Epoch 4/100\n",
      "4082/4084 [============================>.] - ETA: 0s - loss: 1.2206 - accuracy: 0.6576\n",
      "Epoch 4: val_loss improved from 3.37247 to 3.13503, saving model to ./model_transformer2\\best_model_2_01.h5\n",
      "4084/4084 [==============================] - 72s 18ms/step - loss: 1.2205 - accuracy: 0.6576 - val_loss: 3.1350 - val_accuracy: 0.0047\n",
      "Epoch 5/100\n",
      "4083/4084 [============================>.] - ETA: 0s - loss: 1.2063 - accuracy: 0.6540\n",
      "Epoch 5: val_loss improved from 3.13503 to 3.12687, saving model to ./model_transformer2\\best_model_2_01.h5\n",
      "4084/4084 [==============================] - 71s 17ms/step - loss: 1.2062 - accuracy: 0.6540 - val_loss: 3.1269 - val_accuracy: 0.0073\n",
      "Epoch 6/100\n",
      "4083/4084 [============================>.] - ETA: 0s - loss: 1.1880 - accuracy: 0.6598\n",
      "Epoch 6: val_loss improved from 3.12687 to 3.12642, saving model to ./model_transformer2\\best_model_2_01.h5\n",
      "4084/4084 [==============================] - 72s 18ms/step - loss: 1.1880 - accuracy: 0.6598 - val_loss: 3.1264 - val_accuracy: 0.0049\n",
      "Epoch 7/100\n",
      "4084/4084 [==============================] - ETA: 0s - loss: 1.1908 - accuracy: 0.6578\n",
      "Epoch 7: val_loss improved from 3.12642 to 3.07055, saving model to ./model_transformer2\\best_model_2_01.h5\n",
      "4084/4084 [==============================] - 72s 18ms/step - loss: 1.1908 - accuracy: 0.6578 - val_loss: 3.0706 - val_accuracy: 0.0111\n",
      "Epoch 8/100\n",
      "4082/4084 [============================>.] - ETA: 0s - loss: 1.1749 - accuracy: 0.6599\n",
      "Epoch 8: val_loss did not improve from 3.07055\n",
      "4084/4084 [==============================] - 71s 17ms/step - loss: 1.1747 - accuracy: 0.6599 - val_loss: 3.1081 - val_accuracy: 0.0047\n",
      "Epoch 9/100\n",
      "4084/4084 [==============================] - ETA: 0s - loss: 1.1764 - accuracy: 0.6600\n",
      "Epoch 9: val_loss improved from 3.07055 to 2.99039, saving model to ./model_transformer2\\best_model_2_01.h5\n",
      "4084/4084 [==============================] - 72s 18ms/step - loss: 1.1764 - accuracy: 0.6600 - val_loss: 2.9904 - val_accuracy: 0.0082\n",
      "Epoch 10/100\n",
      "4083/4084 [============================>.] - ETA: 0s - loss: 1.1741 - accuracy: 0.6608\n",
      "Epoch 10: val_loss did not improve from 2.99039\n",
      "4084/4084 [==============================] - 73s 18ms/step - loss: 1.1741 - accuracy: 0.6608 - val_loss: 3.1097 - val_accuracy: 0.0081\n",
      "Epoch 11/100\n",
      "4084/4084 [==============================] - ETA: 0s - loss: 1.1655 - accuracy: 0.6623\n",
      "Epoch 11: val_loss improved from 2.99039 to 2.90822, saving model to ./model_transformer2\\best_model_2_01.h5\n",
      "4084/4084 [==============================] - 73s 18ms/step - loss: 1.1655 - accuracy: 0.6623 - val_loss: 2.9082 - val_accuracy: 0.0068\n",
      "Epoch 12/100\n",
      "4083/4084 [============================>.] - ETA: 0s - loss: 1.1649 - accuracy: 0.6596\n",
      "Epoch 12: val_loss did not improve from 2.90822\n",
      "4084/4084 [==============================] - 74s 18ms/step - loss: 1.1650 - accuracy: 0.6596 - val_loss: 2.9936 - val_accuracy: 0.0122\n",
      "Epoch 13/100\n",
      "4083/4084 [============================>.] - ETA: 0s - loss: 1.1569 - accuracy: 0.6620\n",
      "Epoch 13: val_loss improved from 2.90822 to 2.85504, saving model to ./model_transformer2\\best_model_2_01.h5\n",
      "4084/4084 [==============================] - 76s 19ms/step - loss: 1.1568 - accuracy: 0.6620 - val_loss: 2.8550 - val_accuracy: 0.0088\n",
      "Epoch 14/100\n",
      "4082/4084 [============================>.] - ETA: 0s - loss: 1.1595 - accuracy: 0.6583\n",
      "Epoch 14: val_loss improved from 2.85504 to 2.72567, saving model to ./model_transformer2\\best_model_2_01.h5\n",
      "4084/4084 [==============================] - 73s 18ms/step - loss: 1.1593 - accuracy: 0.6583 - val_loss: 2.7257 - val_accuracy: 0.0189\n",
      "Epoch 15/100\n",
      "4084/4084 [==============================] - ETA: 0s - loss: 1.1467 - accuracy: 0.6633\n",
      "Epoch 15: val_loss did not improve from 2.72567\n",
      "4084/4084 [==============================] - 72s 18ms/step - loss: 1.1467 - accuracy: 0.6633 - val_loss: 2.8414 - val_accuracy: 0.0089\n",
      "Epoch 16/100\n",
      "4084/4084 [==============================] - ETA: 0s - loss: 1.1484 - accuracy: 0.6628\n",
      "Epoch 16: val_loss improved from 2.72567 to 2.63065, saving model to ./model_transformer2\\best_model_2_01.h5\n",
      "4084/4084 [==============================] - 71s 17ms/step - loss: 1.1484 - accuracy: 0.6628 - val_loss: 2.6306 - val_accuracy: 0.0149\n",
      "Epoch 17/100\n",
      "4083/4084 [============================>.] - ETA: 0s - loss: 1.1460 - accuracy: 0.6611\n",
      "Epoch 17: val_loss improved from 2.63065 to 2.61015, saving model to ./model_transformer2\\best_model_2_01.h5\n",
      "4084/4084 [==============================] - 74s 18ms/step - loss: 1.1459 - accuracy: 0.6611 - val_loss: 2.6101 - val_accuracy: 0.0122\n",
      "Epoch 18/100\n",
      "4083/4084 [============================>.] - ETA: 0s - loss: 1.1313 - accuracy: 0.6600\n",
      "Epoch 18: val_loss did not improve from 2.61015\n",
      "4084/4084 [==============================] - 73s 18ms/step - loss: 1.1313 - accuracy: 0.6600 - val_loss: 2.6443 - val_accuracy: 0.0132\n",
      "Epoch 19/100\n",
      "4081/4084 [============================>.] - ETA: 0s - loss: 1.1246 - accuracy: 0.6628\n",
      "Epoch 19: val_loss improved from 2.61015 to 2.40298, saving model to ./model_transformer2\\best_model_2_01.h5\n",
      "4084/4084 [==============================] - 74s 18ms/step - loss: 1.1245 - accuracy: 0.6628 - val_loss: 2.4030 - val_accuracy: 0.0121\n",
      "Epoch 20/100\n",
      "4084/4084 [==============================] - ETA: 0s - loss: 1.1290 - accuracy: 0.6576\n",
      "Epoch 20: val_loss did not improve from 2.40298\n",
      "4084/4084 [==============================] - 75s 18ms/step - loss: 1.1290 - accuracy: 0.6576 - val_loss: 2.4775 - val_accuracy: 0.0142\n",
      "Epoch 21/100\n",
      "4084/4084 [==============================] - ETA: 0s - loss: 1.1248 - accuracy: 0.6632\n",
      "Epoch 21: val_loss did not improve from 2.40298\n",
      "4084/4084 [==============================] - 76s 19ms/step - loss: 1.1248 - accuracy: 0.6632 - val_loss: 2.4833 - val_accuracy: 0.0121\n",
      "Epoch 22/100\n",
      "4083/4084 [============================>.] - ETA: 0s - loss: 1.1269 - accuracy: 0.6629\n",
      "Epoch 22: val_loss did not improve from 2.40298\n",
      "4084/4084 [==============================] - 76s 19ms/step - loss: 1.1269 - accuracy: 0.6629 - val_loss: 2.4829 - val_accuracy: 0.0110\n",
      "Epoch 23/100\n",
      "4083/4084 [============================>.] - ETA: 0s - loss: 1.1189 - accuracy: 0.6628\n",
      "Epoch 23: val_loss improved from 2.40298 to 2.20063, saving model to ./model_transformer2\\best_model_2_01.h5\n",
      "4084/4084 [==============================] - 76s 19ms/step - loss: 1.1188 - accuracy: 0.6628 - val_loss: 2.2006 - val_accuracy: 0.0171\n",
      "Epoch 24/100\n",
      "4082/4084 [============================>.] - ETA: 0s - loss: 1.1200 - accuracy: 0.6543\n",
      "Epoch 24: val_loss improved from 2.20063 to 2.13343, saving model to ./model_transformer2\\best_model_2_01.h5\n",
      "4084/4084 [==============================] - 76s 19ms/step - loss: 1.1199 - accuracy: 0.6542 - val_loss: 2.1334 - val_accuracy: 0.0192\n",
      "Epoch 25/100\n",
      "4084/4084 [==============================] - ETA: 0s - loss: 1.1107 - accuracy: 0.6604\n",
      "Epoch 25: val_loss improved from 2.13343 to 2.10365, saving model to ./model_transformer2\\best_model_2_01.h5\n",
      "4084/4084 [==============================] - 75s 18ms/step - loss: 1.1107 - accuracy: 0.6604 - val_loss: 2.1037 - val_accuracy: 0.0134\n",
      "Epoch 26/100\n",
      "4083/4084 [============================>.] - ETA: 0s - loss: 1.1131 - accuracy: 0.6593\n",
      "Epoch 26: val_loss improved from 2.10365 to 1.91990, saving model to ./model_transformer2\\best_model_2_01.h5\n",
      "4084/4084 [==============================] - 76s 19ms/step - loss: 1.1140 - accuracy: 0.6593 - val_loss: 1.9199 - val_accuracy: 0.1249\n",
      "Epoch 27/100\n",
      "4083/4084 [============================>.] - ETA: 0s - loss: 1.1066 - accuracy: 0.6499\n",
      "Epoch 27: val_loss did not improve from 1.91990\n",
      "4084/4084 [==============================] - 72s 18ms/step - loss: 1.1065 - accuracy: 0.6499 - val_loss: 1.9538 - val_accuracy: 0.0532\n",
      "Epoch 28/100\n",
      "4081/4084 [============================>.] - ETA: 0s - loss: 1.1024 - accuracy: 0.6629\n",
      "Epoch 28: val_loss did not improve from 1.91990\n",
      "4084/4084 [==============================] - 73s 18ms/step - loss: 1.1034 - accuracy: 0.6629 - val_loss: 2.1607 - val_accuracy: 0.0123\n",
      "Epoch 29/100\n",
      "4082/4084 [============================>.] - ETA: 0s - loss: 1.1057 - accuracy: 0.6630\n",
      "Epoch 29: val_loss did not improve from 1.91990\n",
      "4084/4084 [==============================] - 75s 18ms/step - loss: 1.1056 - accuracy: 0.6630 - val_loss: 1.9706 - val_accuracy: 0.2483\n",
      "Epoch 30/100\n",
      "4082/4084 [============================>.] - ETA: 0s - loss: 1.1111 - accuracy: 0.6632\n",
      "Epoch 30: val_loss did not improve from 1.91990\n",
      "4084/4084 [==============================] - 76s 19ms/step - loss: 1.1110 - accuracy: 0.6632 - val_loss: 1.9594 - val_accuracy: 0.1974\n",
      "Epoch 31/100\n",
      "4083/4084 [============================>.] - ETA: 0s - loss: 1.1115 - accuracy: 0.6573\n",
      "Epoch 31: val_loss did not improve from 1.91990\n",
      "4084/4084 [==============================] - 74s 18ms/step - loss: 1.1114 - accuracy: 0.6573 - val_loss: 1.9436 - val_accuracy: 0.2258\n"
     ]
    }
   ],
   "source": [
    "# 모델 학습\n",
    "callbacks = [\n",
    "    tf.keras.callbacks.EarlyStopping(patience=5, restore_best_weights=True),\n",
    "    checkpoint_callback\n",
    "]\n",
    "\n",
    "history = model.fit(\n",
    "    X_train, y_train,\n",
    "    validation_data=(X_val, y_val),\n",
    "    epochs=100,\n",
    "    batch_size=32,\n",
    "    callbacks=callbacks,\n",
    "    class_weight=class_weights\n",
    ")"
   ]
  },
  {
   "cell_type": "code",
   "execution_count": 25,
   "metadata": {},
   "outputs": [
    {
     "name": "stdout",
     "output_type": "stream",
     "text": [
      "875/875 [==============================] - 7s 8ms/step - loss: 1.4994 - accuracy: 0.3742\n",
      "Test Accuracy: 0.3742\n",
      "875/875 [==============================] - 4s 4ms/step\n",
      "              precision    recall  f1-score   support\n",
      "\n",
      "           0       0.02      0.24      0.03       136\n",
      "           1       0.00      0.00      0.00       257\n",
      "           2       0.99      0.38      0.55     27174\n",
      "           3       0.00      0.00      0.00       271\n",
      "           4       0.01      0.61      0.01       162\n",
      "\n",
      "    accuracy                           0.37     28000\n",
      "   macro avg       0.20      0.25      0.12     28000\n",
      "weighted avg       0.96      0.37      0.53     28000\n",
      "\n"
     ]
    },
    {
     "name": "stderr",
     "output_type": "stream",
     "text": [
      "c:\\ProgramData\\anaconda3\\envs\\final_tensorflow\\lib\\site-packages\\sklearn\\metrics\\_classification.py:1471: UndefinedMetricWarning: Precision and F-score are ill-defined and being set to 0.0 in labels with no predicted samples. Use `zero_division` parameter to control this behavior.\n",
      "  _warn_prf(average, modifier, msg_start, len(result))\n",
      "c:\\ProgramData\\anaconda3\\envs\\final_tensorflow\\lib\\site-packages\\sklearn\\metrics\\_classification.py:1471: UndefinedMetricWarning: Precision and F-score are ill-defined and being set to 0.0 in labels with no predicted samples. Use `zero_division` parameter to control this behavior.\n",
      "  _warn_prf(average, modifier, msg_start, len(result))\n",
      "c:\\ProgramData\\anaconda3\\envs\\final_tensorflow\\lib\\site-packages\\sklearn\\metrics\\_classification.py:1471: UndefinedMetricWarning: Precision and F-score are ill-defined and being set to 0.0 in labels with no predicted samples. Use `zero_division` parameter to control this behavior.\n",
      "  _warn_prf(average, modifier, msg_start, len(result))\n"
     ]
    }
   ],
   "source": [
    "# 모델 평가\n",
    "test_loss, test_acc = model.evaluate(X_test, y_test)\n",
    "print(f'Test Accuracy: {test_acc:.4f}')\n",
    "\n",
    "# 자세한 성능 평가\n",
    "y_pred = model.predict(X_test)\n",
    "y_pred_classes = np.argmax(y_pred, axis=1)\n",
    "\n",
    "from sklearn.metrics import classification_report\n",
    "print(classification_report(y_test, y_pred_classes))"
   ]
  },
  {
   "cell_type": "code",
   "execution_count": 26,
   "metadata": {},
   "outputs": [
    {
     "name": "stdout",
     "output_type": "stream",
     "text": [
      "클래스 분포: {0: 94, 1: 12466, 2: 105562, 3: 12263, 4: 276}\n"
     ]
    }
   ],
   "source": [
    "import numpy as np\n",
    "\n",
    "unique, counts = np.unique(y_train, return_counts=True)\n",
    "print(\"클래스 분포:\", dict(zip(unique, counts)))"
   ]
  },
  {
   "cell_type": "code",
   "execution_count": 29,
   "metadata": {},
   "outputs": [
    {
     "data": {
      "image/png": "[encoded data removed]",
      "text/plain": [
       "<Figure size 640x480 with 2 Axes>"
      ]
     },
     "metadata": {},
     "output_type": "display_data"
    }
   ],
   "source": [
    "import matplotlib.pyplot as plt\n",
    "# 혼동 행렬 계산 및 시각화\n",
    "cm = confusion_matrix(y_test, y_pred_classes)\n",
    "disp = ConfusionMatrixDisplay(confusion_matrix=cm)\n",
    "disp.plot(cmap=plt.cm.Blues)\n",
    "plt.title(\"Confusion Matrix\")\n",
    "plt.show()"
   ]
  },
  {
   "cell_type": "code",
   "execution_count": 33,
   "metadata": {},
   "outputs": [
    {
     "ename": "ValueError",
     "evalue": "Unknown layer: PositionalEncoding. Please ensure this object is passed to the `custom_objects` argument. See https://www.tensorflow.org/guide/keras/save_and_serialize#registering_the_custom_object for details.",
     "output_type": "error",
     "traceback": [
      "\u001b[1;31m---------------------------------------------------------------------------\u001b[0m",
      "\u001b[1;31mValueError\u001b[0m                                Traceback (most recent call last)",
      "Cell \u001b[1;32mIn[33], line 1\u001b[0m\n\u001b[1;32m----> 1\u001b[0m best_model \u001b[38;5;241m=\u001b[39m \u001b[43mtf\u001b[49m\u001b[38;5;241;43m.\u001b[39;49m\u001b[43mkeras\u001b[49m\u001b[38;5;241;43m.\u001b[39;49m\u001b[43mmodels\u001b[49m\u001b[38;5;241;43m.\u001b[39;49m\u001b[43mload_model\u001b[49m\u001b[43m(\u001b[49m\u001b[38;5;124;43m'\u001b[39;49m\u001b[38;5;124;43m../Gina/model_transformer2/best_model_2_01.h5\u001b[39;49m\u001b[38;5;124;43m'\u001b[39;49m\u001b[43m)\u001b[49m\n",
      "File \u001b[1;32mc:\\ProgramData\\anaconda3\\envs\\final_tensorflow\\lib\\site-packages\\keras\\utils\\traceback_utils.py:70\u001b[0m, in \u001b[0;36mfilter_traceback.<locals>.error_handler\u001b[1;34m(*args, **kwargs)\u001b[0m\n\u001b[0;32m     67\u001b[0m     filtered_tb \u001b[38;5;241m=\u001b[39m _process_traceback_frames(e\u001b[38;5;241m.\u001b[39m__traceback__)\n\u001b[0;32m     68\u001b[0m     \u001b[38;5;66;03m# To get the full stack trace, call:\u001b[39;00m\n\u001b[0;32m     69\u001b[0m     \u001b[38;5;66;03m# `tf.debugging.disable_traceback_filtering()`\u001b[39;00m\n\u001b[1;32m---> 70\u001b[0m     \u001b[38;5;28;01mraise\u001b[39;00m e\u001b[38;5;241m.\u001b[39mwith_traceback(filtered_tb) \u001b[38;5;28;01mfrom\u001b[39;00m \u001b[38;5;28;01mNone\u001b[39;00m\n\u001b[0;32m     71\u001b[0m \u001b[38;5;28;01mfinally\u001b[39;00m:\n\u001b[0;32m     72\u001b[0m     \u001b[38;5;28;01mdel\u001b[39;00m filtered_tb\n",
      "File \u001b[1;32mc:\\ProgramData\\anaconda3\\envs\\final_tensorflow\\lib\\site-packages\\keras\\utils\\generic_utils.py:605\u001b[0m, in \u001b[0;36mclass_and_config_for_serialized_keras_object\u001b[1;34m(config, module_objects, custom_objects, printable_module_name)\u001b[0m\n\u001b[0;32m    603\u001b[0m \u001b[38;5;28mcls\u001b[39m \u001b[38;5;241m=\u001b[39m get_registered_object(class_name, custom_objects, module_objects)\n\u001b[0;32m    604\u001b[0m \u001b[38;5;28;01mif\u001b[39;00m \u001b[38;5;28mcls\u001b[39m \u001b[38;5;129;01mis\u001b[39;00m \u001b[38;5;28;01mNone\u001b[39;00m:\n\u001b[1;32m--> 605\u001b[0m     \u001b[38;5;28;01mraise\u001b[39;00m \u001b[38;5;167;01mValueError\u001b[39;00m(\n\u001b[0;32m    606\u001b[0m         \u001b[38;5;124mf\u001b[39m\u001b[38;5;124m\"\u001b[39m\u001b[38;5;124mUnknown \u001b[39m\u001b[38;5;132;01m{\u001b[39;00mprintable_module_name\u001b[38;5;132;01m}\u001b[39;00m\u001b[38;5;124m: \u001b[39m\u001b[38;5;132;01m{\u001b[39;00mclass_name\u001b[38;5;132;01m}\u001b[39;00m\u001b[38;5;124m. \u001b[39m\u001b[38;5;124m\"\u001b[39m\n\u001b[0;32m    607\u001b[0m         \u001b[38;5;124m\"\u001b[39m\u001b[38;5;124mPlease ensure this \u001b[39m\u001b[38;5;124m\"\u001b[39m\n\u001b[0;32m    608\u001b[0m         \u001b[38;5;124m\"\u001b[39m\u001b[38;5;124mobject is passed to the `custom_objects` argument. See \u001b[39m\u001b[38;5;124m\"\u001b[39m\n\u001b[0;32m    609\u001b[0m         \u001b[38;5;124m\"\u001b[39m\u001b[38;5;124mhttps://www.tensorflow.org/guide/keras/save_and_serialize\u001b[39m\u001b[38;5;124m\"\u001b[39m\n\u001b[0;32m    610\u001b[0m         \u001b[38;5;124m\"\u001b[39m\u001b[38;5;124m#registering_the_custom_object for details.\u001b[39m\u001b[38;5;124m\"\u001b[39m\n\u001b[0;32m    611\u001b[0m     )\n\u001b[0;32m    613\u001b[0m cls_config \u001b[38;5;241m=\u001b[39m config[\u001b[38;5;124m\"\u001b[39m\u001b[38;5;124mconfig\u001b[39m\u001b[38;5;124m\"\u001b[39m]\n\u001b[0;32m    614\u001b[0m \u001b[38;5;66;03m# Check if `cls_config` is a list. If it is a list, return the class and the\u001b[39;00m\n\u001b[0;32m    615\u001b[0m \u001b[38;5;66;03m# associated class configs for recursively deserialization. This case will\u001b[39;00m\n\u001b[0;32m    616\u001b[0m \u001b[38;5;66;03m# happen on the old version of sequential model (e.g. `keras_version` ==\u001b[39;00m\n\u001b[0;32m    617\u001b[0m \u001b[38;5;66;03m# \"2.0.6\"), which is serialized in a different structure, for example\u001b[39;00m\n\u001b[0;32m    618\u001b[0m \u001b[38;5;66;03m# \"{'class_name': 'Sequential',\u001b[39;00m\n\u001b[0;32m    619\u001b[0m \u001b[38;5;66;03m#   'config': [{'class_name': 'Embedding', 'config': ...}, {}, ...]}\".\u001b[39;00m\n",
      "\u001b[1;31mValueError\u001b[0m: Unknown layer: PositionalEncoding. Please ensure this object is passed to the `custom_objects` argument. See https://www.tensorflow.org/guide/keras/save_and_serialize#registering_the_custom_object for details."
     ]
    }
   ],
   "source": [
    "best_model = tf.keras.models.load_model('../Gina/model_transformer2/best_model_2_01.h5')"
   ]
  },
  {
   "cell_type": "code",
   "execution_count": null,
   "metadata": {},
   "outputs": [],
   "source": []
  }
 ],
 "metadata": {
  "kernelspec": {
   "display_name": "final",
   "language": "python",
   "name": "python3"
  },
  "language_info": {
   "codemirror_mode": {
    "name": "ipython",
    "version": 3
   },
   "file_extension": ".py",
   "mimetype": "text/x-python",
   "name": "python",
   "nbconvert_exporter": "python",
   "pygments_lexer": "ipython3",
   "version": "3.8.19"
  }
 },
 "nbformat": 4,
 "nbformat_minor": 2
}
